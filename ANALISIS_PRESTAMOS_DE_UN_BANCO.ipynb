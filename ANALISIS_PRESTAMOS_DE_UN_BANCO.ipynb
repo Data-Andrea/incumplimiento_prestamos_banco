{
 "cells": [
  {
   "cell_type": "markdown",
   "metadata": {},
   "source": [
    "# INTRODUCCIÓN.\n",
    "\n",
    "La presente base de datos, recopila información de los clientes de un banco. Entre los datos más relevantes se encuentran: estado civil, educación, edad, ingresos totales, tipo de ingreso, número de hijos e incumplimiento en préstamos del cliente.\n",
    "\n",
    "El objetivo de éste análisis, es comprobar si existe una relación entre el número de hijos y el estado civil de los clientes y el incumplimiento en los préstamos."
   ]
  },
  {
   "cell_type": "markdown",
   "metadata": {},
   "source": [
    "# Contenido del proyecto <a id='back'></a>\n",
    "\n",
    "* Etapa 1. Información general de los datos.\n",
    "* Etapa 2. Exploración de datos.\n",
    "* Etapa 3. Transformación de datos.\n",
    "    * 3.1 Restaurar valores ausentes en total_income.\n",
    "    * 3.2 Restaurar valores ausentes en days_imployed.\n",
    "* Etapa 4. Clasificación de datos.\n",
    "* Etapa 5. Comprobación de la hipótesis.\n",
    "* Etapa 6. Conclusiones."
   ]
  },
  {
   "cell_type": "markdown",
   "metadata": {},
   "source": [
    "## Información general de los datos."
   ]
  },
  {
   "cell_type": "markdown",
   "metadata": {},
   "source": [
    "Se importa librería pandas y se cargan los datos."
   ]
  },
  {
   "cell_type": "code",
   "execution_count": 1,
   "metadata": {},
   "outputs": [],
   "source": [
    "import pandas as pd"
   ]
  },
  {
   "cell_type": "code",
   "execution_count": 2,
   "metadata": {},
   "outputs": [],
   "source": [
    "credit=pd.read_csv(\"/datasets/credit_scoring_eng.csv\")"
   ]
  },
  {
   "cell_type": "markdown",
   "metadata": {},
   "source": [
    "##  Exploración de datos\n",
    "\n",
    "**Descripción de los datos**\n",
    "- `children` - el número de hijos en la familia\n",
    "- `days_employed` - experiencia laboral en días\n",
    "- `dob_years` - la edad del cliente en años\n",
    "- `education` - la educación del cliente\n",
    "- `education_id` - identificador de educación\n",
    "- `family_status` - estado civil\n",
    "- `family_status_id` - identificador de estado civil\n",
    "- `gender` - género del cliente\n",
    "- `income_type` - tipo de empleo\n",
    "- `debt` - ¿había alguna deuda en el pago de un préstamo?\n",
    "- `total_income` - ingreso mensual\n",
    "- `purpose` - el propósito de obtener un préstamo\n"
   ]
  },
  {
   "cell_type": "code",
   "execution_count": 3,
   "metadata": {},
   "outputs": [
    {
     "name": "stdout",
     "output_type": "stream",
     "text": [
      "<class 'pandas.core.frame.DataFrame'>\n",
      "RangeIndex: 21525 entries, 0 to 21524\n",
      "Data columns (total 12 columns):\n",
      " #   Column            Non-Null Count  Dtype  \n",
      "---  ------            --------------  -----  \n",
      " 0   children          21525 non-null  int64  \n",
      " 1   days_employed     19351 non-null  float64\n",
      " 2   dob_years         21525 non-null  int64  \n",
      " 3   education         21525 non-null  object \n",
      " 4   education_id      21525 non-null  int64  \n",
      " 5   family_status     21525 non-null  object \n",
      " 6   family_status_id  21525 non-null  int64  \n",
      " 7   gender            21525 non-null  object \n",
      " 8   income_type       21525 non-null  object \n",
      " 9   debt              21525 non-null  int64  \n",
      " 10  total_income      19351 non-null  float64\n",
      " 11  purpose           21525 non-null  object \n",
      "dtypes: float64(2), int64(5), object(5)\n",
      "memory usage: 2.0+ MB\n"
     ]
    }
   ],
   "source": [
    "credit.info() #obtener información sobre los datos"
   ]
  },
  {
   "cell_type": "code",
   "execution_count": 4,
   "metadata": {
    "scrolled": true
   },
   "outputs": [
    {
     "data": {
      "text/html": [
       "<div>\n",
       "<style scoped>\n",
       "    .dataframe tbody tr th:only-of-type {\n",
       "        vertical-align: middle;\n",
       "    }\n",
       "\n",
       "    .dataframe tbody tr th {\n",
       "        vertical-align: top;\n",
       "    }\n",
       "\n",
       "    .dataframe thead th {\n",
       "        text-align: right;\n",
       "    }\n",
       "</style>\n",
       "<table border=\"1\" class=\"dataframe\">\n",
       "  <thead>\n",
       "    <tr style=\"text-align: right;\">\n",
       "      <th></th>\n",
       "      <th>children</th>\n",
       "      <th>days_employed</th>\n",
       "      <th>dob_years</th>\n",
       "      <th>education</th>\n",
       "      <th>education_id</th>\n",
       "      <th>family_status</th>\n",
       "      <th>family_status_id</th>\n",
       "      <th>gender</th>\n",
       "      <th>income_type</th>\n",
       "      <th>debt</th>\n",
       "      <th>total_income</th>\n",
       "      <th>purpose</th>\n",
       "    </tr>\n",
       "  </thead>\n",
       "  <tbody>\n",
       "    <tr>\n",
       "      <th>0</th>\n",
       "      <td>1</td>\n",
       "      <td>-8437.673028</td>\n",
       "      <td>42</td>\n",
       "      <td>bachelor's degree</td>\n",
       "      <td>0</td>\n",
       "      <td>married</td>\n",
       "      <td>0</td>\n",
       "      <td>F</td>\n",
       "      <td>employee</td>\n",
       "      <td>0</td>\n",
       "      <td>40620.102</td>\n",
       "      <td>purchase of the house</td>\n",
       "    </tr>\n",
       "    <tr>\n",
       "      <th>1</th>\n",
       "      <td>1</td>\n",
       "      <td>-4024.803754</td>\n",
       "      <td>36</td>\n",
       "      <td>secondary education</td>\n",
       "      <td>1</td>\n",
       "      <td>married</td>\n",
       "      <td>0</td>\n",
       "      <td>F</td>\n",
       "      <td>employee</td>\n",
       "      <td>0</td>\n",
       "      <td>17932.802</td>\n",
       "      <td>car purchase</td>\n",
       "    </tr>\n",
       "    <tr>\n",
       "      <th>2</th>\n",
       "      <td>0</td>\n",
       "      <td>-5623.422610</td>\n",
       "      <td>33</td>\n",
       "      <td>Secondary Education</td>\n",
       "      <td>1</td>\n",
       "      <td>married</td>\n",
       "      <td>0</td>\n",
       "      <td>M</td>\n",
       "      <td>employee</td>\n",
       "      <td>0</td>\n",
       "      <td>23341.752</td>\n",
       "      <td>purchase of the house</td>\n",
       "    </tr>\n",
       "    <tr>\n",
       "      <th>3</th>\n",
       "      <td>3</td>\n",
       "      <td>-4124.747207</td>\n",
       "      <td>32</td>\n",
       "      <td>secondary education</td>\n",
       "      <td>1</td>\n",
       "      <td>married</td>\n",
       "      <td>0</td>\n",
       "      <td>M</td>\n",
       "      <td>employee</td>\n",
       "      <td>0</td>\n",
       "      <td>42820.568</td>\n",
       "      <td>supplementary education</td>\n",
       "    </tr>\n",
       "    <tr>\n",
       "      <th>4</th>\n",
       "      <td>0</td>\n",
       "      <td>340266.072047</td>\n",
       "      <td>53</td>\n",
       "      <td>secondary education</td>\n",
       "      <td>1</td>\n",
       "      <td>civil partnership</td>\n",
       "      <td>1</td>\n",
       "      <td>F</td>\n",
       "      <td>retiree</td>\n",
       "      <td>0</td>\n",
       "      <td>25378.572</td>\n",
       "      <td>to have a wedding</td>\n",
       "    </tr>\n",
       "    <tr>\n",
       "      <th>5</th>\n",
       "      <td>0</td>\n",
       "      <td>-926.185831</td>\n",
       "      <td>27</td>\n",
       "      <td>bachelor's degree</td>\n",
       "      <td>0</td>\n",
       "      <td>civil partnership</td>\n",
       "      <td>1</td>\n",
       "      <td>M</td>\n",
       "      <td>business</td>\n",
       "      <td>0</td>\n",
       "      <td>40922.170</td>\n",
       "      <td>purchase of the house</td>\n",
       "    </tr>\n",
       "    <tr>\n",
       "      <th>6</th>\n",
       "      <td>0</td>\n",
       "      <td>-2879.202052</td>\n",
       "      <td>43</td>\n",
       "      <td>bachelor's degree</td>\n",
       "      <td>0</td>\n",
       "      <td>married</td>\n",
       "      <td>0</td>\n",
       "      <td>F</td>\n",
       "      <td>business</td>\n",
       "      <td>0</td>\n",
       "      <td>38484.156</td>\n",
       "      <td>housing transactions</td>\n",
       "    </tr>\n",
       "    <tr>\n",
       "      <th>7</th>\n",
       "      <td>0</td>\n",
       "      <td>-152.779569</td>\n",
       "      <td>50</td>\n",
       "      <td>SECONDARY EDUCATION</td>\n",
       "      <td>1</td>\n",
       "      <td>married</td>\n",
       "      <td>0</td>\n",
       "      <td>M</td>\n",
       "      <td>employee</td>\n",
       "      <td>0</td>\n",
       "      <td>21731.829</td>\n",
       "      <td>education</td>\n",
       "    </tr>\n",
       "    <tr>\n",
       "      <th>8</th>\n",
       "      <td>2</td>\n",
       "      <td>-6929.865299</td>\n",
       "      <td>35</td>\n",
       "      <td>BACHELOR'S DEGREE</td>\n",
       "      <td>0</td>\n",
       "      <td>civil partnership</td>\n",
       "      <td>1</td>\n",
       "      <td>F</td>\n",
       "      <td>employee</td>\n",
       "      <td>0</td>\n",
       "      <td>15337.093</td>\n",
       "      <td>having a wedding</td>\n",
       "    </tr>\n",
       "    <tr>\n",
       "      <th>9</th>\n",
       "      <td>0</td>\n",
       "      <td>-2188.756445</td>\n",
       "      <td>41</td>\n",
       "      <td>secondary education</td>\n",
       "      <td>1</td>\n",
       "      <td>married</td>\n",
       "      <td>0</td>\n",
       "      <td>M</td>\n",
       "      <td>employee</td>\n",
       "      <td>0</td>\n",
       "      <td>23108.150</td>\n",
       "      <td>purchase of the house for my family</td>\n",
       "    </tr>\n",
       "    <tr>\n",
       "      <th>10</th>\n",
       "      <td>2</td>\n",
       "      <td>-4171.483647</td>\n",
       "      <td>36</td>\n",
       "      <td>bachelor's degree</td>\n",
       "      <td>0</td>\n",
       "      <td>married</td>\n",
       "      <td>0</td>\n",
       "      <td>M</td>\n",
       "      <td>business</td>\n",
       "      <td>0</td>\n",
       "      <td>18230.959</td>\n",
       "      <td>buy real estate</td>\n",
       "    </tr>\n",
       "    <tr>\n",
       "      <th>11</th>\n",
       "      <td>0</td>\n",
       "      <td>-792.701887</td>\n",
       "      <td>40</td>\n",
       "      <td>secondary education</td>\n",
       "      <td>1</td>\n",
       "      <td>married</td>\n",
       "      <td>0</td>\n",
       "      <td>F</td>\n",
       "      <td>employee</td>\n",
       "      <td>0</td>\n",
       "      <td>12331.077</td>\n",
       "      <td>buy commercial real estate</td>\n",
       "    </tr>\n",
       "    <tr>\n",
       "      <th>12</th>\n",
       "      <td>0</td>\n",
       "      <td>NaN</td>\n",
       "      <td>65</td>\n",
       "      <td>secondary education</td>\n",
       "      <td>1</td>\n",
       "      <td>civil partnership</td>\n",
       "      <td>1</td>\n",
       "      <td>M</td>\n",
       "      <td>retiree</td>\n",
       "      <td>0</td>\n",
       "      <td>NaN</td>\n",
       "      <td>to have a wedding</td>\n",
       "    </tr>\n",
       "    <tr>\n",
       "      <th>13</th>\n",
       "      <td>0</td>\n",
       "      <td>-1846.641941</td>\n",
       "      <td>54</td>\n",
       "      <td>some college</td>\n",
       "      <td>2</td>\n",
       "      <td>married</td>\n",
       "      <td>0</td>\n",
       "      <td>F</td>\n",
       "      <td>employee</td>\n",
       "      <td>0</td>\n",
       "      <td>20873.317</td>\n",
       "      <td>car purchase</td>\n",
       "    </tr>\n",
       "    <tr>\n",
       "      <th>14</th>\n",
       "      <td>0</td>\n",
       "      <td>-1844.956182</td>\n",
       "      <td>56</td>\n",
       "      <td>bachelor's degree</td>\n",
       "      <td>0</td>\n",
       "      <td>civil partnership</td>\n",
       "      <td>1</td>\n",
       "      <td>F</td>\n",
       "      <td>business</td>\n",
       "      <td>1</td>\n",
       "      <td>26420.466</td>\n",
       "      <td>buy residential real estate</td>\n",
       "    </tr>\n",
       "    <tr>\n",
       "      <th>15</th>\n",
       "      <td>1</td>\n",
       "      <td>-972.364419</td>\n",
       "      <td>26</td>\n",
       "      <td>secondary education</td>\n",
       "      <td>1</td>\n",
       "      <td>married</td>\n",
       "      <td>0</td>\n",
       "      <td>F</td>\n",
       "      <td>employee</td>\n",
       "      <td>0</td>\n",
       "      <td>18691.345</td>\n",
       "      <td>construction of own property</td>\n",
       "    </tr>\n",
       "    <tr>\n",
       "      <th>16</th>\n",
       "      <td>0</td>\n",
       "      <td>-1719.934226</td>\n",
       "      <td>35</td>\n",
       "      <td>secondary education</td>\n",
       "      <td>1</td>\n",
       "      <td>married</td>\n",
       "      <td>0</td>\n",
       "      <td>F</td>\n",
       "      <td>employee</td>\n",
       "      <td>0</td>\n",
       "      <td>46272.433</td>\n",
       "      <td>property</td>\n",
       "    </tr>\n",
       "    <tr>\n",
       "      <th>17</th>\n",
       "      <td>0</td>\n",
       "      <td>-2369.999720</td>\n",
       "      <td>33</td>\n",
       "      <td>bachelor's degree</td>\n",
       "      <td>0</td>\n",
       "      <td>civil partnership</td>\n",
       "      <td>1</td>\n",
       "      <td>M</td>\n",
       "      <td>employee</td>\n",
       "      <td>0</td>\n",
       "      <td>14465.694</td>\n",
       "      <td>building a property</td>\n",
       "    </tr>\n",
       "    <tr>\n",
       "      <th>18</th>\n",
       "      <td>0</td>\n",
       "      <td>400281.136913</td>\n",
       "      <td>53</td>\n",
       "      <td>secondary education</td>\n",
       "      <td>1</td>\n",
       "      <td>widow / widower</td>\n",
       "      <td>2</td>\n",
       "      <td>F</td>\n",
       "      <td>retiree</td>\n",
       "      <td>0</td>\n",
       "      <td>9091.804</td>\n",
       "      <td>buying a second-hand car</td>\n",
       "    </tr>\n",
       "    <tr>\n",
       "      <th>19</th>\n",
       "      <td>0</td>\n",
       "      <td>-10038.818549</td>\n",
       "      <td>48</td>\n",
       "      <td>SECONDARY EDUCATION</td>\n",
       "      <td>1</td>\n",
       "      <td>divorced</td>\n",
       "      <td>3</td>\n",
       "      <td>F</td>\n",
       "      <td>employee</td>\n",
       "      <td>0</td>\n",
       "      <td>38852.977</td>\n",
       "      <td>buying my own car</td>\n",
       "    </tr>\n",
       "    <tr>\n",
       "      <th>20</th>\n",
       "      <td>1</td>\n",
       "      <td>-1311.604166</td>\n",
       "      <td>36</td>\n",
       "      <td>secondary education</td>\n",
       "      <td>1</td>\n",
       "      <td>married</td>\n",
       "      <td>0</td>\n",
       "      <td>M</td>\n",
       "      <td>employee</td>\n",
       "      <td>0</td>\n",
       "      <td>33528.423</td>\n",
       "      <td>property</td>\n",
       "    </tr>\n",
       "    <tr>\n",
       "      <th>21</th>\n",
       "      <td>1</td>\n",
       "      <td>-253.685166</td>\n",
       "      <td>33</td>\n",
       "      <td>secondary education</td>\n",
       "      <td>1</td>\n",
       "      <td>civil partnership</td>\n",
       "      <td>1</td>\n",
       "      <td>F</td>\n",
       "      <td>employee</td>\n",
       "      <td>0</td>\n",
       "      <td>21089.953</td>\n",
       "      <td>car purchase</td>\n",
       "    </tr>\n",
       "    <tr>\n",
       "      <th>22</th>\n",
       "      <td>1</td>\n",
       "      <td>-1766.644138</td>\n",
       "      <td>24</td>\n",
       "      <td>secondary education</td>\n",
       "      <td>1</td>\n",
       "      <td>civil partnership</td>\n",
       "      <td>1</td>\n",
       "      <td>F</td>\n",
       "      <td>employee</td>\n",
       "      <td>0</td>\n",
       "      <td>23948.983</td>\n",
       "      <td>buying a second-hand car</td>\n",
       "    </tr>\n",
       "    <tr>\n",
       "      <th>23</th>\n",
       "      <td>0</td>\n",
       "      <td>-272.981385</td>\n",
       "      <td>21</td>\n",
       "      <td>bachelor's degree</td>\n",
       "      <td>0</td>\n",
       "      <td>civil partnership</td>\n",
       "      <td>1</td>\n",
       "      <td>M</td>\n",
       "      <td>employee</td>\n",
       "      <td>0</td>\n",
       "      <td>20522.515</td>\n",
       "      <td>to have a wedding</td>\n",
       "    </tr>\n",
       "    <tr>\n",
       "      <th>24</th>\n",
       "      <td>1</td>\n",
       "      <td>338551.952911</td>\n",
       "      <td>57</td>\n",
       "      <td>secondary education</td>\n",
       "      <td>1</td>\n",
       "      <td>unmarried</td>\n",
       "      <td>4</td>\n",
       "      <td>F</td>\n",
       "      <td>retiree</td>\n",
       "      <td>0</td>\n",
       "      <td>46487.558</td>\n",
       "      <td>transactions with commercial real estate</td>\n",
       "    </tr>\n",
       "    <tr>\n",
       "      <th>25</th>\n",
       "      <td>0</td>\n",
       "      <td>363548.489348</td>\n",
       "      <td>67</td>\n",
       "      <td>secondary education</td>\n",
       "      <td>1</td>\n",
       "      <td>married</td>\n",
       "      <td>0</td>\n",
       "      <td>M</td>\n",
       "      <td>retiree</td>\n",
       "      <td>0</td>\n",
       "      <td>8818.041</td>\n",
       "      <td>buy real estate</td>\n",
       "    </tr>\n",
       "    <tr>\n",
       "      <th>26</th>\n",
       "      <td>0</td>\n",
       "      <td>NaN</td>\n",
       "      <td>41</td>\n",
       "      <td>secondary education</td>\n",
       "      <td>1</td>\n",
       "      <td>married</td>\n",
       "      <td>0</td>\n",
       "      <td>M</td>\n",
       "      <td>civil servant</td>\n",
       "      <td>0</td>\n",
       "      <td>NaN</td>\n",
       "      <td>education</td>\n",
       "    </tr>\n",
       "    <tr>\n",
       "      <th>27</th>\n",
       "      <td>0</td>\n",
       "      <td>-529.191635</td>\n",
       "      <td>28</td>\n",
       "      <td>bachelor's degree</td>\n",
       "      <td>0</td>\n",
       "      <td>married</td>\n",
       "      <td>0</td>\n",
       "      <td>M</td>\n",
       "      <td>employee</td>\n",
       "      <td>0</td>\n",
       "      <td>49415.837</td>\n",
       "      <td>construction of own property</td>\n",
       "    </tr>\n",
       "    <tr>\n",
       "      <th>28</th>\n",
       "      <td>1</td>\n",
       "      <td>-717.274324</td>\n",
       "      <td>26</td>\n",
       "      <td>bachelor's degree</td>\n",
       "      <td>0</td>\n",
       "      <td>married</td>\n",
       "      <td>0</td>\n",
       "      <td>F</td>\n",
       "      <td>employee</td>\n",
       "      <td>0</td>\n",
       "      <td>30058.118</td>\n",
       "      <td>construction of own property</td>\n",
       "    </tr>\n",
       "    <tr>\n",
       "      <th>29</th>\n",
       "      <td>0</td>\n",
       "      <td>NaN</td>\n",
       "      <td>63</td>\n",
       "      <td>secondary education</td>\n",
       "      <td>1</td>\n",
       "      <td>unmarried</td>\n",
       "      <td>4</td>\n",
       "      <td>F</td>\n",
       "      <td>retiree</td>\n",
       "      <td>0</td>\n",
       "      <td>NaN</td>\n",
       "      <td>building a real estate</td>\n",
       "    </tr>\n",
       "  </tbody>\n",
       "</table>\n",
       "</div>"
      ],
      "text/plain": [
       "    children  days_employed  dob_years            education  education_id  \\\n",
       "0          1   -8437.673028         42    bachelor's degree             0   \n",
       "1          1   -4024.803754         36  secondary education             1   \n",
       "2          0   -5623.422610         33  Secondary Education             1   \n",
       "3          3   -4124.747207         32  secondary education             1   \n",
       "4          0  340266.072047         53  secondary education             1   \n",
       "5          0    -926.185831         27    bachelor's degree             0   \n",
       "6          0   -2879.202052         43    bachelor's degree             0   \n",
       "7          0    -152.779569         50  SECONDARY EDUCATION             1   \n",
       "8          2   -6929.865299         35    BACHELOR'S DEGREE             0   \n",
       "9          0   -2188.756445         41  secondary education             1   \n",
       "10         2   -4171.483647         36    bachelor's degree             0   \n",
       "11         0    -792.701887         40  secondary education             1   \n",
       "12         0            NaN         65  secondary education             1   \n",
       "13         0   -1846.641941         54         some college             2   \n",
       "14         0   -1844.956182         56    bachelor's degree             0   \n",
       "15         1    -972.364419         26  secondary education             1   \n",
       "16         0   -1719.934226         35  secondary education             1   \n",
       "17         0   -2369.999720         33    bachelor's degree             0   \n",
       "18         0  400281.136913         53  secondary education             1   \n",
       "19         0  -10038.818549         48  SECONDARY EDUCATION             1   \n",
       "20         1   -1311.604166         36  secondary education             1   \n",
       "21         1    -253.685166         33  secondary education             1   \n",
       "22         1   -1766.644138         24  secondary education             1   \n",
       "23         0    -272.981385         21    bachelor's degree             0   \n",
       "24         1  338551.952911         57  secondary education             1   \n",
       "25         0  363548.489348         67  secondary education             1   \n",
       "26         0            NaN         41  secondary education             1   \n",
       "27         0    -529.191635         28    bachelor's degree             0   \n",
       "28         1    -717.274324         26    bachelor's degree             0   \n",
       "29         0            NaN         63  secondary education             1   \n",
       "\n",
       "        family_status  family_status_id gender    income_type  debt  \\\n",
       "0             married                 0      F       employee     0   \n",
       "1             married                 0      F       employee     0   \n",
       "2             married                 0      M       employee     0   \n",
       "3             married                 0      M       employee     0   \n",
       "4   civil partnership                 1      F        retiree     0   \n",
       "5   civil partnership                 1      M       business     0   \n",
       "6             married                 0      F       business     0   \n",
       "7             married                 0      M       employee     0   \n",
       "8   civil partnership                 1      F       employee     0   \n",
       "9             married                 0      M       employee     0   \n",
       "10            married                 0      M       business     0   \n",
       "11            married                 0      F       employee     0   \n",
       "12  civil partnership                 1      M        retiree     0   \n",
       "13            married                 0      F       employee     0   \n",
       "14  civil partnership                 1      F       business     1   \n",
       "15            married                 0      F       employee     0   \n",
       "16            married                 0      F       employee     0   \n",
       "17  civil partnership                 1      M       employee     0   \n",
       "18    widow / widower                 2      F        retiree     0   \n",
       "19           divorced                 3      F       employee     0   \n",
       "20            married                 0      M       employee     0   \n",
       "21  civil partnership                 1      F       employee     0   \n",
       "22  civil partnership                 1      F       employee     0   \n",
       "23  civil partnership                 1      M       employee     0   \n",
       "24          unmarried                 4      F        retiree     0   \n",
       "25            married                 0      M        retiree     0   \n",
       "26            married                 0      M  civil servant     0   \n",
       "27            married                 0      M       employee     0   \n",
       "28            married                 0      F       employee     0   \n",
       "29          unmarried                 4      F        retiree     0   \n",
       "\n",
       "    total_income                                   purpose  \n",
       "0      40620.102                     purchase of the house  \n",
       "1      17932.802                              car purchase  \n",
       "2      23341.752                     purchase of the house  \n",
       "3      42820.568                   supplementary education  \n",
       "4      25378.572                         to have a wedding  \n",
       "5      40922.170                     purchase of the house  \n",
       "6      38484.156                      housing transactions  \n",
       "7      21731.829                                 education  \n",
       "8      15337.093                          having a wedding  \n",
       "9      23108.150       purchase of the house for my family  \n",
       "10     18230.959                           buy real estate  \n",
       "11     12331.077                buy commercial real estate  \n",
       "12           NaN                         to have a wedding  \n",
       "13     20873.317                              car purchase  \n",
       "14     26420.466               buy residential real estate  \n",
       "15     18691.345              construction of own property  \n",
       "16     46272.433                                  property  \n",
       "17     14465.694                       building a property  \n",
       "18      9091.804                  buying a second-hand car  \n",
       "19     38852.977                         buying my own car  \n",
       "20     33528.423                                  property  \n",
       "21     21089.953                              car purchase  \n",
       "22     23948.983                  buying a second-hand car  \n",
       "23     20522.515                         to have a wedding  \n",
       "24     46487.558  transactions with commercial real estate  \n",
       "25      8818.041                           buy real estate  \n",
       "26           NaN                                 education  \n",
       "27     49415.837              construction of own property  \n",
       "28     30058.118              construction of own property  \n",
       "29           NaN                    building a real estate  "
      ]
     },
     "execution_count": 4,
     "metadata": {},
     "output_type": "execute_result"
    }
   ],
   "source": [
    "credit.head(30)"
   ]
  },
  {
   "cell_type": "markdown",
   "metadata": {},
   "source": [
    "Algunos datos de la columna \"days_employed\" son negativos. \n",
    "Algunos datos de la columna \"education\" están en mayúscula."
   ]
  },
  {
   "cell_type": "markdown",
   "metadata": {},
   "source": [
    "En las columnas \"days_employed\" y \"total_income\" se identifican datos ausentes."
   ]
  },
  {
   "cell_type": "code",
   "execution_count": 5,
   "metadata": {
    "scrolled": true
   },
   "outputs": [
    {
     "data": {
      "text/html": [
       "<div>\n",
       "<style scoped>\n",
       "    .dataframe tbody tr th:only-of-type {\n",
       "        vertical-align: middle;\n",
       "    }\n",
       "\n",
       "    .dataframe tbody tr th {\n",
       "        vertical-align: top;\n",
       "    }\n",
       "\n",
       "    .dataframe thead th {\n",
       "        text-align: right;\n",
       "    }\n",
       "</style>\n",
       "<table border=\"1\" class=\"dataframe\">\n",
       "  <thead>\n",
       "    <tr style=\"text-align: right;\">\n",
       "      <th></th>\n",
       "      <th>children</th>\n",
       "      <th>days_employed</th>\n",
       "      <th>dob_years</th>\n",
       "      <th>education</th>\n",
       "      <th>education_id</th>\n",
       "      <th>family_status</th>\n",
       "      <th>family_status_id</th>\n",
       "      <th>gender</th>\n",
       "      <th>income_type</th>\n",
       "      <th>debt</th>\n",
       "      <th>total_income</th>\n",
       "      <th>purpose</th>\n",
       "    </tr>\n",
       "  </thead>\n",
       "  <tbody>\n",
       "    <tr>\n",
       "      <th>12</th>\n",
       "      <td>0</td>\n",
       "      <td>NaN</td>\n",
       "      <td>65</td>\n",
       "      <td>secondary education</td>\n",
       "      <td>1</td>\n",
       "      <td>civil partnership</td>\n",
       "      <td>1</td>\n",
       "      <td>M</td>\n",
       "      <td>retiree</td>\n",
       "      <td>0</td>\n",
       "      <td>NaN</td>\n",
       "      <td>to have a wedding</td>\n",
       "    </tr>\n",
       "    <tr>\n",
       "      <th>26</th>\n",
       "      <td>0</td>\n",
       "      <td>NaN</td>\n",
       "      <td>41</td>\n",
       "      <td>secondary education</td>\n",
       "      <td>1</td>\n",
       "      <td>married</td>\n",
       "      <td>0</td>\n",
       "      <td>M</td>\n",
       "      <td>civil servant</td>\n",
       "      <td>0</td>\n",
       "      <td>NaN</td>\n",
       "      <td>education</td>\n",
       "    </tr>\n",
       "    <tr>\n",
       "      <th>29</th>\n",
       "      <td>0</td>\n",
       "      <td>NaN</td>\n",
       "      <td>63</td>\n",
       "      <td>secondary education</td>\n",
       "      <td>1</td>\n",
       "      <td>unmarried</td>\n",
       "      <td>4</td>\n",
       "      <td>F</td>\n",
       "      <td>retiree</td>\n",
       "      <td>0</td>\n",
       "      <td>NaN</td>\n",
       "      <td>building a real estate</td>\n",
       "    </tr>\n",
       "    <tr>\n",
       "      <th>41</th>\n",
       "      <td>0</td>\n",
       "      <td>NaN</td>\n",
       "      <td>50</td>\n",
       "      <td>secondary education</td>\n",
       "      <td>1</td>\n",
       "      <td>married</td>\n",
       "      <td>0</td>\n",
       "      <td>F</td>\n",
       "      <td>civil servant</td>\n",
       "      <td>0</td>\n",
       "      <td>NaN</td>\n",
       "      <td>second-hand car purchase</td>\n",
       "    </tr>\n",
       "    <tr>\n",
       "      <th>55</th>\n",
       "      <td>0</td>\n",
       "      <td>NaN</td>\n",
       "      <td>54</td>\n",
       "      <td>secondary education</td>\n",
       "      <td>1</td>\n",
       "      <td>civil partnership</td>\n",
       "      <td>1</td>\n",
       "      <td>F</td>\n",
       "      <td>retiree</td>\n",
       "      <td>1</td>\n",
       "      <td>NaN</td>\n",
       "      <td>to have a wedding</td>\n",
       "    </tr>\n",
       "    <tr>\n",
       "      <th>...</th>\n",
       "      <td>...</td>\n",
       "      <td>...</td>\n",
       "      <td>...</td>\n",
       "      <td>...</td>\n",
       "      <td>...</td>\n",
       "      <td>...</td>\n",
       "      <td>...</td>\n",
       "      <td>...</td>\n",
       "      <td>...</td>\n",
       "      <td>...</td>\n",
       "      <td>...</td>\n",
       "      <td>...</td>\n",
       "    </tr>\n",
       "    <tr>\n",
       "      <th>21489</th>\n",
       "      <td>2</td>\n",
       "      <td>NaN</td>\n",
       "      <td>47</td>\n",
       "      <td>Secondary Education</td>\n",
       "      <td>1</td>\n",
       "      <td>married</td>\n",
       "      <td>0</td>\n",
       "      <td>M</td>\n",
       "      <td>business</td>\n",
       "      <td>0</td>\n",
       "      <td>NaN</td>\n",
       "      <td>purchase of a car</td>\n",
       "    </tr>\n",
       "    <tr>\n",
       "      <th>21495</th>\n",
       "      <td>1</td>\n",
       "      <td>NaN</td>\n",
       "      <td>50</td>\n",
       "      <td>secondary education</td>\n",
       "      <td>1</td>\n",
       "      <td>civil partnership</td>\n",
       "      <td>1</td>\n",
       "      <td>F</td>\n",
       "      <td>employee</td>\n",
       "      <td>0</td>\n",
       "      <td>NaN</td>\n",
       "      <td>wedding ceremony</td>\n",
       "    </tr>\n",
       "    <tr>\n",
       "      <th>21497</th>\n",
       "      <td>0</td>\n",
       "      <td>NaN</td>\n",
       "      <td>48</td>\n",
       "      <td>BACHELOR'S DEGREE</td>\n",
       "      <td>0</td>\n",
       "      <td>married</td>\n",
       "      <td>0</td>\n",
       "      <td>F</td>\n",
       "      <td>business</td>\n",
       "      <td>0</td>\n",
       "      <td>NaN</td>\n",
       "      <td>building a property</td>\n",
       "    </tr>\n",
       "    <tr>\n",
       "      <th>21502</th>\n",
       "      <td>1</td>\n",
       "      <td>NaN</td>\n",
       "      <td>42</td>\n",
       "      <td>secondary education</td>\n",
       "      <td>1</td>\n",
       "      <td>married</td>\n",
       "      <td>0</td>\n",
       "      <td>F</td>\n",
       "      <td>employee</td>\n",
       "      <td>0</td>\n",
       "      <td>NaN</td>\n",
       "      <td>building a real estate</td>\n",
       "    </tr>\n",
       "    <tr>\n",
       "      <th>21510</th>\n",
       "      <td>2</td>\n",
       "      <td>NaN</td>\n",
       "      <td>28</td>\n",
       "      <td>secondary education</td>\n",
       "      <td>1</td>\n",
       "      <td>married</td>\n",
       "      <td>0</td>\n",
       "      <td>F</td>\n",
       "      <td>employee</td>\n",
       "      <td>0</td>\n",
       "      <td>NaN</td>\n",
       "      <td>car purchase</td>\n",
       "    </tr>\n",
       "  </tbody>\n",
       "</table>\n",
       "<p>2174 rows × 12 columns</p>\n",
       "</div>"
      ],
      "text/plain": [
       "       children  days_employed  dob_years            education  education_id  \\\n",
       "12            0            NaN         65  secondary education             1   \n",
       "26            0            NaN         41  secondary education             1   \n",
       "29            0            NaN         63  secondary education             1   \n",
       "41            0            NaN         50  secondary education             1   \n",
       "55            0            NaN         54  secondary education             1   \n",
       "...         ...            ...        ...                  ...           ...   \n",
       "21489         2            NaN         47  Secondary Education             1   \n",
       "21495         1            NaN         50  secondary education             1   \n",
       "21497         0            NaN         48    BACHELOR'S DEGREE             0   \n",
       "21502         1            NaN         42  secondary education             1   \n",
       "21510         2            NaN         28  secondary education             1   \n",
       "\n",
       "           family_status  family_status_id gender    income_type  debt  \\\n",
       "12     civil partnership                 1      M        retiree     0   \n",
       "26               married                 0      M  civil servant     0   \n",
       "29             unmarried                 4      F        retiree     0   \n",
       "41               married                 0      F  civil servant     0   \n",
       "55     civil partnership                 1      F        retiree     1   \n",
       "...                  ...               ...    ...            ...   ...   \n",
       "21489            married                 0      M       business     0   \n",
       "21495  civil partnership                 1      F       employee     0   \n",
       "21497            married                 0      F       business     0   \n",
       "21502            married                 0      F       employee     0   \n",
       "21510            married                 0      F       employee     0   \n",
       "\n",
       "       total_income                   purpose  \n",
       "12              NaN         to have a wedding  \n",
       "26              NaN                 education  \n",
       "29              NaN    building a real estate  \n",
       "41              NaN  second-hand car purchase  \n",
       "55              NaN         to have a wedding  \n",
       "...             ...                       ...  \n",
       "21489           NaN         purchase of a car  \n",
       "21495           NaN          wedding ceremony  \n",
       "21497           NaN       building a property  \n",
       "21502           NaN    building a real estate  \n",
       "21510           NaN              car purchase  \n",
       "\n",
       "[2174 rows x 12 columns]"
      ]
     },
     "execution_count": 5,
     "metadata": {},
     "output_type": "execute_result"
    }
   ],
   "source": [
    "credit[credit[\"days_employed\"].isnull()]# Veamos la tabla filtrada con valores ausentes de la primera columna donde faltan datos\n"
   ]
  },
  {
   "cell_type": "markdown",
   "metadata": {},
   "source": [
    "Como days_employed y total_income tienen la misma cantidad de NaN, veremos si son simétricos."
   ]
  },
  {
   "cell_type": "code",
   "execution_count": 6,
   "metadata": {
    "scrolled": true
   },
   "outputs": [
    {
     "data": {
      "text/html": [
       "<div>\n",
       "<style scoped>\n",
       "    .dataframe tbody tr th:only-of-type {\n",
       "        vertical-align: middle;\n",
       "    }\n",
       "\n",
       "    .dataframe tbody tr th {\n",
       "        vertical-align: top;\n",
       "    }\n",
       "\n",
       "    .dataframe thead th {\n",
       "        text-align: right;\n",
       "    }\n",
       "</style>\n",
       "<table border=\"1\" class=\"dataframe\">\n",
       "  <thead>\n",
       "    <tr style=\"text-align: right;\">\n",
       "      <th></th>\n",
       "      <th>children</th>\n",
       "      <th>days_employed</th>\n",
       "      <th>dob_years</th>\n",
       "      <th>education</th>\n",
       "      <th>education_id</th>\n",
       "      <th>family_status</th>\n",
       "      <th>family_status_id</th>\n",
       "      <th>gender</th>\n",
       "      <th>income_type</th>\n",
       "      <th>debt</th>\n",
       "      <th>total_income</th>\n",
       "      <th>purpose</th>\n",
       "    </tr>\n",
       "  </thead>\n",
       "  <tbody>\n",
       "    <tr>\n",
       "      <th>12</th>\n",
       "      <td>0</td>\n",
       "      <td>NaN</td>\n",
       "      <td>65</td>\n",
       "      <td>secondary education</td>\n",
       "      <td>1</td>\n",
       "      <td>civil partnership</td>\n",
       "      <td>1</td>\n",
       "      <td>M</td>\n",
       "      <td>retiree</td>\n",
       "      <td>0</td>\n",
       "      <td>NaN</td>\n",
       "      <td>to have a wedding</td>\n",
       "    </tr>\n",
       "    <tr>\n",
       "      <th>26</th>\n",
       "      <td>0</td>\n",
       "      <td>NaN</td>\n",
       "      <td>41</td>\n",
       "      <td>secondary education</td>\n",
       "      <td>1</td>\n",
       "      <td>married</td>\n",
       "      <td>0</td>\n",
       "      <td>M</td>\n",
       "      <td>civil servant</td>\n",
       "      <td>0</td>\n",
       "      <td>NaN</td>\n",
       "      <td>education</td>\n",
       "    </tr>\n",
       "    <tr>\n",
       "      <th>29</th>\n",
       "      <td>0</td>\n",
       "      <td>NaN</td>\n",
       "      <td>63</td>\n",
       "      <td>secondary education</td>\n",
       "      <td>1</td>\n",
       "      <td>unmarried</td>\n",
       "      <td>4</td>\n",
       "      <td>F</td>\n",
       "      <td>retiree</td>\n",
       "      <td>0</td>\n",
       "      <td>NaN</td>\n",
       "      <td>building a real estate</td>\n",
       "    </tr>\n",
       "    <tr>\n",
       "      <th>41</th>\n",
       "      <td>0</td>\n",
       "      <td>NaN</td>\n",
       "      <td>50</td>\n",
       "      <td>secondary education</td>\n",
       "      <td>1</td>\n",
       "      <td>married</td>\n",
       "      <td>0</td>\n",
       "      <td>F</td>\n",
       "      <td>civil servant</td>\n",
       "      <td>0</td>\n",
       "      <td>NaN</td>\n",
       "      <td>second-hand car purchase</td>\n",
       "    </tr>\n",
       "    <tr>\n",
       "      <th>55</th>\n",
       "      <td>0</td>\n",
       "      <td>NaN</td>\n",
       "      <td>54</td>\n",
       "      <td>secondary education</td>\n",
       "      <td>1</td>\n",
       "      <td>civil partnership</td>\n",
       "      <td>1</td>\n",
       "      <td>F</td>\n",
       "      <td>retiree</td>\n",
       "      <td>1</td>\n",
       "      <td>NaN</td>\n",
       "      <td>to have a wedding</td>\n",
       "    </tr>\n",
       "    <tr>\n",
       "      <th>...</th>\n",
       "      <td>...</td>\n",
       "      <td>...</td>\n",
       "      <td>...</td>\n",
       "      <td>...</td>\n",
       "      <td>...</td>\n",
       "      <td>...</td>\n",
       "      <td>...</td>\n",
       "      <td>...</td>\n",
       "      <td>...</td>\n",
       "      <td>...</td>\n",
       "      <td>...</td>\n",
       "      <td>...</td>\n",
       "    </tr>\n",
       "    <tr>\n",
       "      <th>21489</th>\n",
       "      <td>2</td>\n",
       "      <td>NaN</td>\n",
       "      <td>47</td>\n",
       "      <td>Secondary Education</td>\n",
       "      <td>1</td>\n",
       "      <td>married</td>\n",
       "      <td>0</td>\n",
       "      <td>M</td>\n",
       "      <td>business</td>\n",
       "      <td>0</td>\n",
       "      <td>NaN</td>\n",
       "      <td>purchase of a car</td>\n",
       "    </tr>\n",
       "    <tr>\n",
       "      <th>21495</th>\n",
       "      <td>1</td>\n",
       "      <td>NaN</td>\n",
       "      <td>50</td>\n",
       "      <td>secondary education</td>\n",
       "      <td>1</td>\n",
       "      <td>civil partnership</td>\n",
       "      <td>1</td>\n",
       "      <td>F</td>\n",
       "      <td>employee</td>\n",
       "      <td>0</td>\n",
       "      <td>NaN</td>\n",
       "      <td>wedding ceremony</td>\n",
       "    </tr>\n",
       "    <tr>\n",
       "      <th>21497</th>\n",
       "      <td>0</td>\n",
       "      <td>NaN</td>\n",
       "      <td>48</td>\n",
       "      <td>BACHELOR'S DEGREE</td>\n",
       "      <td>0</td>\n",
       "      <td>married</td>\n",
       "      <td>0</td>\n",
       "      <td>F</td>\n",
       "      <td>business</td>\n",
       "      <td>0</td>\n",
       "      <td>NaN</td>\n",
       "      <td>building a property</td>\n",
       "    </tr>\n",
       "    <tr>\n",
       "      <th>21502</th>\n",
       "      <td>1</td>\n",
       "      <td>NaN</td>\n",
       "      <td>42</td>\n",
       "      <td>secondary education</td>\n",
       "      <td>1</td>\n",
       "      <td>married</td>\n",
       "      <td>0</td>\n",
       "      <td>F</td>\n",
       "      <td>employee</td>\n",
       "      <td>0</td>\n",
       "      <td>NaN</td>\n",
       "      <td>building a real estate</td>\n",
       "    </tr>\n",
       "    <tr>\n",
       "      <th>21510</th>\n",
       "      <td>2</td>\n",
       "      <td>NaN</td>\n",
       "      <td>28</td>\n",
       "      <td>secondary education</td>\n",
       "      <td>1</td>\n",
       "      <td>married</td>\n",
       "      <td>0</td>\n",
       "      <td>F</td>\n",
       "      <td>employee</td>\n",
       "      <td>0</td>\n",
       "      <td>NaN</td>\n",
       "      <td>car purchase</td>\n",
       "    </tr>\n",
       "  </tbody>\n",
       "</table>\n",
       "<p>2174 rows × 12 columns</p>\n",
       "</div>"
      ],
      "text/plain": [
       "       children  days_employed  dob_years            education  education_id  \\\n",
       "12            0            NaN         65  secondary education             1   \n",
       "26            0            NaN         41  secondary education             1   \n",
       "29            0            NaN         63  secondary education             1   \n",
       "41            0            NaN         50  secondary education             1   \n",
       "55            0            NaN         54  secondary education             1   \n",
       "...         ...            ...        ...                  ...           ...   \n",
       "21489         2            NaN         47  Secondary Education             1   \n",
       "21495         1            NaN         50  secondary education             1   \n",
       "21497         0            NaN         48    BACHELOR'S DEGREE             0   \n",
       "21502         1            NaN         42  secondary education             1   \n",
       "21510         2            NaN         28  secondary education             1   \n",
       "\n",
       "           family_status  family_status_id gender    income_type  debt  \\\n",
       "12     civil partnership                 1      M        retiree     0   \n",
       "26               married                 0      M  civil servant     0   \n",
       "29             unmarried                 4      F        retiree     0   \n",
       "41               married                 0      F  civil servant     0   \n",
       "55     civil partnership                 1      F        retiree     1   \n",
       "...                  ...               ...    ...            ...   ...   \n",
       "21489            married                 0      M       business     0   \n",
       "21495  civil partnership                 1      F       employee     0   \n",
       "21497            married                 0      F       business     0   \n",
       "21502            married                 0      F       employee     0   \n",
       "21510            married                 0      F       employee     0   \n",
       "\n",
       "       total_income                   purpose  \n",
       "12              NaN         to have a wedding  \n",
       "26              NaN                 education  \n",
       "29              NaN    building a real estate  \n",
       "41              NaN  second-hand car purchase  \n",
       "55              NaN         to have a wedding  \n",
       "...             ...                       ...  \n",
       "21489           NaN         purchase of a car  \n",
       "21495           NaN          wedding ceremony  \n",
       "21497           NaN       building a property  \n",
       "21502           NaN    building a real estate  \n",
       "21510           NaN              car purchase  \n",
       "\n",
       "[2174 rows x 12 columns]"
      ]
     },
     "execution_count": 6,
     "metadata": {},
     "output_type": "execute_result"
    }
   ],
   "source": [
    "credit[credit[\"total_income\"].isnull()] # Apliquemos múltiples condiciones para filtrar datos y veamos el número de filas en la tabla filtrada."
   ]
  },
  {
   "cell_type": "markdown",
   "metadata": {},
   "source": [
    "Efectivamente, las columnas days_employed y total_income son simétricas."
   ]
  },
  {
   "cell_type": "markdown",
   "metadata": {},
   "source": [
    "**Conclusión intermedia**"
   ]
  },
  {
   "cell_type": "code",
   "execution_count": 7,
   "metadata": {},
   "outputs": [
    {
     "name": "stdout",
     "output_type": "stream",
     "text": [
      "10.099883855981417\n"
     ]
    }
   ],
   "source": [
    "porc_ausentes=(2174/21525)*100 #calculamos el porcentaje de valores ausentes.\n",
    "print(porc_ausentes)"
   ]
  },
  {
   "cell_type": "markdown",
   "metadata": {},
   "source": [
    "El porcentaje de valores ausentes es de 10%; lo cual indica que los valores ausentes deben completarse para prevenir posibles errores en el análisis; ya que éste porcentaje es relevante para el análisis de los datos. "
   ]
  },
  {
   "cell_type": "markdown",
   "metadata": {},
   "source": [
    "Identificamos los posibles cambios en los datos, comparando cada variable con datos ausentes y sin éstos."
   ]
  },
  {
   "cell_type": "code",
   "execution_count": 8,
   "metadata": {},
   "outputs": [
    {
     "data": {
      "text/plain": [
       "employee                       0.516562\n",
       "business                       0.236237\n",
       "retiree                        0.179141\n",
       "civil servant                  0.067782\n",
       "entrepreneur                   0.000093\n",
       "unemployed                     0.000093\n",
       "paternity / maternity leave    0.000046\n",
       "student                        0.000046\n",
       "Name: income_type, dtype: float64"
      ]
     },
     "execution_count": 8,
     "metadata": {},
     "output_type": "execute_result"
    }
   ],
   "source": [
    "credit_sin_ausentes=credit.dropna()# Vamos a investigar a los clientes que no tienen datos sobre la característica identificada y la columna con los valores ausentes\n",
    "credit[\"income_type\"].value_counts(normalize=True)\n"
   ]
  },
  {
   "cell_type": "code",
   "execution_count": 9,
   "metadata": {
    "scrolled": true
   },
   "outputs": [
    {
     "data": {
      "text/plain": [
       "employee                       0.517493\n",
       "business                       0.236525\n",
       "retiree                        0.177924\n",
       "civil servant                  0.067800\n",
       "unemployed                     0.000103\n",
       "entrepreneur                   0.000052\n",
       "paternity / maternity leave    0.000052\n",
       "student                        0.000052\n",
       "Name: income_type, dtype: float64"
      ]
     },
     "execution_count": 9,
     "metadata": {},
     "output_type": "execute_result"
    }
   ],
   "source": [
    "credit_sin_ausentes[\"income_type\"].value_counts(normalize=True)# Comprobación de la distribución"
   ]
  },
  {
   "cell_type": "markdown",
   "metadata": {},
   "source": [
    "Comparando los valores de los porcentajes en la columna \"income_type\" con valores totales y datos ausentes, no se encuentran cambios significantes; o que puedan afectar los análisis."
   ]
  },
  {
   "cell_type": "code",
   "execution_count": 10,
   "metadata": {
    "scrolled": true
   },
   "outputs": [
    {
     "data": {
      "text/plain": [
       "married              0.575145\n",
       "civil partnership    0.194053\n",
       "unmarried            0.130685\n",
       "divorced             0.055517\n",
       "widow / widower      0.044599\n",
       "Name: family_status, dtype: float64"
      ]
     },
     "execution_count": 10,
     "metadata": {},
     "output_type": "execute_result"
    }
   ],
   "source": [
    "credit[\"family_status\"].value_counts(normalize=True)"
   ]
  },
  {
   "cell_type": "code",
   "execution_count": 11,
   "metadata": {
    "scrolled": true
   },
   "outputs": [
    {
     "data": {
      "text/plain": [
       "married              0.575836\n",
       "civil partnership    0.193013\n",
       "unmarried            0.130484\n",
       "divorced             0.055966\n",
       "widow / widower      0.044701\n",
       "Name: family_status, dtype: float64"
      ]
     },
     "execution_count": 11,
     "metadata": {},
     "output_type": "execute_result"
    }
   ],
   "source": [
    "credit_sin_ausentes[\"family_status\"].value_counts(normalize=True)"
   ]
  },
  {
   "cell_type": "markdown",
   "metadata": {},
   "source": [
    "No se evidencian cambios considerables en la columna famili_status. "
   ]
  },
  {
   "cell_type": "markdown",
   "metadata": {},
   "source": [
    "\n",
    "**Posibles razones por las que hay valores ausentes en los datos**"
   ]
  },
  {
   "cell_type": "markdown",
   "metadata": {},
   "source": [
    "Los valores ausentes, parecen estar relacionados con los ingresos totales; por lo cual, posiblemente éstos datos tengan gran relación con el tipo de trabajo del cliente y la educación. Verificamos los porcentajes en la columna \"education\" y otras columnas."
   ]
  },
  {
   "cell_type": "code",
   "execution_count": 12,
   "metadata": {},
   "outputs": [
    {
     "data": {
      "text/plain": [
       "secondary education    0.638792\n",
       "bachelor's degree      0.219187\n",
       "SECONDARY EDUCATION    0.035865\n",
       "Secondary Education    0.033031\n",
       "some college           0.031034\n",
       "BACHELOR'S DEGREE      0.012729\n",
       "Bachelor's Degree      0.012451\n",
       "primary education      0.011614\n",
       "Some College           0.002184\n",
       "SOME COLLEGE           0.001347\n",
       "PRIMARY EDUCATION      0.000790\n",
       "Primary Education      0.000697\n",
       "graduate degree        0.000186\n",
       "GRADUATE DEGREE        0.000046\n",
       "Graduate Degree        0.000046\n",
       "Name: education, dtype: float64"
      ]
     },
     "execution_count": 12,
     "metadata": {},
     "output_type": "execute_result"
    }
   ],
   "source": [
    "credit[\"education\"].value_counts(normalize=True)"
   ]
  },
  {
   "cell_type": "code",
   "execution_count": 13,
   "metadata": {},
   "outputs": [
    {
     "data": {
      "text/plain": [
       "secondary education    0.637796\n",
       "bachelor's degree      0.218180\n",
       "SECONDARY EDUCATION    0.036432\n",
       "Secondary Education    0.033383\n",
       "some college           0.031678\n",
       "BACHELOR'S DEGREE      0.012971\n",
       "Bachelor's Degree      0.012557\n",
       "primary education      0.011937\n",
       "Some College           0.002067\n",
       "SOME COLLEGE           0.001137\n",
       "PRIMARY EDUCATION      0.000827\n",
       "Primary Education      0.000723\n",
       "graduate degree        0.000207\n",
       "GRADUATE DEGREE        0.000052\n",
       "Graduate Degree        0.000052\n",
       "Name: education, dtype: float64"
      ]
     },
     "execution_count": 13,
     "metadata": {},
     "output_type": "execute_result"
    }
   ],
   "source": [
    "credit_sin_ausentes[\"education\"].value_counts(normalize=True)"
   ]
  },
  {
   "cell_type": "markdown",
   "metadata": {},
   "source": [
    "No se encuentran afectaciones en la columna \"education\", sin los datos ausentes."
   ]
  },
  {
   "cell_type": "code",
   "execution_count": 14,
   "metadata": {},
   "outputs": [
    {
     "data": {
      "text/plain": [
       " 0     0.657329\n",
       " 1     0.223833\n",
       " 2     0.095470\n",
       " 3     0.015331\n",
       " 20    0.003531\n",
       "-1     0.002184\n",
       " 4     0.001905\n",
       " 5     0.000418\n",
       "Name: children, dtype: float64"
      ]
     },
     "execution_count": 14,
     "metadata": {},
     "output_type": "execute_result"
    }
   ],
   "source": [
    "credit[\"children\"].value_counts(normalize=True)"
   ]
  },
  {
   "cell_type": "code",
   "execution_count": 15,
   "metadata": {},
   "outputs": [
    {
     "data": {
      "text/plain": [
       " 0     0.656814\n",
       " 1     0.224433\n",
       " 2     0.095654\n",
       " 3     0.015193\n",
       " 20    0.003462\n",
       "-1     0.002274\n",
       " 4     0.001757\n",
       " 5     0.000413\n",
       "Name: children, dtype: float64"
      ]
     },
     "execution_count": 15,
     "metadata": {},
     "output_type": "execute_result"
    }
   ],
   "source": [
    "credit_sin_ausentes[\"children\"].value_counts(normalize=True)"
   ]
  },
  {
   "cell_type": "markdown",
   "metadata": {},
   "source": [
    "No se encuentran afectaciones en la columna \"children\", sin los datos ausentes."
   ]
  },
  {
   "cell_type": "code",
   "execution_count": 16,
   "metadata": {},
   "outputs": [
    {
     "data": {
      "text/plain": [
       "0    0.919117\n",
       "1    0.080883\n",
       "Name: debt, dtype: float64"
      ]
     },
     "execution_count": 16,
     "metadata": {},
     "output_type": "execute_result"
    }
   ],
   "source": [
    "credit[\"debt\"].value_counts(normalize=True)"
   ]
  },
  {
   "cell_type": "code",
   "execution_count": 17,
   "metadata": {},
   "outputs": [
    {
     "data": {
      "text/plain": [
       "0    0.918816\n",
       "1    0.081184\n",
       "Name: debt, dtype: float64"
      ]
     },
     "execution_count": 17,
     "metadata": {},
     "output_type": "execute_result"
    }
   ],
   "source": [
    "credit_sin_ausentes[\"debt\"].value_counts(normalize=True)"
   ]
  },
  {
   "cell_type": "markdown",
   "metadata": {},
   "source": [
    "De acuerdo a la distribución de los datos anteriores; los datos ausentes no generan grandes cambios en los valores que nos arrojan información sobre el incumplimiento en los préstamos."
   ]
  },
  {
   "cell_type": "code",
   "execution_count": 18,
   "metadata": {},
   "outputs": [
    {
     "data": {
      "text/plain": [
       "35    0.028664\n",
       "40    0.028293\n",
       "41    0.028200\n",
       "34    0.028014\n",
       "38    0.027782\n",
       "42    0.027735\n",
       "33    0.026992\n",
       "39    0.026620\n",
       "31    0.026016\n",
       "36    0.025784\n",
       "44    0.025412\n",
       "29    0.025319\n",
       "30    0.025087\n",
       "48    0.024994\n",
       "37    0.024948\n",
       "50    0.023879\n",
       "43    0.023833\n",
       "32    0.023693\n",
       "49    0.023600\n",
       "28    0.023368\n",
       "Name: dob_years, dtype: float64"
      ]
     },
     "execution_count": 18,
     "metadata": {},
     "output_type": "execute_result"
    }
   ],
   "source": [
    "credit[\"dob_years\"].value_counts(normalize=True).head(20)"
   ]
  },
  {
   "cell_type": "code",
   "execution_count": 19,
   "metadata": {},
   "outputs": [
    {
     "data": {
      "text/plain": [
       "35    0.028577\n",
       "41    0.028319\n",
       "38    0.028112\n",
       "40    0.028061\n",
       "34    0.027595\n",
       "42    0.027492\n",
       "33    0.027389\n",
       "39    0.026975\n",
       "44    0.025993\n",
       "29    0.025580\n",
       "31    0.025580\n",
       "36    0.025425\n",
       "48    0.025425\n",
       "37    0.025012\n",
       "30    0.024908\n",
       "32    0.024443\n",
       "50    0.023926\n",
       "43    0.023926\n",
       "49    0.023668\n",
       "27    0.023616\n",
       "Name: dob_years, dtype: float64"
      ]
     },
     "execution_count": 19,
     "metadata": {},
     "output_type": "execute_result"
    }
   ],
   "source": [
    "credit_sin_ausentes[\"dob_years\"].value_counts(normalize=True).head(20)"
   ]
  },
  {
   "cell_type": "markdown",
   "metadata": {},
   "source": [
    "Las diferencias en los porcentajes con datos ausentes en la columna \"dob_years\", no se considera significativa."
   ]
  },
  {
   "cell_type": "code",
   "execution_count": 20,
   "metadata": {},
   "outputs": [
    {
     "data": {
      "text/plain": [
       "F      0.661370\n",
       "M      0.338583\n",
       "XNA    0.000046\n",
       "Name: gender, dtype: float64"
      ]
     },
     "execution_count": 20,
     "metadata": {},
     "output_type": "execute_result"
    }
   ],
   "source": [
    "credit[\"gender\"].value_counts(normalize=True)"
   ]
  },
  {
   "cell_type": "code",
   "execution_count": 21,
   "metadata": {},
   "outputs": [
    {
     "data": {
      "text/plain": [
       "F      0.658984\n",
       "M      0.340964\n",
       "XNA    0.000052\n",
       "Name: gender, dtype: float64"
      ]
     },
     "execution_count": 21,
     "metadata": {},
     "output_type": "execute_result"
    }
   ],
   "source": [
    "credit_sin_ausentes[\"gender\"].value_counts(normalize=True)"
   ]
  },
  {
   "cell_type": "markdown",
   "metadata": {},
   "source": [
    "Se evidencian cambios en los datos de la columna gender, pero no se consideran significativos."
   ]
  },
  {
   "cell_type": "markdown",
   "metadata": {},
   "source": [
    "Filtramos las columnas que tenemos pendientes por analizar, para identificar posibles cambios en éstas con los datos ausentes y con la asusencia de éstos."
   ]
  },
  {
   "cell_type": "code",
   "execution_count": 22,
   "metadata": {},
   "outputs": [
    {
     "data": {
      "text/plain": [
       "wedding ceremony                            0.037027\n",
       "having a wedding                            0.036098\n",
       "to have a wedding                           0.035958\n",
       "real estate transactions                    0.031405\n",
       "buy commercial real estate                  0.030848\n",
       "buying property for renting out             0.030337\n",
       "housing transactions                        0.030337\n",
       "transactions with commercial real estate    0.030244\n",
       "purchase of the house                       0.030058\n",
       "housing                                     0.030058\n",
       "purchase of the house for my family         0.029779\n",
       "construction of own property                0.029501\n",
       "property                                    0.029454\n",
       "transactions with my real estate            0.029268\n",
       "building a real estate                      0.029082\n",
       "Name: purpose, dtype: float64"
      ]
     },
     "execution_count": 22,
     "metadata": {},
     "output_type": "execute_result"
    }
   ],
   "source": [
    "credit[\"purpose\"].value_counts(normalize=True).head(15)# Comprobación de otros patrones: explica cuáles"
   ]
  },
  {
   "cell_type": "code",
   "execution_count": 23,
   "metadata": {},
   "outputs": [
    {
     "data": {
      "text/plain": [
       "wedding ceremony                            0.037259\n",
       "to have a wedding                           0.035812\n",
       "having a wedding                            0.035399\n",
       "real estate transactions                    0.031781\n",
       "buy commercial real estate                  0.030851\n",
       "purchase of the house                       0.030748\n",
       "buying property for renting out             0.030386\n",
       "housing                                     0.030334\n",
       "transactions with commercial real estate    0.030024\n",
       "building a real estate                      0.029973\n",
       "housing transactions                        0.029921\n",
       "purchase of my own house                    0.029663\n",
       "property                                    0.029559\n",
       "purchase of the house for my family         0.029456\n",
       "building a property                         0.028991\n",
       "Name: purpose, dtype: float64"
      ]
     },
     "execution_count": 23,
     "metadata": {},
     "output_type": "execute_result"
    }
   ],
   "source": [
    "credit_sin_ausentes[\"purpose\"].value_counts(normalize=True).head(15)"
   ]
  },
  {
   "cell_type": "markdown",
   "metadata": {},
   "source": [
    "No se evidencian cambios significativos en la columna \"purpose\" con los valores nulos."
   ]
  },
  {
   "cell_type": "code",
   "execution_count": 24,
   "metadata": {},
   "outputs": [
    {
     "data": {
      "text/plain": [
       "employee                       11119\n",
       "business                        5085\n",
       "retiree                         3856\n",
       "civil servant                   1459\n",
       "entrepreneur                       2\n",
       "unemployed                         2\n",
       "paternity / maternity leave        1\n",
       "student                            1\n",
       "Name: income_type, dtype: int64"
      ]
     },
     "execution_count": 24,
     "metadata": {},
     "output_type": "execute_result"
    }
   ],
   "source": [
    "credit[\"income_type\"].value_counts()"
   ]
  },
  {
   "cell_type": "code",
   "execution_count": 25,
   "metadata": {},
   "outputs": [],
   "source": [
    "credit_null_income_type=credit.pivot_table(index=\"income_type\",values=\"days_employed\",aggfunc=\"median\")"
   ]
  },
  {
   "cell_type": "code",
   "execution_count": 26,
   "metadata": {},
   "outputs": [
    {
     "data": {
      "text/html": [
       "<div>\n",
       "<style scoped>\n",
       "    .dataframe tbody tr th:only-of-type {\n",
       "        vertical-align: middle;\n",
       "    }\n",
       "\n",
       "    .dataframe tbody tr th {\n",
       "        vertical-align: top;\n",
       "    }\n",
       "\n",
       "    .dataframe thead th {\n",
       "        text-align: right;\n",
       "    }\n",
       "</style>\n",
       "<table border=\"1\" class=\"dataframe\">\n",
       "  <thead>\n",
       "    <tr style=\"text-align: right;\">\n",
       "      <th></th>\n",
       "      <th>days_employed</th>\n",
       "    </tr>\n",
       "    <tr>\n",
       "      <th>income_type</th>\n",
       "      <th></th>\n",
       "    </tr>\n",
       "  </thead>\n",
       "  <tbody>\n",
       "    <tr>\n",
       "      <th>business</th>\n",
       "      <td>-1547.382223</td>\n",
       "    </tr>\n",
       "    <tr>\n",
       "      <th>civil servant</th>\n",
       "      <td>-2689.368353</td>\n",
       "    </tr>\n",
       "    <tr>\n",
       "      <th>employee</th>\n",
       "      <td>-1574.202821</td>\n",
       "    </tr>\n",
       "    <tr>\n",
       "      <th>entrepreneur</th>\n",
       "      <td>-520.848083</td>\n",
       "    </tr>\n",
       "    <tr>\n",
       "      <th>paternity / maternity leave</th>\n",
       "      <td>-3296.759962</td>\n",
       "    </tr>\n",
       "    <tr>\n",
       "      <th>retiree</th>\n",
       "      <td>365213.306266</td>\n",
       "    </tr>\n",
       "    <tr>\n",
       "      <th>student</th>\n",
       "      <td>-578.751554</td>\n",
       "    </tr>\n",
       "    <tr>\n",
       "      <th>unemployed</th>\n",
       "      <td>366413.652744</td>\n",
       "    </tr>\n",
       "  </tbody>\n",
       "</table>\n",
       "</div>"
      ],
      "text/plain": [
       "                             days_employed\n",
       "income_type                               \n",
       "business                      -1547.382223\n",
       "civil servant                 -2689.368353\n",
       "employee                      -1574.202821\n",
       "entrepreneur                   -520.848083\n",
       "paternity / maternity leave   -3296.759962\n",
       "retiree                      365213.306266\n",
       "student                        -578.751554\n",
       "unemployed                   366413.652744"
      ]
     },
     "execution_count": 26,
     "metadata": {},
     "output_type": "execute_result"
    }
   ],
   "source": [
    "credit_null_income_type"
   ]
  },
  {
   "cell_type": "code",
   "execution_count": 27,
   "metadata": {},
   "outputs": [],
   "source": [
    "credit_null_education=credit.pivot_table(index=\"education\",values=\"days_employed\",aggfunc=\"median\")"
   ]
  },
  {
   "cell_type": "code",
   "execution_count": 28,
   "metadata": {},
   "outputs": [
    {
     "data": {
      "text/html": [
       "<div>\n",
       "<style scoped>\n",
       "    .dataframe tbody tr th:only-of-type {\n",
       "        vertical-align: middle;\n",
       "    }\n",
       "\n",
       "    .dataframe tbody tr th {\n",
       "        vertical-align: top;\n",
       "    }\n",
       "\n",
       "    .dataframe thead th {\n",
       "        text-align: right;\n",
       "    }\n",
       "</style>\n",
       "<table border=\"1\" class=\"dataframe\">\n",
       "  <thead>\n",
       "    <tr style=\"text-align: right;\">\n",
       "      <th></th>\n",
       "      <th>days_employed</th>\n",
       "    </tr>\n",
       "    <tr>\n",
       "      <th>education</th>\n",
       "      <th></th>\n",
       "    </tr>\n",
       "  </thead>\n",
       "  <tbody>\n",
       "    <tr>\n",
       "      <th>BACHELOR'S DEGREE</th>\n",
       "      <td>-1260.055505</td>\n",
       "    </tr>\n",
       "    <tr>\n",
       "      <th>Bachelor's Degree</th>\n",
       "      <td>-1376.580071</td>\n",
       "    </tr>\n",
       "    <tr>\n",
       "      <th>GRADUATE DEGREE</th>\n",
       "      <td>-409.200149</td>\n",
       "    </tr>\n",
       "    <tr>\n",
       "      <th>Graduate Degree</th>\n",
       "      <td>337584.815560</td>\n",
       "    </tr>\n",
       "    <tr>\n",
       "      <th>PRIMARY EDUCATION</th>\n",
       "      <td>-111.266017</td>\n",
       "    </tr>\n",
       "    <tr>\n",
       "      <th>Primary Education</th>\n",
       "      <td>-593.363594</td>\n",
       "    </tr>\n",
       "    <tr>\n",
       "      <th>SECONDARY EDUCATION</th>\n",
       "      <td>-1200.444662</td>\n",
       "    </tr>\n",
       "    <tr>\n",
       "      <th>SOME COLLEGE</th>\n",
       "      <td>-926.201932</td>\n",
       "    </tr>\n",
       "    <tr>\n",
       "      <th>Secondary Education</th>\n",
       "      <td>-1192.437434</td>\n",
       "    </tr>\n",
       "    <tr>\n",
       "      <th>Some College</th>\n",
       "      <td>-1108.627474</td>\n",
       "    </tr>\n",
       "    <tr>\n",
       "      <th>bachelor's degree</th>\n",
       "      <td>-1345.653286</td>\n",
       "    </tr>\n",
       "    <tr>\n",
       "      <th>graduate degree</th>\n",
       "      <td>-3851.735057</td>\n",
       "    </tr>\n",
       "    <tr>\n",
       "      <th>primary education</th>\n",
       "      <td>-596.616724</td>\n",
       "    </tr>\n",
       "    <tr>\n",
       "      <th>secondary education</th>\n",
       "      <td>-1182.950507</td>\n",
       "    </tr>\n",
       "    <tr>\n",
       "      <th>some college</th>\n",
       "      <td>-1041.840752</td>\n",
       "    </tr>\n",
       "  </tbody>\n",
       "</table>\n",
       "</div>"
      ],
      "text/plain": [
       "                     days_employed\n",
       "education                         \n",
       "BACHELOR'S DEGREE     -1260.055505\n",
       "Bachelor's Degree     -1376.580071\n",
       "GRADUATE DEGREE        -409.200149\n",
       "Graduate Degree      337584.815560\n",
       "PRIMARY EDUCATION      -111.266017\n",
       "Primary Education      -593.363594\n",
       "SECONDARY EDUCATION   -1200.444662\n",
       "SOME COLLEGE           -926.201932\n",
       "Secondary Education   -1192.437434\n",
       "Some College          -1108.627474\n",
       "bachelor's degree     -1345.653286\n",
       "graduate degree       -3851.735057\n",
       "primary education      -596.616724\n",
       "secondary education   -1182.950507\n",
       "some college          -1041.840752"
      ]
     },
     "execution_count": 28,
     "metadata": {},
     "output_type": "execute_result"
    }
   ],
   "source": [
    "credit_null_education"
   ]
  },
  {
   "cell_type": "markdown",
   "metadata": {},
   "source": [
    "**Conclusión intermedia**\n",
    "\n",
    "Al agrupar los datos de la columna \"income_type\" y calcular la mediana de days_employed, se observan variaciones significativas en las clases de income_type, especialmente en los datos de las personas retiradas y desempleadas. Se asume que éstas variaciones se presentan por los problemas en los datos de days_employed (datos negativos y datos altos); por lo cual, ésto debe resolverse."
   ]
  },
  {
   "cell_type": "markdown",
   "metadata": {},
   "source": [
    "Al realizar el mismo ejercicio pero con la columna \"education\", no se identifican cambios relevantes en los datos de las clases que componen ésta columna; sin embargo, si deben atenderse los datos negativos."
   ]
  },
  {
   "cell_type": "markdown",
   "metadata": {},
   "source": [
    "**Conclusiones**\n",
    "\n",
    "No se identifica algún patrón que indique la variable que mas se asocia con los valores ausentes; sin embargo, si deben atenderse los problemas identificados en los datos de la columna \"days_employed\" y realizar nuevamente ésta relación."
   ]
  },
  {
   "cell_type": "markdown",
   "metadata": {},
   "source": [
    "## Transformación de datos\n",
    "\n",
    "Se procede a repasar cada columna, para identificar posibles problemas en los datos."
   ]
  },
  {
   "cell_type": "code",
   "execution_count": 29,
   "metadata": {},
   "outputs": [
    {
     "data": {
      "text/plain": [
       "0      bachelor's degree\n",
       "1    secondary education\n",
       "2    Secondary Education\n",
       "3    secondary education\n",
       "4    secondary education\n",
       "5      bachelor's degree\n",
       "6      bachelor's degree\n",
       "7    SECONDARY EDUCATION\n",
       "8      BACHELOR'S DEGREE\n",
       "9    secondary education\n",
       "Name: education, dtype: object"
      ]
     },
     "execution_count": 29,
     "metadata": {},
     "output_type": "execute_result"
    }
   ],
   "source": [
    "credit[\"education\"].head(10)# Veamos todos los valores en la columna de educación para verificar si será necesario corregir la ortografía y qué habrá que corregir exactamente\n"
   ]
  },
  {
   "cell_type": "markdown",
   "metadata": {},
   "source": [
    "En la columna [\"education\"], se identifican datos en mayúsculas y minúsculas. Con ayuda de la herramienta lower() atendemos el hallazgo para facilitar la manipulación de los datos."
   ]
  },
  {
   "cell_type": "code",
   "execution_count": 30,
   "metadata": {},
   "outputs": [],
   "source": [
    "credit[\"education\"]=credit[\"education\"].str.lower()"
   ]
  },
  {
   "cell_type": "code",
   "execution_count": 31,
   "metadata": {},
   "outputs": [
    {
     "data": {
      "text/plain": [
       "array([\"bachelor's degree\", 'secondary education', 'some college',\n",
       "       'primary education', 'graduate degree'], dtype=object)"
      ]
     },
     "execution_count": 31,
     "metadata": {},
     "output_type": "execute_result"
    }
   ],
   "source": [
    "credit[\"education\"].unique()# Comprobar todos los valores en la columna para asegurarnos de que los hayamos corregido"
   ]
  },
  {
   "cell_type": "markdown",
   "metadata": {},
   "source": [
    "Se procede a comprobar los datos de la columna `children`"
   ]
  },
  {
   "cell_type": "code",
   "execution_count": 32,
   "metadata": {},
   "outputs": [
    {
     "data": {
      "text/plain": [
       " 0     14149\n",
       " 1      4818\n",
       " 2      2055\n",
       " 3       330\n",
       " 20       76\n",
       "-1        47\n",
       " 4        41\n",
       " 5         9\n",
       "Name: children, dtype: int64"
      ]
     },
     "execution_count": 32,
     "metadata": {},
     "output_type": "execute_result"
    }
   ],
   "source": [
    "credit[\"children\"].value_counts() # Veamos la distribución de los valores en la columna `children`\n"
   ]
  },
  {
   "cell_type": "markdown",
   "metadata": {},
   "source": [
    "Se identifican datos negativos (-1); los cuales se reemplazan por 1. Asi mismo, los valores que aparecen como \"20\", se reemplazan por 2, pues se asume que pueden ser errores durante la digitalización de los datos."
   ]
  },
  {
   "cell_type": "code",
   "execution_count": 33,
   "metadata": {},
   "outputs": [],
   "source": [
    "credit[\"children\"]=credit[\"children\"].replace({-1:1,20:2})"
   ]
  },
  {
   "cell_type": "code",
   "execution_count": 34,
   "metadata": {
    "scrolled": true
   },
   "outputs": [
    {
     "data": {
      "text/plain": [
       "0    14149\n",
       "1     4865\n",
       "2     2131\n",
       "3      330\n",
       "4       41\n",
       "5        9\n",
       "Name: children, dtype: int64"
      ]
     },
     "execution_count": 34,
     "metadata": {},
     "output_type": "execute_result"
    }
   ],
   "source": [
    "credit[\"children\"].value_counts()# Comprobar la columna `children` de nuevo para asegurarnos de que todo está arreglado"
   ]
  },
  {
   "cell_type": "markdown",
   "metadata": {},
   "source": [
    "Se transforman los datos y los resultados muestran que la mayoría de los clientes no tiene hijos."
   ]
  },
  {
   "cell_type": "markdown",
   "metadata": {},
   "source": [
    "Se procede a comprobar los datos en la columna `days_employed`."
   ]
  },
  {
   "cell_type": "code",
   "execution_count": 35,
   "metadata": {},
   "outputs": [
    {
     "data": {
      "text/plain": [
       "-327.685916     0.000052\n",
       "-1580.622577    0.000052\n",
       "-4122.460569    0.000052\n",
       "-2828.237691    0.000052\n",
       "-2636.090517    0.000052\n",
       "                  ...   \n",
       "-7120.517564    0.000052\n",
       "-2146.884040    0.000052\n",
       "-881.454684     0.000052\n",
       "-794.666350     0.000052\n",
       "-3382.113891    0.000052\n",
       "Name: days_employed, Length: 19351, dtype: float64"
      ]
     },
     "execution_count": 35,
     "metadata": {},
     "output_type": "execute_result"
    }
   ],
   "source": [
    "credit[\"days_employed\"].value_counts(normalize=True)# Encuentra datos problemáticos en `days_employed`, si existen, y calcula el porcentaje\n"
   ]
  },
  {
   "cell_type": "code",
   "execution_count": 36,
   "metadata": {
    "scrolled": true
   },
   "outputs": [
    {
     "data": {
      "text/plain": [
       "0      -8437.673028\n",
       "1      -4024.803754\n",
       "2      -5623.422610\n",
       "3      -4124.747207\n",
       "4     340266.072047\n",
       "5       -926.185831\n",
       "6      -2879.202052\n",
       "7       -152.779569\n",
       "8      -6929.865299\n",
       "9      -2188.756445\n",
       "10     -4171.483647\n",
       "11      -792.701887\n",
       "12              NaN\n",
       "13     -1846.641941\n",
       "14     -1844.956182\n",
       "Name: days_employed, dtype: float64"
      ]
     },
     "execution_count": 36,
     "metadata": {},
     "output_type": "execute_result"
    }
   ],
   "source": [
    "credit[\"days_employed\"].head(15)"
   ]
  },
  {
   "cell_type": "code",
   "execution_count": 37,
   "metadata": {},
   "outputs": [
    {
     "data": {
      "text/plain": [
       "count     19351.000000\n",
       "mean      63046.497661\n",
       "std      140827.311974\n",
       "min      -18388.949901\n",
       "25%       -2747.423625\n",
       "50%       -1203.369529\n",
       "75%        -291.095954\n",
       "max      401755.400475\n",
       "Name: days_employed, dtype: float64"
      ]
     },
     "execution_count": 37,
     "metadata": {},
     "output_type": "execute_result"
    }
   ],
   "source": [
    "credit[\"days_employed\"].describe()"
   ]
  },
  {
   "cell_type": "markdown",
   "metadata": {},
   "source": [
    "De acuerdo a la información estadística de la columna \"days_employed\", la desviación estándar es muy grande; lo cual, puede deberse a los datos que se consideran muy altos dentro de la columna; éstos datos considerados altos son además los únicos datos positivos (mayores a 0). Se asume que éstos altos datos pueden presentarse en horas y no en días, por lo cual se realiza la conversión de horas a días dividiendo entre 24 (24h=1dia). Con ayuda de loc, se filtran los datos en la columna mayores a cero y se igualan al mismo valor dividido entre 24 para realizar la conversión a días."
   ]
  },
  {
   "cell_type": "markdown",
   "metadata": {},
   "source": [
    "Se utiliza loc para filtrar los datos en la columna 'days_employed', que sean mayores a cero"
   ]
  },
  {
   "cell_type": "code",
   "execution_count": 38,
   "metadata": {},
   "outputs": [],
   "source": [
    "credit.loc[credit['days_employed'] > 0, 'days_employed'] = credit.loc[credit[\"days_employed\"] > 0, 'days_employed'] / 24 # Aborda los valores problemáticos, si existen."
   ]
  },
  {
   "cell_type": "markdown",
   "metadata": {},
   "source": [
    "Los datos negativos, se convierten a positivos con ayuda de la función abs()"
   ]
  },
  {
   "cell_type": "code",
   "execution_count": 39,
   "metadata": {},
   "outputs": [],
   "source": [
    "credit.loc[credit['days_employed']<0,'days_employed']= credit.loc[credit['days_employed']<0,'days_employed'].abs()"
   ]
  },
  {
   "cell_type": "code",
   "execution_count": 40,
   "metadata": {},
   "outputs": [
    {
     "data": {
      "text/plain": [
       "count    19351.000000\n",
       "mean      4641.641176\n",
       "std       5355.964289\n",
       "min         24.141633\n",
       "25%        927.009265\n",
       "50%       2194.220567\n",
       "75%       5537.882441\n",
       "max      18388.949901\n",
       "Name: days_employed, dtype: float64"
      ]
     },
     "execution_count": 40,
     "metadata": {},
     "output_type": "execute_result"
    }
   ],
   "source": [
    "credit[\"days_employed\"].describe()"
   ]
  },
  {
   "cell_type": "markdown",
   "metadata": {},
   "source": [
    "Al revisar los datos estadísticos de la columna days_employed, se identifica que el valor máximo es de 18388 (18388/365= 50 años), por lo cual se asume que la hipótesis en los datos altos de la columna son correctos."
   ]
  },
  {
   "cell_type": "code",
   "execution_count": 41,
   "metadata": {},
   "outputs": [
    {
     "data": {
      "text/html": [
       "<div>\n",
       "<style scoped>\n",
       "    .dataframe tbody tr th:only-of-type {\n",
       "        vertical-align: middle;\n",
       "    }\n",
       "\n",
       "    .dataframe tbody tr th {\n",
       "        vertical-align: top;\n",
       "    }\n",
       "\n",
       "    .dataframe thead th {\n",
       "        text-align: right;\n",
       "    }\n",
       "</style>\n",
       "<table border=\"1\" class=\"dataframe\">\n",
       "  <thead>\n",
       "    <tr style=\"text-align: right;\">\n",
       "      <th></th>\n",
       "      <th>children</th>\n",
       "      <th>days_employed</th>\n",
       "      <th>dob_years</th>\n",
       "      <th>education</th>\n",
       "      <th>education_id</th>\n",
       "      <th>family_status</th>\n",
       "      <th>family_status_id</th>\n",
       "      <th>gender</th>\n",
       "      <th>income_type</th>\n",
       "      <th>debt</th>\n",
       "      <th>total_income</th>\n",
       "      <th>purpose</th>\n",
       "    </tr>\n",
       "  </thead>\n",
       "  <tbody>\n",
       "    <tr>\n",
       "      <th>0</th>\n",
       "      <td>1</td>\n",
       "      <td>8437.673028</td>\n",
       "      <td>42</td>\n",
       "      <td>bachelor's degree</td>\n",
       "      <td>0</td>\n",
       "      <td>married</td>\n",
       "      <td>0</td>\n",
       "      <td>F</td>\n",
       "      <td>employee</td>\n",
       "      <td>0</td>\n",
       "      <td>40620.102</td>\n",
       "      <td>purchase of the house</td>\n",
       "    </tr>\n",
       "    <tr>\n",
       "      <th>1</th>\n",
       "      <td>1</td>\n",
       "      <td>4024.803754</td>\n",
       "      <td>36</td>\n",
       "      <td>secondary education</td>\n",
       "      <td>1</td>\n",
       "      <td>married</td>\n",
       "      <td>0</td>\n",
       "      <td>F</td>\n",
       "      <td>employee</td>\n",
       "      <td>0</td>\n",
       "      <td>17932.802</td>\n",
       "      <td>car purchase</td>\n",
       "    </tr>\n",
       "    <tr>\n",
       "      <th>2</th>\n",
       "      <td>0</td>\n",
       "      <td>5623.422610</td>\n",
       "      <td>33</td>\n",
       "      <td>secondary education</td>\n",
       "      <td>1</td>\n",
       "      <td>married</td>\n",
       "      <td>0</td>\n",
       "      <td>M</td>\n",
       "      <td>employee</td>\n",
       "      <td>0</td>\n",
       "      <td>23341.752</td>\n",
       "      <td>purchase of the house</td>\n",
       "    </tr>\n",
       "    <tr>\n",
       "      <th>3</th>\n",
       "      <td>3</td>\n",
       "      <td>4124.747207</td>\n",
       "      <td>32</td>\n",
       "      <td>secondary education</td>\n",
       "      <td>1</td>\n",
       "      <td>married</td>\n",
       "      <td>0</td>\n",
       "      <td>M</td>\n",
       "      <td>employee</td>\n",
       "      <td>0</td>\n",
       "      <td>42820.568</td>\n",
       "      <td>supplementary education</td>\n",
       "    </tr>\n",
       "    <tr>\n",
       "      <th>4</th>\n",
       "      <td>0</td>\n",
       "      <td>14177.753002</td>\n",
       "      <td>53</td>\n",
       "      <td>secondary education</td>\n",
       "      <td>1</td>\n",
       "      <td>civil partnership</td>\n",
       "      <td>1</td>\n",
       "      <td>F</td>\n",
       "      <td>retiree</td>\n",
       "      <td>0</td>\n",
       "      <td>25378.572</td>\n",
       "      <td>to have a wedding</td>\n",
       "    </tr>\n",
       "    <tr>\n",
       "      <th>5</th>\n",
       "      <td>0</td>\n",
       "      <td>926.185831</td>\n",
       "      <td>27</td>\n",
       "      <td>bachelor's degree</td>\n",
       "      <td>0</td>\n",
       "      <td>civil partnership</td>\n",
       "      <td>1</td>\n",
       "      <td>M</td>\n",
       "      <td>business</td>\n",
       "      <td>0</td>\n",
       "      <td>40922.170</td>\n",
       "      <td>purchase of the house</td>\n",
       "    </tr>\n",
       "    <tr>\n",
       "      <th>6</th>\n",
       "      <td>0</td>\n",
       "      <td>2879.202052</td>\n",
       "      <td>43</td>\n",
       "      <td>bachelor's degree</td>\n",
       "      <td>0</td>\n",
       "      <td>married</td>\n",
       "      <td>0</td>\n",
       "      <td>F</td>\n",
       "      <td>business</td>\n",
       "      <td>0</td>\n",
       "      <td>38484.156</td>\n",
       "      <td>housing transactions</td>\n",
       "    </tr>\n",
       "    <tr>\n",
       "      <th>7</th>\n",
       "      <td>0</td>\n",
       "      <td>152.779569</td>\n",
       "      <td>50</td>\n",
       "      <td>secondary education</td>\n",
       "      <td>1</td>\n",
       "      <td>married</td>\n",
       "      <td>0</td>\n",
       "      <td>M</td>\n",
       "      <td>employee</td>\n",
       "      <td>0</td>\n",
       "      <td>21731.829</td>\n",
       "      <td>education</td>\n",
       "    </tr>\n",
       "    <tr>\n",
       "      <th>8</th>\n",
       "      <td>2</td>\n",
       "      <td>6929.865299</td>\n",
       "      <td>35</td>\n",
       "      <td>bachelor's degree</td>\n",
       "      <td>0</td>\n",
       "      <td>civil partnership</td>\n",
       "      <td>1</td>\n",
       "      <td>F</td>\n",
       "      <td>employee</td>\n",
       "      <td>0</td>\n",
       "      <td>15337.093</td>\n",
       "      <td>having a wedding</td>\n",
       "    </tr>\n",
       "    <tr>\n",
       "      <th>9</th>\n",
       "      <td>0</td>\n",
       "      <td>2188.756445</td>\n",
       "      <td>41</td>\n",
       "      <td>secondary education</td>\n",
       "      <td>1</td>\n",
       "      <td>married</td>\n",
       "      <td>0</td>\n",
       "      <td>M</td>\n",
       "      <td>employee</td>\n",
       "      <td>0</td>\n",
       "      <td>23108.150</td>\n",
       "      <td>purchase of the house for my family</td>\n",
       "    </tr>\n",
       "    <tr>\n",
       "      <th>10</th>\n",
       "      <td>2</td>\n",
       "      <td>4171.483647</td>\n",
       "      <td>36</td>\n",
       "      <td>bachelor's degree</td>\n",
       "      <td>0</td>\n",
       "      <td>married</td>\n",
       "      <td>0</td>\n",
       "      <td>M</td>\n",
       "      <td>business</td>\n",
       "      <td>0</td>\n",
       "      <td>18230.959</td>\n",
       "      <td>buy real estate</td>\n",
       "    </tr>\n",
       "    <tr>\n",
       "      <th>11</th>\n",
       "      <td>0</td>\n",
       "      <td>792.701887</td>\n",
       "      <td>40</td>\n",
       "      <td>secondary education</td>\n",
       "      <td>1</td>\n",
       "      <td>married</td>\n",
       "      <td>0</td>\n",
       "      <td>F</td>\n",
       "      <td>employee</td>\n",
       "      <td>0</td>\n",
       "      <td>12331.077</td>\n",
       "      <td>buy commercial real estate</td>\n",
       "    </tr>\n",
       "    <tr>\n",
       "      <th>12</th>\n",
       "      <td>0</td>\n",
       "      <td>NaN</td>\n",
       "      <td>65</td>\n",
       "      <td>secondary education</td>\n",
       "      <td>1</td>\n",
       "      <td>civil partnership</td>\n",
       "      <td>1</td>\n",
       "      <td>M</td>\n",
       "      <td>retiree</td>\n",
       "      <td>0</td>\n",
       "      <td>NaN</td>\n",
       "      <td>to have a wedding</td>\n",
       "    </tr>\n",
       "    <tr>\n",
       "      <th>13</th>\n",
       "      <td>0</td>\n",
       "      <td>1846.641941</td>\n",
       "      <td>54</td>\n",
       "      <td>some college</td>\n",
       "      <td>2</td>\n",
       "      <td>married</td>\n",
       "      <td>0</td>\n",
       "      <td>F</td>\n",
       "      <td>employee</td>\n",
       "      <td>0</td>\n",
       "      <td>20873.317</td>\n",
       "      <td>car purchase</td>\n",
       "    </tr>\n",
       "    <tr>\n",
       "      <th>14</th>\n",
       "      <td>0</td>\n",
       "      <td>1844.956182</td>\n",
       "      <td>56</td>\n",
       "      <td>bachelor's degree</td>\n",
       "      <td>0</td>\n",
       "      <td>civil partnership</td>\n",
       "      <td>1</td>\n",
       "      <td>F</td>\n",
       "      <td>business</td>\n",
       "      <td>1</td>\n",
       "      <td>26420.466</td>\n",
       "      <td>buy residential real estate</td>\n",
       "    </tr>\n",
       "    <tr>\n",
       "      <th>15</th>\n",
       "      <td>1</td>\n",
       "      <td>972.364419</td>\n",
       "      <td>26</td>\n",
       "      <td>secondary education</td>\n",
       "      <td>1</td>\n",
       "      <td>married</td>\n",
       "      <td>0</td>\n",
       "      <td>F</td>\n",
       "      <td>employee</td>\n",
       "      <td>0</td>\n",
       "      <td>18691.345</td>\n",
       "      <td>construction of own property</td>\n",
       "    </tr>\n",
       "    <tr>\n",
       "      <th>16</th>\n",
       "      <td>0</td>\n",
       "      <td>1719.934226</td>\n",
       "      <td>35</td>\n",
       "      <td>secondary education</td>\n",
       "      <td>1</td>\n",
       "      <td>married</td>\n",
       "      <td>0</td>\n",
       "      <td>F</td>\n",
       "      <td>employee</td>\n",
       "      <td>0</td>\n",
       "      <td>46272.433</td>\n",
       "      <td>property</td>\n",
       "    </tr>\n",
       "    <tr>\n",
       "      <th>17</th>\n",
       "      <td>0</td>\n",
       "      <td>2369.999720</td>\n",
       "      <td>33</td>\n",
       "      <td>bachelor's degree</td>\n",
       "      <td>0</td>\n",
       "      <td>civil partnership</td>\n",
       "      <td>1</td>\n",
       "      <td>M</td>\n",
       "      <td>employee</td>\n",
       "      <td>0</td>\n",
       "      <td>14465.694</td>\n",
       "      <td>building a property</td>\n",
       "    </tr>\n",
       "    <tr>\n",
       "      <th>18</th>\n",
       "      <td>0</td>\n",
       "      <td>16678.380705</td>\n",
       "      <td>53</td>\n",
       "      <td>secondary education</td>\n",
       "      <td>1</td>\n",
       "      <td>widow / widower</td>\n",
       "      <td>2</td>\n",
       "      <td>F</td>\n",
       "      <td>retiree</td>\n",
       "      <td>0</td>\n",
       "      <td>9091.804</td>\n",
       "      <td>buying a second-hand car</td>\n",
       "    </tr>\n",
       "    <tr>\n",
       "      <th>19</th>\n",
       "      <td>0</td>\n",
       "      <td>10038.818549</td>\n",
       "      <td>48</td>\n",
       "      <td>secondary education</td>\n",
       "      <td>1</td>\n",
       "      <td>divorced</td>\n",
       "      <td>3</td>\n",
       "      <td>F</td>\n",
       "      <td>employee</td>\n",
       "      <td>0</td>\n",
       "      <td>38852.977</td>\n",
       "      <td>buying my own car</td>\n",
       "    </tr>\n",
       "  </tbody>\n",
       "</table>\n",
       "</div>"
      ],
      "text/plain": [
       "    children  days_employed  dob_years            education  education_id  \\\n",
       "0          1    8437.673028         42    bachelor's degree             0   \n",
       "1          1    4024.803754         36  secondary education             1   \n",
       "2          0    5623.422610         33  secondary education             1   \n",
       "3          3    4124.747207         32  secondary education             1   \n",
       "4          0   14177.753002         53  secondary education             1   \n",
       "5          0     926.185831         27    bachelor's degree             0   \n",
       "6          0    2879.202052         43    bachelor's degree             0   \n",
       "7          0     152.779569         50  secondary education             1   \n",
       "8          2    6929.865299         35    bachelor's degree             0   \n",
       "9          0    2188.756445         41  secondary education             1   \n",
       "10         2    4171.483647         36    bachelor's degree             0   \n",
       "11         0     792.701887         40  secondary education             1   \n",
       "12         0            NaN         65  secondary education             1   \n",
       "13         0    1846.641941         54         some college             2   \n",
       "14         0    1844.956182         56    bachelor's degree             0   \n",
       "15         1     972.364419         26  secondary education             1   \n",
       "16         0    1719.934226         35  secondary education             1   \n",
       "17         0    2369.999720         33    bachelor's degree             0   \n",
       "18         0   16678.380705         53  secondary education             1   \n",
       "19         0   10038.818549         48  secondary education             1   \n",
       "\n",
       "        family_status  family_status_id gender income_type  debt  \\\n",
       "0             married                 0      F    employee     0   \n",
       "1             married                 0      F    employee     0   \n",
       "2             married                 0      M    employee     0   \n",
       "3             married                 0      M    employee     0   \n",
       "4   civil partnership                 1      F     retiree     0   \n",
       "5   civil partnership                 1      M    business     0   \n",
       "6             married                 0      F    business     0   \n",
       "7             married                 0      M    employee     0   \n",
       "8   civil partnership                 1      F    employee     0   \n",
       "9             married                 0      M    employee     0   \n",
       "10            married                 0      M    business     0   \n",
       "11            married                 0      F    employee     0   \n",
       "12  civil partnership                 1      M     retiree     0   \n",
       "13            married                 0      F    employee     0   \n",
       "14  civil partnership                 1      F    business     1   \n",
       "15            married                 0      F    employee     0   \n",
       "16            married                 0      F    employee     0   \n",
       "17  civil partnership                 1      M    employee     0   \n",
       "18    widow / widower                 2      F     retiree     0   \n",
       "19           divorced                 3      F    employee     0   \n",
       "\n",
       "    total_income                              purpose  \n",
       "0      40620.102                purchase of the house  \n",
       "1      17932.802                         car purchase  \n",
       "2      23341.752                purchase of the house  \n",
       "3      42820.568              supplementary education  \n",
       "4      25378.572                    to have a wedding  \n",
       "5      40922.170                purchase of the house  \n",
       "6      38484.156                 housing transactions  \n",
       "7      21731.829                            education  \n",
       "8      15337.093                     having a wedding  \n",
       "9      23108.150  purchase of the house for my family  \n",
       "10     18230.959                      buy real estate  \n",
       "11     12331.077           buy commercial real estate  \n",
       "12           NaN                    to have a wedding  \n",
       "13     20873.317                         car purchase  \n",
       "14     26420.466          buy residential real estate  \n",
       "15     18691.345         construction of own property  \n",
       "16     46272.433                             property  \n",
       "17     14465.694                  building a property  \n",
       "18      9091.804             buying a second-hand car  \n",
       "19     38852.977                    buying my own car  "
      ]
     },
     "execution_count": 41,
     "metadata": {},
     "output_type": "execute_result"
    }
   ],
   "source": [
    "credit.head(20)"
   ]
  },
  {
   "cell_type": "code",
   "execution_count": 42,
   "metadata": {},
   "outputs": [
    {
     "data": {
      "text/plain": [
       "count    19351.000000\n",
       "mean      4641.641176\n",
       "std       5355.964289\n",
       "min         24.141633\n",
       "25%        927.009265\n",
       "50%       2194.220567\n",
       "75%       5537.882441\n",
       "max      18388.949901\n",
       "Name: days_employed, dtype: float64"
      ]
     },
     "execution_count": 42,
     "metadata": {},
     "output_type": "execute_result"
    }
   ],
   "source": [
    "credit[\"days_employed\"].describe()"
   ]
  },
  {
   "cell_type": "code",
   "execution_count": 43,
   "metadata": {},
   "outputs": [
    {
     "data": {
      "text/plain": [
       "array([8437.67302776, 4024.80375385, 5623.42261023, ..., 2113.3468877 ,\n",
       "       3112.4817052 , 1984.50758853])"
      ]
     },
     "execution_count": 43,
     "metadata": {},
     "output_type": "execute_result"
    }
   ],
   "source": [
    "credit[\"days_employed\"].unique()"
   ]
  },
  {
   "cell_type": "markdown",
   "metadata": {},
   "source": [
    "Procedemos a revisar la columna \"dob_years\""
   ]
  },
  {
   "cell_type": "code",
   "execution_count": 44,
   "metadata": {
    "scrolled": true
   },
   "outputs": [
    {
     "data": {
      "text/plain": [
       "35    617\n",
       "40    609\n",
       "41    607\n",
       "34    603\n",
       "38    598\n",
       "42    597\n",
       "33    581\n",
       "39    573\n",
       "31    560\n",
       "36    555\n",
       "44    547\n",
       "29    545\n",
       "30    540\n",
       "48    538\n",
       "37    537\n",
       "50    514\n",
       "43    513\n",
       "32    510\n",
       "49    508\n",
       "28    503\n",
       "45    497\n",
       "27    493\n",
       "56    487\n",
       "52    484\n",
       "47    480\n",
       "54    479\n",
       "46    475\n",
       "58    461\n",
       "57    460\n",
       "53    459\n",
       "51    448\n",
       "59    444\n",
       "55    443\n",
       "26    408\n",
       "60    377\n",
       "25    357\n",
       "61    355\n",
       "62    352\n",
       "63    269\n",
       "64    265\n",
       "24    264\n",
       "23    254\n",
       "65    194\n",
       "66    183\n",
       "22    183\n",
       "67    167\n",
       "21    111\n",
       "0     101\n",
       "68     99\n",
       "69     85\n",
       "70     65\n",
       "71     58\n",
       "20     51\n",
       "72     33\n",
       "19     14\n",
       "73      8\n",
       "74      6\n",
       "75      1\n",
       "Name: dob_years, dtype: int64"
      ]
     },
     "execution_count": 44,
     "metadata": {},
     "output_type": "execute_result"
    }
   ],
   "source": [
    "credit[\"dob_years\"].value_counts()# Revisa `dob_years` en busca de valores sospechosos y cuenta el porcentaje"
   ]
  },
  {
   "cell_type": "markdown",
   "metadata": {},
   "source": [
    "Se encuentra el dato cero; el cual se decide reemplazar por la mediana, debido a las diferencias de edades entre los clientes. Identificamos los valores medios de las edades, en función del tipo de ingreso."
   ]
  },
  {
   "cell_type": "code",
   "execution_count": 45,
   "metadata": {},
   "outputs": [],
   "source": [
    "years_median=credit.pivot_table(index=\"income_type\",values=\"dob_years\",aggfunc=\"median\")"
   ]
  },
  {
   "cell_type": "code",
   "execution_count": 46,
   "metadata": {
    "scrolled": true
   },
   "outputs": [
    {
     "data": {
      "text/html": [
       "<div>\n",
       "<style scoped>\n",
       "    .dataframe tbody tr th:only-of-type {\n",
       "        vertical-align: middle;\n",
       "    }\n",
       "\n",
       "    .dataframe tbody tr th {\n",
       "        vertical-align: top;\n",
       "    }\n",
       "\n",
       "    .dataframe thead th {\n",
       "        text-align: right;\n",
       "    }\n",
       "</style>\n",
       "<table border=\"1\" class=\"dataframe\">\n",
       "  <thead>\n",
       "    <tr style=\"text-align: right;\">\n",
       "      <th></th>\n",
       "      <th>dob_years</th>\n",
       "    </tr>\n",
       "    <tr>\n",
       "      <th>income_type</th>\n",
       "      <th></th>\n",
       "    </tr>\n",
       "  </thead>\n",
       "  <tbody>\n",
       "    <tr>\n",
       "      <th>business</th>\n",
       "      <td>39.0</td>\n",
       "    </tr>\n",
       "    <tr>\n",
       "      <th>civil servant</th>\n",
       "      <td>40.0</td>\n",
       "    </tr>\n",
       "    <tr>\n",
       "      <th>employee</th>\n",
       "      <td>39.0</td>\n",
       "    </tr>\n",
       "    <tr>\n",
       "      <th>entrepreneur</th>\n",
       "      <td>42.5</td>\n",
       "    </tr>\n",
       "    <tr>\n",
       "      <th>paternity / maternity leave</th>\n",
       "      <td>39.0</td>\n",
       "    </tr>\n",
       "    <tr>\n",
       "      <th>retiree</th>\n",
       "      <td>60.0</td>\n",
       "    </tr>\n",
       "    <tr>\n",
       "      <th>student</th>\n",
       "      <td>22.0</td>\n",
       "    </tr>\n",
       "    <tr>\n",
       "      <th>unemployed</th>\n",
       "      <td>38.0</td>\n",
       "    </tr>\n",
       "  </tbody>\n",
       "</table>\n",
       "</div>"
      ],
      "text/plain": [
       "                             dob_years\n",
       "income_type                           \n",
       "business                          39.0\n",
       "civil servant                     40.0\n",
       "employee                          39.0\n",
       "entrepreneur                      42.5\n",
       "paternity / maternity leave       39.0\n",
       "retiree                           60.0\n",
       "student                           22.0\n",
       "unemployed                        38.0"
      ]
     },
     "execution_count": 46,
     "metadata": {},
     "output_type": "execute_result"
    }
   ],
   "source": [
    "years_median"
   ]
  },
  {
   "cell_type": "code",
   "execution_count": 47,
   "metadata": {},
   "outputs": [],
   "source": [
    "def funcion_dob_years(row):\n",
    "    income_type = row[\"income_type\"]\n",
    "    dob_years = row[\"dob_years\"]\n",
    "    if dob_years == 0:\n",
    "        return years_median[\"dob_years\"][income_type]\n",
    "    return dob_years"
   ]
  },
  {
   "cell_type": "code",
   "execution_count": 48,
   "metadata": {},
   "outputs": [],
   "source": [
    "credit[\"dob_years\"]=credit.apply(funcion_dob_years,axis=1)"
   ]
  },
  {
   "cell_type": "code",
   "execution_count": 49,
   "metadata": {},
   "outputs": [
    {
     "data": {
      "text/plain": [
       "21525"
      ]
     },
     "execution_count": 49,
     "metadata": {},
     "output_type": "execute_result"
    }
   ],
   "source": [
    "credit[\"dob_years\"].value_counts().sum()"
   ]
  },
  {
   "cell_type": "code",
   "execution_count": 50,
   "metadata": {},
   "outputs": [
    {
     "data": {
      "text/plain": [
       "array([42., 36., 33., 32., 53., 27., 43., 50., 35., 41., 40., 65., 54.,\n",
       "       56., 26., 48., 24., 21., 57., 67., 28., 63., 62., 47., 34., 68.,\n",
       "       25., 31., 30., 20., 49., 37., 45., 61., 64., 44., 52., 46., 23.,\n",
       "       38., 39., 51., 60., 59., 29., 55., 58., 71., 22., 73., 66., 69.,\n",
       "       19., 72., 70., 74., 75.])"
      ]
     },
     "execution_count": 50,
     "metadata": {},
     "output_type": "execute_result"
    }
   ],
   "source": [
    "credit[\"dob_years\"].unique()# Comprueba el resultado - asegúrate de que esté arreglado\n"
   ]
  },
  {
   "cell_type": "markdown",
   "metadata": {},
   "source": [
    "Ahora revisemos la columna `family_status`."
   ]
  },
  {
   "cell_type": "code",
   "execution_count": 51,
   "metadata": {},
   "outputs": [
    {
     "data": {
      "text/plain": [
       "array(['married', 'civil partnership', 'widow / widower', 'divorced',\n",
       "       'unmarried'], dtype=object)"
      ]
     },
     "execution_count": 51,
     "metadata": {},
     "output_type": "execute_result"
    }
   ],
   "source": [
    "credit[\"family_status\"].unique()# Veamos los valores de la columna"
   ]
  },
  {
   "cell_type": "code",
   "execution_count": 52,
   "metadata": {},
   "outputs": [],
   "source": [
    "credit[\"family_status\"]=credit[\"family_status\"].replace(\"widow / widower\",\"widow/widower\")# Aborda los valores problemáticos en `family_status`, si existen"
   ]
  },
  {
   "cell_type": "markdown",
   "metadata": {},
   "source": [
    "Se identifican espacios innecesarios en los datos; los cuales se eliminan con la función replace()."
   ]
  },
  {
   "cell_type": "code",
   "execution_count": 53,
   "metadata": {
    "scrolled": true
   },
   "outputs": [
    {
     "data": {
      "text/plain": [
       "array(['married', 'civil partnership', 'widow/widower', 'divorced',\n",
       "       'unmarried'], dtype=object)"
      ]
     },
     "execution_count": 53,
     "metadata": {},
     "output_type": "execute_result"
    }
   ],
   "source": [
    "credit[\"family_status\"].unique()# Comprueba el resultado - asegúrate de que esté arreglado\n"
   ]
  },
  {
   "cell_type": "code",
   "execution_count": 54,
   "metadata": {
    "scrolled": true
   },
   "outputs": [
    {
     "data": {
      "text/plain": [
       "married              0.575145\n",
       "civil partnership    0.194053\n",
       "unmarried            0.130685\n",
       "divorced             0.055517\n",
       "widow/widower        0.044599\n",
       "Name: family_status, dtype: float64"
      ]
     },
     "execution_count": 54,
     "metadata": {},
     "output_type": "execute_result"
    }
   ],
   "source": [
    "credit[\"family_status\"].value_counts(normalize=True)"
   ]
  },
  {
   "cell_type": "markdown",
   "metadata": {},
   "source": [
    "De acuerdo a la distribución de los datos en la columna family_status, la mayoría de los clientes se encuentran casados."
   ]
  },
  {
   "cell_type": "markdown",
   "metadata": {},
   "source": [
    "Revisamos la columna `gender`"
   ]
  },
  {
   "cell_type": "code",
   "execution_count": 55,
   "metadata": {
    "scrolled": true
   },
   "outputs": [
    {
     "data": {
      "text/plain": [
       "array(['F', 'M', 'XNA'], dtype=object)"
      ]
     },
     "execution_count": 55,
     "metadata": {},
     "output_type": "execute_result"
    }
   ],
   "source": [
    "credit[\"gender\"].unique() # Veamos los valores en la columna"
   ]
  },
  {
   "cell_type": "markdown",
   "metadata": {},
   "source": [
    "Tenemos un valor inconsistente (XNA), el cual eliminaremos debido al poco porcentaje de éste datos entre el total de datos de la columna."
   ]
  },
  {
   "cell_type": "code",
   "execution_count": 56,
   "metadata": {},
   "outputs": [],
   "source": [
    "credit.drop(credit.index[credit.gender==\"XNA\"],axis=0, inplace=True) # Aborda los valores problemáticos, si existen"
   ]
  },
  {
   "cell_type": "code",
   "execution_count": 57,
   "metadata": {},
   "outputs": [
    {
     "data": {
      "text/plain": [
       "array(['F', 'M'], dtype=object)"
      ]
     },
     "execution_count": 57,
     "metadata": {},
     "output_type": "execute_result"
    }
   ],
   "source": [
    "credit[\"gender\"].unique() # Comprueba el resultado - asegúrate de que esté arreglado"
   ]
  },
  {
   "cell_type": "code",
   "execution_count": 58,
   "metadata": {},
   "outputs": [
    {
     "data": {
      "text/plain": [
       "F    0.661401\n",
       "M    0.338599\n",
       "Name: gender, dtype: float64"
      ]
     },
     "execution_count": 58,
     "metadata": {},
     "output_type": "execute_result"
    }
   ],
   "source": [
    "credit[\"gender\"].value_counts(normalize=True)"
   ]
  },
  {
   "cell_type": "markdown",
   "metadata": {},
   "source": [
    "De acuerdo a los datos de la columna gender(género), mas de la mitad de los clientes son mujeres."
   ]
  },
  {
   "cell_type": "markdown",
   "metadata": {},
   "source": [
    "Ahora vamos a revisar la columna `income_type`. "
   ]
  },
  {
   "cell_type": "code",
   "execution_count": 59,
   "metadata": {},
   "outputs": [
    {
     "data": {
      "text/plain": [
       "array(['employee', 'retiree', 'business', 'civil servant', 'unemployed',\n",
       "       'entrepreneur', 'student', 'paternity / maternity leave'],\n",
       "      dtype=object)"
      ]
     },
     "execution_count": 59,
     "metadata": {},
     "output_type": "execute_result"
    }
   ],
   "source": [
    "credit[\"income_type\"].unique() # Veamos los valores en la columna"
   ]
  },
  {
   "cell_type": "markdown",
   "metadata": {},
   "source": [
    "Se encuentran espacios innecesarios en algunos valores. Se eliminan éstos reemplazando con la función replace()."
   ]
  },
  {
   "cell_type": "code",
   "execution_count": 60,
   "metadata": {},
   "outputs": [],
   "source": [
    "credit[\"income_type\"]=credit[\"income_type\"].replace(\"paternity / maternity leave\",\"paternity/maternity leave\")# Aborda los valores problemáticos, si existen"
   ]
  },
  {
   "cell_type": "code",
   "execution_count": 61,
   "metadata": {
    "scrolled": true
   },
   "outputs": [
    {
     "data": {
      "text/plain": [
       "array(['employee', 'retiree', 'business', 'civil servant', 'unemployed',\n",
       "       'entrepreneur', 'student', 'paternity/maternity leave'],\n",
       "      dtype=object)"
      ]
     },
     "execution_count": 61,
     "metadata": {},
     "output_type": "execute_result"
    }
   ],
   "source": [
    "credit[\"income_type\"].unique()# Comprueba el resultado - asegúrate de que esté arreglado"
   ]
  },
  {
   "cell_type": "code",
   "execution_count": 62,
   "metadata": {},
   "outputs": [
    {
     "name": "stdout",
     "output_type": "stream",
     "text": [
      "<class 'pandas.core.frame.DataFrame'>\n",
      "Int64Index: 21524 entries, 0 to 21524\n",
      "Data columns (total 12 columns):\n",
      " #   Column            Non-Null Count  Dtype  \n",
      "---  ------            --------------  -----  \n",
      " 0   children          21524 non-null  int64  \n",
      " 1   days_employed     19350 non-null  float64\n",
      " 2   dob_years         21524 non-null  float64\n",
      " 3   education         21524 non-null  object \n",
      " 4   education_id      21524 non-null  int64  \n",
      " 5   family_status     21524 non-null  object \n",
      " 6   family_status_id  21524 non-null  int64  \n",
      " 7   gender            21524 non-null  object \n",
      " 8   income_type       21524 non-null  object \n",
      " 9   debt              21524 non-null  int64  \n",
      " 10  total_income      19350 non-null  float64\n",
      " 11  purpose           21524 non-null  object \n",
      "dtypes: float64(3), int64(4), object(5)\n",
      "memory usage: 2.1+ MB\n"
     ]
    }
   ],
   "source": [
    "credit.info()"
   ]
  },
  {
   "cell_type": "markdown",
   "metadata": {},
   "source": [
    "Ahora veamos si hay duplicados en nuestros datos."
   ]
  },
  {
   "cell_type": "code",
   "execution_count": 63,
   "metadata": {},
   "outputs": [
    {
     "data": {
      "text/plain": [
       "71"
      ]
     },
     "execution_count": 63,
     "metadata": {},
     "output_type": "execute_result"
    }
   ],
   "source": [
    "credit.duplicated().sum()# Comprobar los duplicados"
   ]
  },
  {
   "cell_type": "markdown",
   "metadata": {},
   "source": [
    "Efectivamente, se identifican datos duplicados; los cuales deben abordarse para no generar posibles arrores en los análisis."
   ]
  },
  {
   "cell_type": "code",
   "execution_count": 64,
   "metadata": {},
   "outputs": [],
   "source": [
    "credit=credit.drop_duplicates().reset_index(drop=True, inplace=False) # Aborda los duplicados, si existen"
   ]
  },
  {
   "cell_type": "code",
   "execution_count": 65,
   "metadata": {},
   "outputs": [
    {
     "data": {
      "text/plain": [
       "0"
      ]
     },
     "execution_count": 65,
     "metadata": {},
     "output_type": "execute_result"
    }
   ],
   "source": [
    "credit.duplicated().sum() # Última comprobación para ver si tenemos duplicados\n"
   ]
  },
  {
   "cell_type": "markdown",
   "metadata": {},
   "source": [
    "El resultado anterior muestra que ya no tenemos datos duplicados en la base de datos."
   ]
  },
  {
   "cell_type": "code",
   "execution_count": 66,
   "metadata": {},
   "outputs": [
    {
     "name": "stdout",
     "output_type": "stream",
     "text": [
      "<class 'pandas.core.frame.DataFrame'>\n",
      "RangeIndex: 21453 entries, 0 to 21452\n",
      "Data columns (total 12 columns):\n",
      " #   Column            Non-Null Count  Dtype  \n",
      "---  ------            --------------  -----  \n",
      " 0   children          21453 non-null  int64  \n",
      " 1   days_employed     19350 non-null  float64\n",
      " 2   dob_years         21453 non-null  float64\n",
      " 3   education         21453 non-null  object \n",
      " 4   education_id      21453 non-null  int64  \n",
      " 5   family_status     21453 non-null  object \n",
      " 6   family_status_id  21453 non-null  int64  \n",
      " 7   gender            21453 non-null  object \n",
      " 8   income_type       21453 non-null  object \n",
      " 9   debt              21453 non-null  int64  \n",
      " 10  total_income      19350 non-null  float64\n",
      " 11  purpose           21453 non-null  object \n",
      "dtypes: float64(3), int64(4), object(5)\n",
      "memory usage: 2.0+ MB\n"
     ]
    }
   ],
   "source": [
    "credit.info() # Comprueba el tamaño del conjunto de datos que tienes ahora, después de haber ejecutado estas primeras manipulaciones\n"
   ]
  },
  {
   "cell_type": "markdown",
   "metadata": {},
   "source": [
    "Se han transformado los problemas identificados en los datos de las columnas como:espacios innecesarios, valores negativos y datos inconsistentes o considerados datos muy altos. Se han identificado los datos duplicados en la base de datos, se han rellenado valores en cero que se identificaron en las columnas \"dob_years\". Al eliminar los datos duplicados, el cambio generado en los datos es menor al 1% (0.33%)"
   ]
  },
  {
   "cell_type": "markdown",
   "metadata": {},
   "source": [
    "# Trabajar con valores ausentes"
   ]
  },
  {
   "cell_type": "markdown",
   "metadata": {},
   "source": [
    "Elaboramos un diccionario para los para las columnas family_status_id y education_id, para facilitar la manipulación de datos."
   ]
  },
  {
   "cell_type": "code",
   "execution_count": 67,
   "metadata": {},
   "outputs": [
    {
     "name": "stdout",
     "output_type": "stream",
     "text": [
      "{0: 'married', 1: 'civil partnership', 2: 'widow/widower', 3: 'divorced', 4: 'unmarried'}\n"
     ]
    }
   ],
   "source": [
    "ids_values_family={   # Encuentra los diccionarios\n",
    "    0: \"married\",\n",
    "    1: \"civil partnership\",\n",
    "    2: \"widow/widower\",\n",
    "    3: \"divorced\",\n",
    "    4: \"unmarried\"\n",
    "}\n",
    "\n",
    "print(ids_values_family)"
   ]
  },
  {
   "cell_type": "code",
   "execution_count": 68,
   "metadata": {},
   "outputs": [
    {
     "name": "stdout",
     "output_type": "stream",
     "text": [
      "{0: \"bachelor's degree\", 1: 'secondary education', 2: 'some college', 3: 'primary education', 4: 'graduate degree'}\n"
     ]
    }
   ],
   "source": [
    "ids_values_education={\n",
    "    0: \"bachelor's degree\",\n",
    "    1: \"secondary education\",\n",
    "    2: \"some college\",\n",
    "    3: \"primary education\",\n",
    "    4: \"graduate degree\"\n",
    "}\n",
    "\n",
    "print(ids_values_education)"
   ]
  },
  {
   "cell_type": "code",
   "execution_count": 69,
   "metadata": {},
   "outputs": [
    {
     "data": {
      "text/plain": [
       "array([42., 36., 33., 32., 53., 27., 43., 50., 35., 41., 40., 65., 54.,\n",
       "       56., 26., 48., 24., 21., 57., 67., 28., 63., 62., 47., 34., 68.,\n",
       "       25., 31., 30., 20., 49., 37., 45., 61., 64., 44., 52., 46., 23.,\n",
       "       38., 39., 51., 60., 59., 29., 55., 58., 71., 22., 73., 66., 69.,\n",
       "       19., 72., 70., 74., 75.])"
      ]
     },
     "execution_count": 69,
     "metadata": {},
     "output_type": "execute_result"
    }
   ],
   "source": [
    "credit[\"dob_years\"].unique()"
   ]
  },
  {
   "cell_type": "markdown",
   "metadata": {},
   "source": [
    "### Restaurar valores ausentes en `total_income`"
   ]
  },
  {
   "cell_type": "markdown",
   "metadata": {},
   "source": [
    "La columna que relaciona los ingresos totales de los clientes (total_income) aún cuenta con valores ausentes.\n",
    "\n",
    "\n",
    "Para rellenar los valores ausentes que se conservan en la columna \"total_income\",se crea una categoría de edad para los clientes, la cual se utiliza para crear una nueva columna que tenga en cuenta éstas categorías. Luego se crea una tabla que identifique los valores medios de los ingresos en función de las edades de los clientes. Igualmente, se considera que los ingresos de los clientes están relacionados con la educación, por lo cual también se genera una tabla que identifique los valores medios de los ingresos en función de la educación de los clientes, y ésta información también se toma como base para rellenar los valores ausentes en total_income.\n"
   ]
  },
  {
   "cell_type": "code",
   "execution_count": 70,
   "metadata": {},
   "outputs": [],
   "source": [
    "def edades_clientes(edad):# Vamos a escribir una función que calcule la categoría de edad\n",
    "    if edad <30:\n",
    "        return \"adulto jóven\"\n",
    "    if edad >=30 and edad <=64:\n",
    "        return \"adulto\"\n",
    "    if edad >=65:\n",
    "        return \"adulto mayor\"  "
   ]
  },
  {
   "cell_type": "code",
   "execution_count": 71,
   "metadata": {},
   "outputs": [
    {
     "name": "stdout",
     "output_type": "stream",
     "text": [
      "adulto\n",
      "adulto jóven\n",
      "adulto mayor\n"
     ]
    }
   ],
   "source": [
    "print(edades_clientes(45))# Prueba si la función funciona bien\n",
    "print(edades_clientes(27))\n",
    "print(edades_clientes(72))"
   ]
  },
  {
   "cell_type": "code",
   "execution_count": 72,
   "metadata": {},
   "outputs": [
    {
     "data": {
      "text/html": [
       "<div>\n",
       "<style scoped>\n",
       "    .dataframe tbody tr th:only-of-type {\n",
       "        vertical-align: middle;\n",
       "    }\n",
       "\n",
       "    .dataframe tbody tr th {\n",
       "        vertical-align: top;\n",
       "    }\n",
       "\n",
       "    .dataframe thead th {\n",
       "        text-align: right;\n",
       "    }\n",
       "</style>\n",
       "<table border=\"1\" class=\"dataframe\">\n",
       "  <thead>\n",
       "    <tr style=\"text-align: right;\">\n",
       "      <th></th>\n",
       "      <th>children</th>\n",
       "      <th>days_employed</th>\n",
       "      <th>dob_years</th>\n",
       "      <th>education</th>\n",
       "      <th>education_id</th>\n",
       "      <th>family_status</th>\n",
       "      <th>family_status_id</th>\n",
       "      <th>gender</th>\n",
       "      <th>income_type</th>\n",
       "      <th>debt</th>\n",
       "      <th>total_income</th>\n",
       "      <th>purpose</th>\n",
       "      <th>edades_clientes</th>\n",
       "    </tr>\n",
       "  </thead>\n",
       "  <tbody>\n",
       "    <tr>\n",
       "      <th>0</th>\n",
       "      <td>1</td>\n",
       "      <td>8437.673028</td>\n",
       "      <td>42.0</td>\n",
       "      <td>bachelor's degree</td>\n",
       "      <td>0</td>\n",
       "      <td>married</td>\n",
       "      <td>0</td>\n",
       "      <td>F</td>\n",
       "      <td>employee</td>\n",
       "      <td>0</td>\n",
       "      <td>40620.102</td>\n",
       "      <td>purchase of the house</td>\n",
       "      <td>adulto</td>\n",
       "    </tr>\n",
       "    <tr>\n",
       "      <th>1</th>\n",
       "      <td>1</td>\n",
       "      <td>4024.803754</td>\n",
       "      <td>36.0</td>\n",
       "      <td>secondary education</td>\n",
       "      <td>1</td>\n",
       "      <td>married</td>\n",
       "      <td>0</td>\n",
       "      <td>F</td>\n",
       "      <td>employee</td>\n",
       "      <td>0</td>\n",
       "      <td>17932.802</td>\n",
       "      <td>car purchase</td>\n",
       "      <td>adulto</td>\n",
       "    </tr>\n",
       "    <tr>\n",
       "      <th>2</th>\n",
       "      <td>0</td>\n",
       "      <td>5623.422610</td>\n",
       "      <td>33.0</td>\n",
       "      <td>secondary education</td>\n",
       "      <td>1</td>\n",
       "      <td>married</td>\n",
       "      <td>0</td>\n",
       "      <td>M</td>\n",
       "      <td>employee</td>\n",
       "      <td>0</td>\n",
       "      <td>23341.752</td>\n",
       "      <td>purchase of the house</td>\n",
       "      <td>adulto</td>\n",
       "    </tr>\n",
       "    <tr>\n",
       "      <th>3</th>\n",
       "      <td>3</td>\n",
       "      <td>4124.747207</td>\n",
       "      <td>32.0</td>\n",
       "      <td>secondary education</td>\n",
       "      <td>1</td>\n",
       "      <td>married</td>\n",
       "      <td>0</td>\n",
       "      <td>M</td>\n",
       "      <td>employee</td>\n",
       "      <td>0</td>\n",
       "      <td>42820.568</td>\n",
       "      <td>supplementary education</td>\n",
       "      <td>adulto</td>\n",
       "    </tr>\n",
       "    <tr>\n",
       "      <th>4</th>\n",
       "      <td>0</td>\n",
       "      <td>14177.753002</td>\n",
       "      <td>53.0</td>\n",
       "      <td>secondary education</td>\n",
       "      <td>1</td>\n",
       "      <td>civil partnership</td>\n",
       "      <td>1</td>\n",
       "      <td>F</td>\n",
       "      <td>retiree</td>\n",
       "      <td>0</td>\n",
       "      <td>25378.572</td>\n",
       "      <td>to have a wedding</td>\n",
       "      <td>adulto</td>\n",
       "    </tr>\n",
       "    <tr>\n",
       "      <th>...</th>\n",
       "      <td>...</td>\n",
       "      <td>...</td>\n",
       "      <td>...</td>\n",
       "      <td>...</td>\n",
       "      <td>...</td>\n",
       "      <td>...</td>\n",
       "      <td>...</td>\n",
       "      <td>...</td>\n",
       "      <td>...</td>\n",
       "      <td>...</td>\n",
       "      <td>...</td>\n",
       "      <td>...</td>\n",
       "      <td>...</td>\n",
       "    </tr>\n",
       "    <tr>\n",
       "      <th>21448</th>\n",
       "      <td>1</td>\n",
       "      <td>4529.316663</td>\n",
       "      <td>43.0</td>\n",
       "      <td>secondary education</td>\n",
       "      <td>1</td>\n",
       "      <td>civil partnership</td>\n",
       "      <td>1</td>\n",
       "      <td>F</td>\n",
       "      <td>business</td>\n",
       "      <td>0</td>\n",
       "      <td>35966.698</td>\n",
       "      <td>housing transactions</td>\n",
       "      <td>adulto</td>\n",
       "    </tr>\n",
       "    <tr>\n",
       "      <th>21449</th>\n",
       "      <td>0</td>\n",
       "      <td>14330.725172</td>\n",
       "      <td>67.0</td>\n",
       "      <td>secondary education</td>\n",
       "      <td>1</td>\n",
       "      <td>married</td>\n",
       "      <td>0</td>\n",
       "      <td>F</td>\n",
       "      <td>retiree</td>\n",
       "      <td>0</td>\n",
       "      <td>24959.969</td>\n",
       "      <td>purchase of a car</td>\n",
       "      <td>adulto mayor</td>\n",
       "    </tr>\n",
       "    <tr>\n",
       "      <th>21450</th>\n",
       "      <td>1</td>\n",
       "      <td>2113.346888</td>\n",
       "      <td>38.0</td>\n",
       "      <td>secondary education</td>\n",
       "      <td>1</td>\n",
       "      <td>civil partnership</td>\n",
       "      <td>1</td>\n",
       "      <td>M</td>\n",
       "      <td>employee</td>\n",
       "      <td>1</td>\n",
       "      <td>14347.610</td>\n",
       "      <td>property</td>\n",
       "      <td>adulto</td>\n",
       "    </tr>\n",
       "    <tr>\n",
       "      <th>21451</th>\n",
       "      <td>3</td>\n",
       "      <td>3112.481705</td>\n",
       "      <td>38.0</td>\n",
       "      <td>secondary education</td>\n",
       "      <td>1</td>\n",
       "      <td>married</td>\n",
       "      <td>0</td>\n",
       "      <td>M</td>\n",
       "      <td>employee</td>\n",
       "      <td>1</td>\n",
       "      <td>39054.888</td>\n",
       "      <td>buying my own car</td>\n",
       "      <td>adulto</td>\n",
       "    </tr>\n",
       "    <tr>\n",
       "      <th>21452</th>\n",
       "      <td>2</td>\n",
       "      <td>1984.507589</td>\n",
       "      <td>40.0</td>\n",
       "      <td>secondary education</td>\n",
       "      <td>1</td>\n",
       "      <td>married</td>\n",
       "      <td>0</td>\n",
       "      <td>F</td>\n",
       "      <td>employee</td>\n",
       "      <td>0</td>\n",
       "      <td>13127.587</td>\n",
       "      <td>to buy a car</td>\n",
       "      <td>adulto</td>\n",
       "    </tr>\n",
       "  </tbody>\n",
       "</table>\n",
       "<p>21453 rows × 13 columns</p>\n",
       "</div>"
      ],
      "text/plain": [
       "       children  days_employed  dob_years            education  education_id  \\\n",
       "0             1    8437.673028       42.0    bachelor's degree             0   \n",
       "1             1    4024.803754       36.0  secondary education             1   \n",
       "2             0    5623.422610       33.0  secondary education             1   \n",
       "3             3    4124.747207       32.0  secondary education             1   \n",
       "4             0   14177.753002       53.0  secondary education             1   \n",
       "...         ...            ...        ...                  ...           ...   \n",
       "21448         1    4529.316663       43.0  secondary education             1   \n",
       "21449         0   14330.725172       67.0  secondary education             1   \n",
       "21450         1    2113.346888       38.0  secondary education             1   \n",
       "21451         3    3112.481705       38.0  secondary education             1   \n",
       "21452         2    1984.507589       40.0  secondary education             1   \n",
       "\n",
       "           family_status  family_status_id gender income_type  debt  \\\n",
       "0                married                 0      F    employee     0   \n",
       "1                married                 0      F    employee     0   \n",
       "2                married                 0      M    employee     0   \n",
       "3                married                 0      M    employee     0   \n",
       "4      civil partnership                 1      F     retiree     0   \n",
       "...                  ...               ...    ...         ...   ...   \n",
       "21448  civil partnership                 1      F    business     0   \n",
       "21449            married                 0      F     retiree     0   \n",
       "21450  civil partnership                 1      M    employee     1   \n",
       "21451            married                 0      M    employee     1   \n",
       "21452            married                 0      F    employee     0   \n",
       "\n",
       "       total_income                  purpose edades_clientes  \n",
       "0         40620.102    purchase of the house          adulto  \n",
       "1         17932.802             car purchase          adulto  \n",
       "2         23341.752    purchase of the house          adulto  \n",
       "3         42820.568  supplementary education          adulto  \n",
       "4         25378.572        to have a wedding          adulto  \n",
       "...             ...                      ...             ...  \n",
       "21448     35966.698     housing transactions          adulto  \n",
       "21449     24959.969        purchase of a car    adulto mayor  \n",
       "21450     14347.610                 property          adulto  \n",
       "21451     39054.888        buying my own car          adulto  \n",
       "21452     13127.587             to buy a car          adulto  \n",
       "\n",
       "[21453 rows x 13 columns]"
      ]
     },
     "execution_count": 72,
     "metadata": {},
     "output_type": "execute_result"
    }
   ],
   "source": [
    "credit[\"edades_clientes\"]=credit[\"dob_years\"].apply(edades_clientes) # Crear una nueva columna basada en la función\n",
    "credit"
   ]
  },
  {
   "cell_type": "code",
   "execution_count": 73,
   "metadata": {
    "scrolled": true
   },
   "outputs": [
    {
     "data": {
      "text/plain": [
       "adulto          17379\n",
       "adulto jóven     3179\n",
       "adulto mayor      895\n",
       "Name: edades_clientes, dtype: int64"
      ]
     },
     "execution_count": 73,
     "metadata": {},
     "output_type": "execute_result"
    }
   ],
   "source": [
    "credit[\"edades_clientes\"].value_counts()# Comprobar cómo los valores en la nueva columna"
   ]
  },
  {
   "cell_type": "code",
   "execution_count": 74,
   "metadata": {},
   "outputs": [],
   "source": [
    "total_income_sin=credit.dropna()"
   ]
  },
  {
   "cell_type": "markdown",
   "metadata": {},
   "source": [
    "Los factores de los que suelen depender los ingresos pueden ser: la educación, el tipo de empleo, y la edad del cliente; los cuales se utilizarán para crear tablas dinámicas que nos relacionen éstos datos y sean tomados como base para rellenar los datos ausentes que se conservan en la columna \"total_income\""
   ]
  },
  {
   "cell_type": "markdown",
   "metadata": {},
   "source": [
    "Se crea una tabla que solo tenga datos sin valores ausentes. Estos datos se utilizarán para restaurar los valores ausentes."
   ]
  },
  {
   "cell_type": "code",
   "execution_count": 75,
   "metadata": {},
   "outputs": [],
   "source": [
    "data_edades=credit.pivot_table(index=\"edades_clientes\",values=\"total_income\",aggfunc=\"median\") # Crea una tabla sin valores ausentes y muestra algunas de sus filas para asegurarte de que se ve bien"
   ]
  },
  {
   "cell_type": "code",
   "execution_count": 76,
   "metadata": {},
   "outputs": [
    {
     "data": {
      "text/html": [
       "<div>\n",
       "<style scoped>\n",
       "    .dataframe tbody tr th:only-of-type {\n",
       "        vertical-align: middle;\n",
       "    }\n",
       "\n",
       "    .dataframe tbody tr th {\n",
       "        vertical-align: top;\n",
       "    }\n",
       "\n",
       "    .dataframe thead th {\n",
       "        text-align: right;\n",
       "    }\n",
       "</style>\n",
       "<table border=\"1\" class=\"dataframe\">\n",
       "  <thead>\n",
       "    <tr style=\"text-align: right;\">\n",
       "      <th></th>\n",
       "      <th>total_income</th>\n",
       "    </tr>\n",
       "    <tr>\n",
       "      <th>edades_clientes</th>\n",
       "      <th></th>\n",
       "    </tr>\n",
       "  </thead>\n",
       "  <tbody>\n",
       "    <tr>\n",
       "      <th>adulto</th>\n",
       "      <td>23542.491</td>\n",
       "    </tr>\n",
       "    <tr>\n",
       "      <th>adulto jóven</th>\n",
       "      <td>22735.911</td>\n",
       "    </tr>\n",
       "    <tr>\n",
       "      <th>adulto mayor</th>\n",
       "      <td>18471.391</td>\n",
       "    </tr>\n",
       "  </tbody>\n",
       "</table>\n",
       "</div>"
      ],
      "text/plain": [
       "                 total_income\n",
       "edades_clientes              \n",
       "adulto              23542.491\n",
       "adulto jóven        22735.911\n",
       "adulto mayor        18471.391"
      ]
     },
     "execution_count": 76,
     "metadata": {},
     "output_type": "execute_result"
    }
   ],
   "source": [
    "data_edades # Examina los valores medios de los ingresos en función de los factores que identificaste"
   ]
  },
  {
   "cell_type": "markdown",
   "metadata": {},
   "source": [
    "De acuerdo a la tabla, los menores ingresos son obtenidos por parte de los clientes adultos mayores (mayores a 65 años)"
   ]
  },
  {
   "cell_type": "markdown",
   "metadata": {},
   "source": [
    "Los mayores ingresos son obtenidos por parte de los clientes que se encuentran dentro de la categoria de adultos (tienen edades entre los 31 y 64 años)"
   ]
  },
  {
   "cell_type": "code",
   "execution_count": 77,
   "metadata": {},
   "outputs": [],
   "source": [
    "data_education=credit.pivot_table(index=\"education\",values=\"total_income\",aggfunc=\"median\")"
   ]
  },
  {
   "cell_type": "code",
   "execution_count": 78,
   "metadata": {},
   "outputs": [
    {
     "data": {
      "text/html": [
       "<div>\n",
       "<style scoped>\n",
       "    .dataframe tbody tr th:only-of-type {\n",
       "        vertical-align: middle;\n",
       "    }\n",
       "\n",
       "    .dataframe tbody tr th {\n",
       "        vertical-align: top;\n",
       "    }\n",
       "\n",
       "    .dataframe thead th {\n",
       "        text-align: right;\n",
       "    }\n",
       "</style>\n",
       "<table border=\"1\" class=\"dataframe\">\n",
       "  <thead>\n",
       "    <tr style=\"text-align: right;\">\n",
       "      <th></th>\n",
       "      <th>total_income</th>\n",
       "    </tr>\n",
       "    <tr>\n",
       "      <th>education</th>\n",
       "      <th></th>\n",
       "    </tr>\n",
       "  </thead>\n",
       "  <tbody>\n",
       "    <tr>\n",
       "      <th>bachelor's degree</th>\n",
       "      <td>28054.5310</td>\n",
       "    </tr>\n",
       "    <tr>\n",
       "      <th>graduate degree</th>\n",
       "      <td>25161.5835</td>\n",
       "    </tr>\n",
       "    <tr>\n",
       "      <th>primary education</th>\n",
       "      <td>18741.9760</td>\n",
       "    </tr>\n",
       "    <tr>\n",
       "      <th>secondary education</th>\n",
       "      <td>21836.5830</td>\n",
       "    </tr>\n",
       "    <tr>\n",
       "      <th>some college</th>\n",
       "      <td>25608.7945</td>\n",
       "    </tr>\n",
       "  </tbody>\n",
       "</table>\n",
       "</div>"
      ],
      "text/plain": [
       "                     total_income\n",
       "education                        \n",
       "bachelor's degree      28054.5310\n",
       "graduate degree        25161.5835\n",
       "primary education      18741.9760\n",
       "secondary education    21836.5830\n",
       "some college           25608.7945"
      ]
     },
     "execution_count": 78,
     "metadata": {},
     "output_type": "execute_result"
    }
   ],
   "source": [
    "data_education"
   ]
  },
  {
   "cell_type": "markdown",
   "metadata": {},
   "source": [
    "Los menores ingresos se presentan en clientes que sólo cuentan con una educación primaria."
   ]
  },
  {
   "cell_type": "markdown",
   "metadata": {},
   "source": [
    "Los mayores ingresos son obtenidos por los clientes que cuentan con una licenciatura."
   ]
  },
  {
   "cell_type": "code",
   "execution_count": 79,
   "metadata": {},
   "outputs": [],
   "source": [
    "data_income=credit.pivot_table(index=\"income_type\",values=\"total_income\",aggfunc=\"median\")"
   ]
  },
  {
   "cell_type": "code",
   "execution_count": 80,
   "metadata": {},
   "outputs": [
    {
     "data": {
      "text/html": [
       "<div>\n",
       "<style scoped>\n",
       "    .dataframe tbody tr th:only-of-type {\n",
       "        vertical-align: middle;\n",
       "    }\n",
       "\n",
       "    .dataframe tbody tr th {\n",
       "        vertical-align: top;\n",
       "    }\n",
       "\n",
       "    .dataframe thead th {\n",
       "        text-align: right;\n",
       "    }\n",
       "</style>\n",
       "<table border=\"1\" class=\"dataframe\">\n",
       "  <thead>\n",
       "    <tr style=\"text-align: right;\">\n",
       "      <th></th>\n",
       "      <th>total_income</th>\n",
       "    </tr>\n",
       "    <tr>\n",
       "      <th>income_type</th>\n",
       "      <th></th>\n",
       "    </tr>\n",
       "  </thead>\n",
       "  <tbody>\n",
       "    <tr>\n",
       "      <th>business</th>\n",
       "      <td>27571.0825</td>\n",
       "    </tr>\n",
       "    <tr>\n",
       "      <th>civil servant</th>\n",
       "      <td>24071.6695</td>\n",
       "    </tr>\n",
       "    <tr>\n",
       "      <th>employee</th>\n",
       "      <td>22815.1035</td>\n",
       "    </tr>\n",
       "    <tr>\n",
       "      <th>entrepreneur</th>\n",
       "      <td>79866.1030</td>\n",
       "    </tr>\n",
       "    <tr>\n",
       "      <th>paternity/maternity leave</th>\n",
       "      <td>8612.6610</td>\n",
       "    </tr>\n",
       "    <tr>\n",
       "      <th>retiree</th>\n",
       "      <td>18962.3180</td>\n",
       "    </tr>\n",
       "    <tr>\n",
       "      <th>student</th>\n",
       "      <td>15712.2600</td>\n",
       "    </tr>\n",
       "    <tr>\n",
       "      <th>unemployed</th>\n",
       "      <td>21014.3605</td>\n",
       "    </tr>\n",
       "  </tbody>\n",
       "</table>\n",
       "</div>"
      ],
      "text/plain": [
       "                           total_income\n",
       "income_type                            \n",
       "business                     27571.0825\n",
       "civil servant                24071.6695\n",
       "employee                     22815.1035\n",
       "entrepreneur                 79866.1030\n",
       "paternity/maternity leave     8612.6610\n",
       "retiree                      18962.3180\n",
       "student                      15712.2600\n",
       "unemployed                   21014.3605"
      ]
     },
     "execution_count": 80,
     "metadata": {},
     "output_type": "execute_result"
    }
   ],
   "source": [
    "data_income"
   ]
  },
  {
   "cell_type": "markdown",
   "metadata": {},
   "source": [
    "De acuerdo a la tabla que nos relaciona el total de ingresos de acuerdo al tipo de ingreso, los menores ingresos son obtenidos por los clientes que se encuentran en licencia de paternidad/maternidad, los estudiantes y los retirados."
   ]
  },
  {
   "cell_type": "code",
   "execution_count": 81,
   "metadata": {
    "scrolled": true
   },
   "outputs": [
    {
     "data": {
      "text/plain": [
       "23542.491"
      ]
     },
     "execution_count": 81,
     "metadata": {},
     "output_type": "execute_result"
    }
   ],
   "source": [
    "data_edades[\"total_income\"][\"adulto\"]# Examina los valores medianos de los ingresos en función de los factores que identificaste\n"
   ]
  },
  {
   "cell_type": "code",
   "execution_count": 82,
   "metadata": {},
   "outputs": [
    {
     "data": {
      "text/plain": [
       "21836.583"
      ]
     },
     "execution_count": 82,
     "metadata": {},
     "output_type": "execute_result"
    }
   ],
   "source": [
    "data_education[\"total_income\"][\"secondary education\"]"
   ]
  },
  {
   "cell_type": "code",
   "execution_count": 83,
   "metadata": {},
   "outputs": [
    {
     "data": {
      "text/plain": [
       "27571.0825"
      ]
     },
     "execution_count": 83,
     "metadata": {},
     "output_type": "execute_result"
    }
   ],
   "source": [
    "data_income[\"total_income\"][\"business\"]"
   ]
  },
  {
   "cell_type": "markdown",
   "metadata": {},
   "source": [
    "Para rellenar los valores ausentes en la columna \"total_income\", se decide hacerlo con la información de las edades de los clientes, y con la utilización de la mediana debido a las diferencias entre los valores."
   ]
  },
  {
   "cell_type": "code",
   "execution_count": 84,
   "metadata": {},
   "outputs": [],
   "source": [
    "def func_ausentes_total_income(row):#  Escribe una función que usaremos para completar los valores ausentes\n",
    "    edades_clientes=row[\"edades_clientes\"]\n",
    "    total_income=row[\"total_income\"]\n",
    "    if pd.isna(total_income):\n",
    "        return data_edades[\"total_income\"][edades_clientes]\n",
    "    return total_income"
   ]
  },
  {
   "cell_type": "code",
   "execution_count": 85,
   "metadata": {},
   "outputs": [
    {
     "data": {
      "text/plain": [
       "20873.317"
      ]
     },
     "execution_count": 85,
     "metadata": {},
     "output_type": "execute_result"
    }
   ],
   "source": [
    "func_ausentes_total_income(credit.iloc[13])# Comprueba si funciona\n"
   ]
  },
  {
   "cell_type": "code",
   "execution_count": 86,
   "metadata": {},
   "outputs": [
    {
     "data": {
      "text/plain": [
       "0        40620.102\n",
       "1        17932.802\n",
       "2        23341.752\n",
       "3        42820.568\n",
       "4        25378.572\n",
       "           ...    \n",
       "21448    35966.698\n",
       "21449    24959.969\n",
       "21450    14347.610\n",
       "21451    39054.888\n",
       "21452    13127.587\n",
       "Length: 21453, dtype: float64"
      ]
     },
     "execution_count": 86,
     "metadata": {},
     "output_type": "execute_result"
    }
   ],
   "source": [
    "credit.apply(func_ausentes_total_income, axis=1) # Aplícalo a cada fila"
   ]
  },
  {
   "cell_type": "code",
   "execution_count": 87,
   "metadata": {},
   "outputs": [],
   "source": [
    "credit[\"total_income\"]= credit.apply(func_ausentes_total_income, axis=1) # Comprueba si tenemos algún error\n"
   ]
  },
  {
   "cell_type": "code",
   "execution_count": 88,
   "metadata": {},
   "outputs": [
    {
     "data": {
      "text/plain": [
       "0"
      ]
     },
     "execution_count": 88,
     "metadata": {},
     "output_type": "execute_result"
    }
   ],
   "source": [
    "credit[\"total_income\"].isna().sum()"
   ]
  },
  {
   "cell_type": "markdown",
   "metadata": {},
   "source": [
    "Se comprueba que el número total de valores`total_income`, coincida con el número de valores en las otras columnas que conforman la base de datos."
   ]
  },
  {
   "cell_type": "code",
   "execution_count": 89,
   "metadata": {},
   "outputs": [
    {
     "name": "stdout",
     "output_type": "stream",
     "text": [
      "<class 'pandas.core.frame.DataFrame'>\n",
      "RangeIndex: 21453 entries, 0 to 21452\n",
      "Data columns (total 13 columns):\n",
      " #   Column            Non-Null Count  Dtype  \n",
      "---  ------            --------------  -----  \n",
      " 0   children          21453 non-null  int64  \n",
      " 1   days_employed     19350 non-null  float64\n",
      " 2   dob_years         21453 non-null  float64\n",
      " 3   education         21453 non-null  object \n",
      " 4   education_id      21453 non-null  int64  \n",
      " 5   family_status     21453 non-null  object \n",
      " 6   family_status_id  21453 non-null  int64  \n",
      " 7   gender            21453 non-null  object \n",
      " 8   income_type       21453 non-null  object \n",
      " 9   debt              21453 non-null  int64  \n",
      " 10  total_income      21453 non-null  float64\n",
      " 11  purpose           21453 non-null  object \n",
      " 12  edades_clientes   21453 non-null  object \n",
      "dtypes: float64(3), int64(4), object(6)\n",
      "memory usage: 2.1+ MB\n"
     ]
    }
   ],
   "source": [
    "credit.info()# Comprobar el número de entradas en las columnas"
   ]
  },
  {
   "cell_type": "markdown",
   "metadata": {},
   "source": [
    "El número total de valores en la columna \"total_income\", coincide con el número total de valores en las demás columnas que componen la base de datos."
   ]
  },
  {
   "cell_type": "markdown",
   "metadata": {},
   "source": [
    "###  Restaurar valores en `days_employed`"
   ]
  },
  {
   "cell_type": "markdown",
   "metadata": {},
   "source": [
    "Para rellenar los valores ausentes en la columna \"days_employed\", tenemos en cuenta la relación de éste dato con las edades de los clientes y con base en ésto se identifican los valores medios de los días trabajados en función de las edades de los clientes. "
   ]
  },
  {
   "cell_type": "code",
   "execution_count": 90,
   "metadata": {
    "pycharm": {
     "name": "#%%\n"
    }
   },
   "outputs": [],
   "source": [
    "data_employed=credit.pivot_table(index=\"edades_clientes\",values=\"days_employed\",aggfunc=\"median\")# Distribución de las medianas de `days_employed` en función de los parámetros identificados\n"
   ]
  },
  {
   "cell_type": "code",
   "execution_count": 91,
   "metadata": {},
   "outputs": [
    {
     "data": {
      "text/html": [
       "<div>\n",
       "<style scoped>\n",
       "    .dataframe tbody tr th:only-of-type {\n",
       "        vertical-align: middle;\n",
       "    }\n",
       "\n",
       "    .dataframe tbody tr th {\n",
       "        vertical-align: top;\n",
       "    }\n",
       "\n",
       "    .dataframe thead th {\n",
       "        text-align: right;\n",
       "    }\n",
       "</style>\n",
       "<table border=\"1\" class=\"dataframe\">\n",
       "  <thead>\n",
       "    <tr style=\"text-align: right;\">\n",
       "      <th></th>\n",
       "      <th>days_employed</th>\n",
       "    </tr>\n",
       "    <tr>\n",
       "      <th>edades_clientes</th>\n",
       "      <th></th>\n",
       "    </tr>\n",
       "  </thead>\n",
       "  <tbody>\n",
       "    <tr>\n",
       "      <th>adulto</th>\n",
       "      <td>2490.434196</td>\n",
       "    </tr>\n",
       "    <tr>\n",
       "      <th>adulto jóven</th>\n",
       "      <td>998.961907</td>\n",
       "    </tr>\n",
       "    <tr>\n",
       "      <th>adulto mayor</th>\n",
       "      <td>15020.871042</td>\n",
       "    </tr>\n",
       "  </tbody>\n",
       "</table>\n",
       "</div>"
      ],
      "text/plain": [
       "                 days_employed\n",
       "edades_clientes               \n",
       "adulto             2490.434196\n",
       "adulto jóven        998.961907\n",
       "adulto mayor      15020.871042"
      ]
     },
     "execution_count": 91,
     "metadata": {},
     "output_type": "execute_result"
    }
   ],
   "source": [
    "data_employed # Distribución de las medias de `days_employed` en función de los parámetros identificados"
   ]
  },
  {
   "cell_type": "markdown",
   "metadata": {},
   "source": [
    "Se decide utilizar medianas debido a las diferencias entre los datos."
   ]
  },
  {
   "cell_type": "code",
   "execution_count": 92,
   "metadata": {},
   "outputs": [],
   "source": [
    "def days_funcion(row):# Escribamos una función que calcule medias o medianas (dependiendo de tu decisión) según el parámetro identificado\n",
    "    edades_clientes=row[\"edades_clientes\"]\n",
    "    days_employed=row[\"days_employed\"]\n",
    "    if pd.isna(days_employed):\n",
    "        return data_employed[\"days_employed\"][edades_clientes]\n",
    "    return days_employed"
   ]
  },
  {
   "cell_type": "code",
   "execution_count": 93,
   "metadata": {},
   "outputs": [
    {
     "data": {
      "text/plain": [
       "1846.6419410560736"
      ]
     },
     "execution_count": 93,
     "metadata": {},
     "output_type": "execute_result"
    }
   ],
   "source": [
    "days_funcion(credit.iloc[13])# Comprueba que la función funciona"
   ]
  },
  {
   "cell_type": "code",
   "execution_count": 94,
   "metadata": {},
   "outputs": [
    {
     "data": {
      "text/plain": [
       "0         8437.673028\n",
       "1         4024.803754\n",
       "2         5623.422610\n",
       "3         4124.747207\n",
       "4        14177.753002\n",
       "             ...     \n",
       "21448     4529.316663\n",
       "21449    14330.725172\n",
       "21450     2113.346888\n",
       "21451     3112.481705\n",
       "21452     1984.507589\n",
       "Length: 21453, dtype: float64"
      ]
     },
     "execution_count": 94,
     "metadata": {},
     "output_type": "execute_result"
    }
   ],
   "source": [
    "credit.apply(days_funcion,axis=1) # Aplicar la función al income_type\n",
    " "
   ]
  },
  {
   "cell_type": "code",
   "execution_count": 95,
   "metadata": {},
   "outputs": [],
   "source": [
    "credit[\"days_employed\"]=credit.apply(days_funcion,axis=1)# Comprueba si la función funcionó"
   ]
  },
  {
   "cell_type": "code",
   "execution_count": 96,
   "metadata": {},
   "outputs": [
    {
     "name": "stdout",
     "output_type": "stream",
     "text": [
      "<class 'pandas.core.frame.DataFrame'>\n",
      "RangeIndex: 21453 entries, 0 to 21452\n",
      "Data columns (total 13 columns):\n",
      " #   Column            Non-Null Count  Dtype  \n",
      "---  ------            --------------  -----  \n",
      " 0   children          21453 non-null  int64  \n",
      " 1   days_employed     21453 non-null  float64\n",
      " 2   dob_years         21453 non-null  float64\n",
      " 3   education         21453 non-null  object \n",
      " 4   education_id      21453 non-null  int64  \n",
      " 5   family_status     21453 non-null  object \n",
      " 6   family_status_id  21453 non-null  int64  \n",
      " 7   gender            21453 non-null  object \n",
      " 8   income_type       21453 non-null  object \n",
      " 9   debt              21453 non-null  int64  \n",
      " 10  total_income      21453 non-null  float64\n",
      " 11  purpose           21453 non-null  object \n",
      " 12  edades_clientes   21453 non-null  object \n",
      "dtypes: float64(3), int64(4), object(6)\n",
      "memory usage: 2.1+ MB\n"
     ]
    }
   ],
   "source": [
    "credit.info()"
   ]
  },
  {
   "cell_type": "code",
   "execution_count": 97,
   "metadata": {},
   "outputs": [
    {
     "data": {
      "text/plain": [
       "0"
      ]
     },
     "execution_count": 97,
     "metadata": {},
     "output_type": "execute_result"
    }
   ],
   "source": [
    "credit[\"days_employed\"].isna().sum()"
   ]
  },
  {
   "cell_type": "code",
   "execution_count": 98,
   "metadata": {},
   "outputs": [],
   "source": [
    "# Reemplazar valores ausentes"
   ]
  },
  {
   "cell_type": "code",
   "execution_count": 99,
   "metadata": {},
   "outputs": [
    {
     "name": "stdout",
     "output_type": "stream",
     "text": [
      "<class 'pandas.core.frame.DataFrame'>\n",
      "RangeIndex: 21453 entries, 0 to 21452\n",
      "Data columns (total 13 columns):\n",
      " #   Column            Non-Null Count  Dtype  \n",
      "---  ------            --------------  -----  \n",
      " 0   children          21453 non-null  int64  \n",
      " 1   days_employed     21453 non-null  float64\n",
      " 2   dob_years         21453 non-null  float64\n",
      " 3   education         21453 non-null  object \n",
      " 4   education_id      21453 non-null  int64  \n",
      " 5   family_status     21453 non-null  object \n",
      " 6   family_status_id  21453 non-null  int64  \n",
      " 7   gender            21453 non-null  object \n",
      " 8   income_type       21453 non-null  object \n",
      " 9   debt              21453 non-null  int64  \n",
      " 10  total_income      21453 non-null  float64\n",
      " 11  purpose           21453 non-null  object \n",
      " 12  edades_clientes   21453 non-null  object \n",
      "dtypes: float64(3), int64(4), object(6)\n",
      "memory usage: 2.1+ MB\n"
     ]
    }
   ],
   "source": [
    "credit.info()# Comprueba las entradas en todas las columnas: asegúrate de que hayamos corregido todos los valores ausentes"
   ]
  },
  {
   "cell_type": "markdown",
   "metadata": {},
   "source": [
    "## Clasificación de datos\n",
    "\n",
    "Para facilitar la manipulación y evaluación de los datos, se clasifican los datos de las columnas \"familý_status\",\"purpose\",\"total_income\" y \"children\"; para reducir la información de éstas columnas y facilitar el análisis y la comprobación de la hipótesis.\n"
   ]
  },
  {
   "cell_type": "code",
   "execution_count": 100,
   "metadata": {},
   "outputs": [
    {
     "data": {
      "text/plain": [
       "married              12339\n",
       "civil partnership     4150\n",
       "unmarried             2810\n",
       "divorced              1195\n",
       "widow/widower          959\n",
       "Name: family_status, dtype: int64"
      ]
     },
     "execution_count": 100,
     "metadata": {},
     "output_type": "execute_result"
    }
   ],
   "source": [
    "credit[\"family_status\"].value_counts() #identificamos los valores para verificar los datos que podrían clasificarse."
   ]
  },
  {
   "cell_type": "code",
   "execution_count": 101,
   "metadata": {
    "scrolled": true
   },
   "outputs": [
    {
     "data": {
      "text/plain": [
       "wedding ceremony                            791\n",
       "having a wedding                            768\n",
       "to have a wedding                           765\n",
       "real estate transactions                    675\n",
       "buy commercial real estate                  661\n",
       "housing transactions                        652\n",
       "buying property for renting out             651\n",
       "transactions with commercial real estate    650\n",
       "purchase of the house                       646\n",
       "housing                                     646\n",
       "purchase of the house for my family         638\n",
       "construction of own property                635\n",
       "property                                    633\n",
       "transactions with my real estate            627\n",
       "building a real estate                      624\n",
       "buy real estate                             620\n",
       "purchase of my own house                    620\n",
       "building a property                         619\n",
       "housing renovation                          607\n",
       "buy residential real estate                 606\n",
       "buying my own car                           505\n",
       "going to university                         496\n",
       "car                                         494\n",
       "second-hand car purchase                    486\n",
       "buying a second-hand car                    478\n",
       "cars                                        478\n",
       "to own a car                                478\n",
       "to buy a car                                471\n",
       "car purchase                                461\n",
       "supplementary education                     460\n",
       "purchase of a car                           455\n",
       "university education                        452\n",
       "education                                   447\n",
       "to get a supplementary education            446\n",
       "getting an education                        442\n",
       "profile education                           436\n",
       "getting higher education                    426\n",
       "to become educated                          408\n",
       "Name: purpose, dtype: int64"
      ]
     },
     "execution_count": 101,
     "metadata": {},
     "output_type": "execute_result"
    }
   ],
   "source": [
    "credit[\"purpose\"].value_counts()"
   ]
  },
  {
   "cell_type": "markdown",
   "metadata": {},
   "source": [
    "Vamos a comprobar los valores únicos en cada columna en la que queremos clasificar los datos."
   ]
  },
  {
   "cell_type": "code",
   "execution_count": 102,
   "metadata": {},
   "outputs": [
    {
     "data": {
      "text/plain": [
       "array(['married', 'civil partnership', 'widow/widower', 'divorced',\n",
       "       'unmarried'], dtype=object)"
      ]
     },
     "execution_count": 102,
     "metadata": {},
     "output_type": "execute_result"
    }
   ],
   "source": [
    "credit[\"family_status\"].unique() #comprobamos los valores únicos"
   ]
  },
  {
   "cell_type": "code",
   "execution_count": 103,
   "metadata": {},
   "outputs": [
    {
     "data": {
      "text/plain": [
       "array(['purchase of the house', 'car purchase', 'supplementary education',\n",
       "       'to have a wedding', 'housing transactions', 'education',\n",
       "       'having a wedding', 'purchase of the house for my family',\n",
       "       'buy real estate', 'buy commercial real estate',\n",
       "       'buy residential real estate', 'construction of own property',\n",
       "       'property', 'building a property', 'buying a second-hand car',\n",
       "       'buying my own car', 'transactions with commercial real estate',\n",
       "       'building a real estate', 'housing',\n",
       "       'transactions with my real estate', 'cars', 'to become educated',\n",
       "       'second-hand car purchase', 'getting an education', 'car',\n",
       "       'wedding ceremony', 'to get a supplementary education',\n",
       "       'purchase of my own house', 'real estate transactions',\n",
       "       'getting higher education', 'to own a car', 'purchase of a car',\n",
       "       'profile education', 'university education',\n",
       "       'buying property for renting out', 'to buy a car',\n",
       "       'housing renovation', 'going to university'], dtype=object)"
      ]
     },
     "execution_count": 103,
     "metadata": {},
     "output_type": "execute_result"
    }
   ],
   "source": [
    "credit[\"purpose\"].unique()"
   ]
  },
  {
   "cell_type": "markdown",
   "metadata": {},
   "source": [
    "Se identifican grupos  principales en función de los valores únicos, para proceder con la clasificación de los datos.\n"
   ]
  },
  {
   "cell_type": "code",
   "execution_count": 104,
   "metadata": {},
   "outputs": [],
   "source": [
    "def funcion_familia(value):# función para clasificar los datos en función de temas comunes\n",
    "    if value==\"married\":\n",
    "        return \"casado\"\n",
    "    if value==\"civil partnership\":\n",
    "        return \"unión libre\"\n",
    "    if value==\"divorced\":\n",
    "        return \"divorciado\"\n",
    "    if value==\"widow/widower\":\n",
    "        return \"viudo\"\n",
    "    return \"soltero\""
   ]
  },
  {
   "cell_type": "code",
   "execution_count": 105,
   "metadata": {},
   "outputs": [
    {
     "name": "stdout",
     "output_type": "stream",
     "text": [
      "divorciado\n"
     ]
    }
   ],
   "source": [
    "print(funcion_familia(\"divorced\")) # compruebo la función"
   ]
  },
  {
   "cell_type": "code",
   "execution_count": 106,
   "metadata": {},
   "outputs": [],
   "source": [
    "credit[\"family_status\"]=credit[\"family_status\"].apply(funcion_familia)# Crea una columna con las categorías y cuenta los valores en ellas"
   ]
  },
  {
   "cell_type": "code",
   "execution_count": 107,
   "metadata": {
    "scrolled": true
   },
   "outputs": [
    {
     "data": {
      "text/plain": [
       "casado         0.575164\n",
       "unión libre    0.193446\n",
       "soltero        0.130984\n",
       "divorciado     0.055703\n",
       "viudo          0.044702\n",
       "Name: family_status, dtype: float64"
      ]
     },
     "execution_count": 107,
     "metadata": {},
     "output_type": "execute_result"
    }
   ],
   "source": [
    "credit[\"family_status\"].value_counts(normalize=True) # Revisar todos los datos numéricos en la columna seleccionada para la clasificación"
   ]
  },
  {
   "cell_type": "markdown",
   "metadata": {},
   "source": [
    "La mayoría de las clientes se encuentran casados(57% de los clientes)."
   ]
  },
  {
   "cell_type": "code",
   "execution_count": 108,
   "metadata": {},
   "outputs": [
    {
     "data": {
      "text/plain": [
       "count      21453\n",
       "unique         5\n",
       "top       casado\n",
       "freq       12339\n",
       "Name: family_status, dtype: object"
      ]
     },
     "execution_count": 108,
     "metadata": {},
     "output_type": "execute_result"
    }
   ],
   "source": [
    "credit[\"family_status\"].describe() # Obtener estadísticas resumidas para la columna"
   ]
  },
  {
   "cell_type": "code",
   "execution_count": 109,
   "metadata": {},
   "outputs": [],
   "source": [
    "def funcion_purpose(value):\n",
    "    if \"wedding\" in value:\n",
    "        return \"boda\"\n",
    "    if \"house\" in value or \"housing\" in value or \"property\" in value or \"construction of own\" in value:\n",
    "        return \"casa\"\n",
    "    if \"education\" in value or \"university\" in value or \"educated\" in value:\n",
    "        return \"educación\"\n",
    "    if \"real estate\" in value:\n",
    "        return \"propiedad raíz\"\n",
    "    if \"car\" in value or \"car\" in value:\n",
    "        return \"carro\"\n",
    "    return \"ninguna de las anteriores\"\n",
    " "
   ]
  },
  {
   "cell_type": "markdown",
   "metadata": {},
   "source": [
    "<div class=\"alert alert-block alert-success\">\n",
    "<b>Comentario del revisor</b> <a class=\"tocSkip\"></a>\n",
    "\n",
    "Buenas correcciones a la función para considerar todos los casos\n",
    "</div>"
   ]
  },
  {
   "cell_type": "code",
   "execution_count": 110,
   "metadata": {},
   "outputs": [
    {
     "name": "stdout",
     "output_type": "stream",
     "text": [
      "carro\n",
      "casa\n",
      "boda\n",
      "ninguna de las anteriores\n"
     ]
    }
   ],
   "source": [
    "print(funcion_purpose(\"cars\"))\n",
    "print(funcion_purpose(\"housing\"))\n",
    "print(funcion_purpose(\"wedding\"))\n",
    "print(funcion_purpose(\"travel\"))"
   ]
  },
  {
   "cell_type": "code",
   "execution_count": 111,
   "metadata": {},
   "outputs": [],
   "source": [
    "credit[\"purpose\"]=credit[\"purpose\"].apply(funcion_purpose)"
   ]
  },
  {
   "cell_type": "code",
   "execution_count": 112,
   "metadata": {},
   "outputs": [
    {
     "data": {
      "text/plain": [
       "casa              6347\n",
       "propiedad raíz    4463\n",
       "carro             4306\n",
       "educación         4013\n",
       "boda              2324\n",
       "Name: purpose, dtype: int64"
      ]
     },
     "execution_count": 112,
     "metadata": {},
     "output_type": "execute_result"
    }
   ],
   "source": [
    "credit[\"purpose\"].value_counts() # Revisar todos los datos numéricos en la columna seleccionada para la clasificación"
   ]
  },
  {
   "cell_type": "markdown",
   "metadata": {},
   "source": [
    "La mayoría de los clientes solicitan un préstamo para la construcción o remodelación de vivienda y para propiedad raíz."
   ]
  },
  {
   "cell_type": "markdown",
   "metadata": {},
   "source": [
    "Se clasifican los datos numéricos de la columna \"children\" y \"total_income\""
   ]
  },
  {
   "cell_type": "code",
   "execution_count": 113,
   "metadata": {},
   "outputs": [
    {
     "data": {
      "text/plain": [
       "0    14090\n",
       "1     4855\n",
       "2     2128\n",
       "3      330\n",
       "4       41\n",
       "5        9\n",
       "Name: children, dtype: int64"
      ]
     },
     "execution_count": 113,
     "metadata": {},
     "output_type": "execute_result"
    }
   ],
   "source": [
    "credit[\"children\"].value_counts() # Revisar todos los datos numéricos en la columna seleccionada para la clasificación"
   ]
  },
  {
   "cell_type": "code",
   "execution_count": 114,
   "metadata": {},
   "outputs": [
    {
     "data": {
      "text/plain": [
       "count    21453.000000\n",
       "mean         0.480585\n",
       "std          0.756079\n",
       "min          0.000000\n",
       "25%          0.000000\n",
       "50%          0.000000\n",
       "75%          1.000000\n",
       "max          5.000000\n",
       "Name: children, dtype: float64"
      ]
     },
     "execution_count": 114,
     "metadata": {},
     "output_type": "execute_result"
    }
   ],
   "source": [
    "credit[\"children\"].describe() # Obtener estadísticas resumidas para la columna"
   ]
  },
  {
   "cell_type": "markdown",
   "metadata": {},
   "source": [
    "Se decide clasificar la columna \"children\" en sin hijos, con hijos y cantidad considerable de hijos, para identificar mas fácilmente si realmente a mayor número de hijos se identifica un cambio en la tasa de incumplimiento de un préstamo."
   ]
  },
  {
   "cell_type": "code",
   "execution_count": 115,
   "metadata": {},
   "outputs": [],
   "source": [
    "def funcion_children(value):# Crear una función para clasificar en diferentes grupos numéricos basándose en rangos\n",
    "    if value==0:\n",
    "        return \"sin hijos\"\n",
    "    if value >=1 and value <=3:\n",
    "        return \"tiene hijos\"\n",
    "    if value >=4:\n",
    "        return \"cantidad considerable de hijos\""
   ]
  },
  {
   "cell_type": "code",
   "execution_count": 116,
   "metadata": {},
   "outputs": [
    {
     "name": "stdout",
     "output_type": "stream",
     "text": [
      "cantidad considerable de hijos\n"
     ]
    }
   ],
   "source": [
    "print(funcion_children(5)) # compruebo la función"
   ]
  },
  {
   "cell_type": "code",
   "execution_count": 117,
   "metadata": {},
   "outputs": [],
   "source": [
    "credit[\"children\"]=credit[\"children\"].apply(funcion_children)# Crear una columna con categorías"
   ]
  },
  {
   "cell_type": "code",
   "execution_count": 118,
   "metadata": {
    "scrolled": true
   },
   "outputs": [
    {
     "data": {
      "text/plain": [
       "sin hijos                         14090\n",
       "tiene hijos                        7313\n",
       "cantidad considerable de hijos       50\n",
       "Name: children, dtype: int64"
      ]
     },
     "execution_count": 118,
     "metadata": {},
     "output_type": "execute_result"
    }
   ],
   "source": [
    "credit[\"children\"].value_counts() # Contar los valores de cada categoría para ver la distribución\n"
   ]
  },
  {
   "cell_type": "code",
   "execution_count": 119,
   "metadata": {
    "scrolled": true
   },
   "outputs": [
    {
     "data": {
      "text/plain": [
       "23542.491    1731\n",
       "22735.911     297\n",
       "18471.391      77\n",
       "31791.384       2\n",
       "42413.096       2\n",
       "             ... \n",
       "23834.534       1\n",
       "26124.613       1\n",
       "28692.182       1\n",
       "28477.783       1\n",
       "41428.916       1\n",
       "Name: total_income, Length: 19348, dtype: int64"
      ]
     },
     "execution_count": 119,
     "metadata": {},
     "output_type": "execute_result"
    }
   ],
   "source": [
    "credit[\"total_income\"].value_counts()"
   ]
  },
  {
   "cell_type": "code",
   "execution_count": 120,
   "metadata": {},
   "outputs": [
    {
     "data": {
      "text/plain": [
       "array([40620.102, 17932.802, 23341.752, ..., 14347.61 , 39054.888,\n",
       "       13127.587])"
      ]
     },
     "execution_count": 120,
     "metadata": {},
     "output_type": "execute_result"
    }
   ],
   "source": [
    "credit[\"total_income\"].unique()"
   ]
  },
  {
   "cell_type": "markdown",
   "metadata": {},
   "source": [
    "Debido a la gran cantidad de valores para la columna \"total_income\", se decide clasificar éstos valores en estratos, para facilitar las comparaciones con respecto a la tasa de incumplimiento."
   ]
  },
  {
   "cell_type": "code",
   "execution_count": 121,
   "metadata": {},
   "outputs": [],
   "source": [
    "def income_funcion(value):\n",
    "    if value < 15000:\n",
    "        return \"estrato 1\"\n",
    "    if value >= 15000 and value < 30000:\n",
    "        return \"estrato 2\"\n",
    "    if value >= 30000 and value < 45000:\n",
    "        return \"estrato 3\"\n",
    "    if value >= 45000 and value < 60000:\n",
    "        return \"estrato 4\"\n",
    "    if value >= 60000:\n",
    "        return \"estrato 5\""
   ]
  },
  {
   "cell_type": "code",
   "execution_count": 122,
   "metadata": {},
   "outputs": [
    {
     "name": "stdout",
     "output_type": "stream",
     "text": [
      "estrato 5\n"
     ]
    }
   ],
   "source": [
    "print(income_funcion(300000))"
   ]
  },
  {
   "cell_type": "code",
   "execution_count": 123,
   "metadata": {},
   "outputs": [],
   "source": [
    "credit[\"total_income\"]=credit[\"total_income\"].apply(income_funcion)"
   ]
  },
  {
   "cell_type": "code",
   "execution_count": 124,
   "metadata": {},
   "outputs": [
    {
     "data": {
      "text/plain": [
       "array(['estrato 3', 'estrato 2', 'estrato 1', 'estrato 4', 'estrato 5'],\n",
       "      dtype=object)"
      ]
     },
     "execution_count": 124,
     "metadata": {},
     "output_type": "execute_result"
    }
   ],
   "source": [
    "credit[\"total_income\"].unique()"
   ]
  },
  {
   "cell_type": "markdown",
   "metadata": {},
   "source": [
    "## Comprobación de las hipótesis\n"
   ]
  },
  {
   "cell_type": "markdown",
   "metadata": {},
   "source": [
    "**¿Existe una correlación entre tener hijos y pagar a tiempo?**"
   ]
  },
  {
   "cell_type": "code",
   "execution_count": 125,
   "metadata": {},
   "outputs": [],
   "source": [
    "children_porcentaje=pd.pivot_table(credit,index=\"children\",values=\"debt\") # Comprueba los datos sobre los hijos y los pagos puntuales"
   ]
  },
  {
   "cell_type": "code",
   "execution_count": 126,
   "metadata": {},
   "outputs": [
    {
     "data": {
      "text/html": [
       "<div>\n",
       "<style scoped>\n",
       "    .dataframe tbody tr th:only-of-type {\n",
       "        vertical-align: middle;\n",
       "    }\n",
       "\n",
       "    .dataframe tbody tr th {\n",
       "        vertical-align: top;\n",
       "    }\n",
       "\n",
       "    .dataframe thead th {\n",
       "        text-align: right;\n",
       "    }\n",
       "</style>\n",
       "<table border=\"1\" class=\"dataframe\">\n",
       "  <thead>\n",
       "    <tr style=\"text-align: right;\">\n",
       "      <th></th>\n",
       "      <th>debt</th>\n",
       "      <th>%deudores_children</th>\n",
       "    </tr>\n",
       "    <tr>\n",
       "      <th>children</th>\n",
       "      <th></th>\n",
       "      <th></th>\n",
       "    </tr>\n",
       "  </thead>\n",
       "  <tbody>\n",
       "    <tr>\n",
       "      <th>cantidad considerable de hijos</th>\n",
       "      <td>0.080000</td>\n",
       "      <td>32.309106</td>\n",
       "    </tr>\n",
       "    <tr>\n",
       "      <th>sin hijos</th>\n",
       "      <td>0.075444</td>\n",
       "      <td>30.468931</td>\n",
       "    </tr>\n",
       "    <tr>\n",
       "      <th>tiene hijos</th>\n",
       "      <td>0.092165</td>\n",
       "      <td>37.221963</td>\n",
       "    </tr>\n",
       "  </tbody>\n",
       "</table>\n",
       "</div>"
      ],
      "text/plain": [
       "                                    debt  %deudores_children\n",
       "children                                                    \n",
       "cantidad considerable de hijos  0.080000           32.309106\n",
       "sin hijos                       0.075444           30.468931\n",
       "tiene hijos                     0.092165           37.221963"
      ]
     },
     "execution_count": 126,
     "metadata": {},
     "output_type": "execute_result"
    }
   ],
   "source": [
    "children_porcentaje[\"%deudores_children\"]=(children_porcentaje[\"debt\"]/children_porcentaje[\"debt\"].sum())*100 \n",
    "children_porcentaje # Calcular la tasa de incumplimiento en función del número de hijos"
   ]
  },
  {
   "cell_type": "markdown",
   "metadata": {},
   "source": [
    "**Conclusión**\n",
    "\n",
    "De acuerdo a la tabla donde se relaciona el porcentaje de deudores para cada cliente con cierto número de hijos, es mayor el porcentaje de incumplimiento para  los clientes que tiene hijos (37%), y la tasa de incumplimiento es mas baja para los clientes que no tiene hijos (30%)\n"
   ]
  },
  {
   "cell_type": "markdown",
   "metadata": {},
   "source": [
    "**¿Existe una correlación entre la situación familiar y el pago a tiempo?**"
   ]
  },
  {
   "cell_type": "code",
   "execution_count": 127,
   "metadata": {},
   "outputs": [],
   "source": [
    "familia_porcentaje=pd.pivot_table(credit,index=\"family_status\",values=\"debt\") # Comprueba los datos del estado familiar y los pagos a tiempo"
   ]
  },
  {
   "cell_type": "code",
   "execution_count": 128,
   "metadata": {},
   "outputs": [
    {
     "data": {
      "text/html": [
       "<div>\n",
       "<style scoped>\n",
       "    .dataframe tbody tr th:only-of-type {\n",
       "        vertical-align: middle;\n",
       "    }\n",
       "\n",
       "    .dataframe tbody tr th {\n",
       "        vertical-align: top;\n",
       "    }\n",
       "\n",
       "    .dataframe thead th {\n",
       "        text-align: right;\n",
       "    }\n",
       "</style>\n",
       "<table border=\"1\" class=\"dataframe\">\n",
       "  <thead>\n",
       "    <tr style=\"text-align: right;\">\n",
       "      <th></th>\n",
       "      <th>debt</th>\n",
       "      <th>%deudores_familia</th>\n",
       "    </tr>\n",
       "    <tr>\n",
       "      <th>family_status</th>\n",
       "      <th></th>\n",
       "      <th></th>\n",
       "    </tr>\n",
       "  </thead>\n",
       "  <tbody>\n",
       "    <tr>\n",
       "      <th>casado</th>\n",
       "      <td>0.075452</td>\n",
       "      <td>18.709637</td>\n",
       "    </tr>\n",
       "    <tr>\n",
       "      <th>divorciado</th>\n",
       "      <td>0.071130</td>\n",
       "      <td>17.637892</td>\n",
       "    </tr>\n",
       "    <tr>\n",
       "      <th>soltero</th>\n",
       "      <td>0.097509</td>\n",
       "      <td>24.179087</td>\n",
       "    </tr>\n",
       "    <tr>\n",
       "      <th>unión libre</th>\n",
       "      <td>0.093494</td>\n",
       "      <td>23.183515</td>\n",
       "    </tr>\n",
       "    <tr>\n",
       "      <th>viudo</th>\n",
       "      <td>0.065693</td>\n",
       "      <td>16.289869</td>\n",
       "    </tr>\n",
       "  </tbody>\n",
       "</table>\n",
       "</div>"
      ],
      "text/plain": [
       "                   debt  %deudores_familia\n",
       "family_status                             \n",
       "casado         0.075452          18.709637\n",
       "divorciado     0.071130          17.637892\n",
       "soltero        0.097509          24.179087\n",
       "unión libre    0.093494          23.183515\n",
       "viudo          0.065693          16.289869"
      ]
     },
     "execution_count": 128,
     "metadata": {},
     "output_type": "execute_result"
    }
   ],
   "source": [
    "familia_porcentaje[\"%deudores_familia\"]=(familia_porcentaje[\"debt\"]/familia_porcentaje[\"debt\"].sum())*100\n",
    "familia_porcentaje # Calcular la tasa de incumplimiento basada en el estado familiar"
   ]
  },
  {
   "cell_type": "markdown",
   "metadata": {},
   "source": [
    "**Conclusión**\n",
    "\n",
    "De acuerdo a la tabla que relaciona el porcentaje de deudores para cada tipo de estado civil o relación familiar de los clientes, se evidencian mayores tasas de incumplimiento para los clientes solteros (24%) y una menor tasa de incumplimiento para los clientes viudos (16%), divorciados (17%) y casados (18%)."
   ]
  },
  {
   "cell_type": "markdown",
   "metadata": {},
   "source": [
    "**¿Existe una correlación entre el nivel de ingresos y el pago a tiempo?**"
   ]
  },
  {
   "cell_type": "code",
   "execution_count": 129,
   "metadata": {},
   "outputs": [],
   "source": [
    "ingresos_porcentaje=pd.pivot_table(credit,index=\"total_income\",values=\"debt\") # Comprueba los datos del nivel de ingresos y los pagos a tiempo"
   ]
  },
  {
   "cell_type": "code",
   "execution_count": 130,
   "metadata": {},
   "outputs": [
    {
     "data": {
      "text/html": [
       "<div>\n",
       "<style scoped>\n",
       "    .dataframe tbody tr th:only-of-type {\n",
       "        vertical-align: middle;\n",
       "    }\n",
       "\n",
       "    .dataframe tbody tr th {\n",
       "        vertical-align: top;\n",
       "    }\n",
       "\n",
       "    .dataframe thead th {\n",
       "        text-align: right;\n",
       "    }\n",
       "</style>\n",
       "<table border=\"1\" class=\"dataframe\">\n",
       "  <thead>\n",
       "    <tr style=\"text-align: right;\">\n",
       "      <th></th>\n",
       "      <th>debt</th>\n",
       "      <th>%deudores_ingresos</th>\n",
       "    </tr>\n",
       "    <tr>\n",
       "      <th>total_income</th>\n",
       "      <th></th>\n",
       "      <th></th>\n",
       "    </tr>\n",
       "  </thead>\n",
       "  <tbody>\n",
       "    <tr>\n",
       "      <th>estrato 1</th>\n",
       "      <td>0.079615</td>\n",
       "      <td>21.194214</td>\n",
       "    </tr>\n",
       "    <tr>\n",
       "      <th>estrato 2</th>\n",
       "      <td>0.085397</td>\n",
       "      <td>22.733320</td>\n",
       "    </tr>\n",
       "    <tr>\n",
       "      <th>estrato 3</th>\n",
       "      <td>0.074895</td>\n",
       "      <td>19.937716</td>\n",
       "    </tr>\n",
       "    <tr>\n",
       "      <th>estrato 4</th>\n",
       "      <td>0.079191</td>\n",
       "      <td>21.081330</td>\n",
       "    </tr>\n",
       "    <tr>\n",
       "      <th>estrato 5</th>\n",
       "      <td>0.056548</td>\n",
       "      <td>15.053420</td>\n",
       "    </tr>\n",
       "  </tbody>\n",
       "</table>\n",
       "</div>"
      ],
      "text/plain": [
       "                  debt  %deudores_ingresos\n",
       "total_income                              \n",
       "estrato 1     0.079615           21.194214\n",
       "estrato 2     0.085397           22.733320\n",
       "estrato 3     0.074895           19.937716\n",
       "estrato 4     0.079191           21.081330\n",
       "estrato 5     0.056548           15.053420"
      ]
     },
     "execution_count": 130,
     "metadata": {},
     "output_type": "execute_result"
    }
   ],
   "source": [
    "ingresos_porcentaje[\"%deudores_ingresos\"]=(ingresos_porcentaje[\"debt\"]/ingresos_porcentaje[\"debt\"].sum())*100\n",
    "ingresos_porcentaje # Calcular la tasa de incumplimiento basada en el nivel de ingresos"
   ]
  },
  {
   "cell_type": "markdown",
   "metadata": {},
   "source": [
    "**Conclusión**\n",
    "\n",
    "De acuerdo a la información que relaciona el porcentaje de incumplimiento para cada tipo de estrato o nivel de ingresos de los clientes, la mayor tasa de incumplimiento se presenta en los clientes de estrato 2 (22%), y la menor tasa de incumplimiento se reporta en los clientes de estrato 5 (15%)."
   ]
  },
  {
   "cell_type": "markdown",
   "metadata": {},
   "source": [
    "**¿Cómo afecta el propósito del crédito a la tasa de incumplimiento?**"
   ]
  },
  {
   "cell_type": "code",
   "execution_count": 131,
   "metadata": {},
   "outputs": [],
   "source": [
    "purpose_porcentaje=pd.pivot_table(credit,index=\"purpose\",values=\"debt\")# Consulta los porcentajes de tasa de incumplimiento para cada propósito del crédito y analízalos"
   ]
  },
  {
   "cell_type": "code",
   "execution_count": 132,
   "metadata": {},
   "outputs": [
    {
     "data": {
      "text/html": [
       "<div>\n",
       "<style scoped>\n",
       "    .dataframe tbody tr th:only-of-type {\n",
       "        vertical-align: middle;\n",
       "    }\n",
       "\n",
       "    .dataframe tbody tr th {\n",
       "        vertical-align: top;\n",
       "    }\n",
       "\n",
       "    .dataframe thead th {\n",
       "        text-align: right;\n",
       "    }\n",
       "</style>\n",
       "<table border=\"1\" class=\"dataframe\">\n",
       "  <thead>\n",
       "    <tr style=\"text-align: right;\">\n",
       "      <th></th>\n",
       "      <th>debt</th>\n",
       "      <th>%deudores_purpose</th>\n",
       "    </tr>\n",
       "    <tr>\n",
       "      <th>purpose</th>\n",
       "      <th></th>\n",
       "      <th></th>\n",
       "    </tr>\n",
       "  </thead>\n",
       "  <tbody>\n",
       "    <tr>\n",
       "      <th>boda</th>\n",
       "      <td>0.080034</td>\n",
       "      <td>19.455098</td>\n",
       "    </tr>\n",
       "    <tr>\n",
       "      <th>carro</th>\n",
       "      <td>0.093590</td>\n",
       "      <td>22.750326</td>\n",
       "    </tr>\n",
       "    <tr>\n",
       "      <th>casa</th>\n",
       "      <td>0.070269</td>\n",
       "      <td>17.081380</td>\n",
       "    </tr>\n",
       "    <tr>\n",
       "      <th>educación</th>\n",
       "      <td>0.092200</td>\n",
       "      <td>22.412441</td>\n",
       "    </tr>\n",
       "    <tr>\n",
       "      <th>propiedad raíz</th>\n",
       "      <td>0.075286</td>\n",
       "      <td>18.300754</td>\n",
       "    </tr>\n",
       "  </tbody>\n",
       "</table>\n",
       "</div>"
      ],
      "text/plain": [
       "                    debt  %deudores_purpose\n",
       "purpose                                    \n",
       "boda            0.080034          19.455098\n",
       "carro           0.093590          22.750326\n",
       "casa            0.070269          17.081380\n",
       "educación       0.092200          22.412441\n",
       "propiedad raíz  0.075286          18.300754"
      ]
     },
     "execution_count": 132,
     "metadata": {},
     "output_type": "execute_result"
    }
   ],
   "source": [
    "purpose_porcentaje[\"%deudores_purpose\"]=(purpose_porcentaje[\"debt\"]/purpose_porcentaje[\"debt\"].sum())*100\n",
    "purpose_porcentaje   # Calcular la tasa de incumplimiento basada en el propósito del préstamo"
   ]
  },
  {
   "cell_type": "markdown",
   "metadata": {},
   "source": [
    "**Conclusión**\n",
    "\n",
    "La tasa de incumplimiento para los clientes que solicitan préstamo para la compra de vehículo y para educación es mayor (22%) que para los demás propósitos del crédito. La menor tasa de incumplimiento se presenta en los casos en los que el propósito del préstamo es para compra de vivienda (17%) y para inversión en propiedad raíz(18%).\n"
   ]
  },
  {
   "cell_type": "markdown",
   "metadata": {},
   "source": [
    "## Conclusión general \n"
   ]
  },
  {
   "cell_type": "markdown",
   "metadata": {},
   "source": [
    "En el proceso de exploración y limpieza de datos, se identifican datos ausentes en la columna \"days_employed\" y \"total_income\" (resultaron ser simétricas)."
   ]
  },
  {
   "cell_type": "markdown",
   "metadata": {},
   "source": [
    "Teniendo en cuenta que el porcentaje de valores ausentes es del 10%, éstos datos ausentes debieron completarse para prevenir posibles errores en el análisis."
   ]
  },
  {
   "cell_type": "markdown",
   "metadata": {},
   "source": [
    "Las columnas que contenían datos numéricos, como \"children\" y \"total_income\", se clasificaron para facilitar los análisis de los valores medios en función del incumplimiento del préstamo. "
   ]
  },
  {
   "cell_type": "markdown",
   "metadata": {},
   "source": [
    "Para rellenar los valores ausentes en la columna \"total_income\",se crea una categoría de edad para los clientes, la cual se utiliza para crear una nueva columna que tenga en cuenta éstas categorías. Luego se creó una tabla con los valores medios de los ingresos en función de las edades de los clientes. Igualmente, se considera que los ingresos de los clientes están relacionados con la aducación, por lo cual también se genera una tabla que identifique los valores medios de los ingresos en función de la educación de los clientes, y ésta información también se toma como base para rellenar los valores ausentes en total_income."
   ]
  },
  {
   "cell_type": "markdown",
   "metadata": {},
   "source": [
    "Mas del 50% de los clientes de la base de datos son mujeres, las cuales en su mayoría no tiene hijos."
   ]
  },
  {
   "cell_type": "markdown",
   "metadata": {},
   "source": [
    "Para resolver los datos ausentes en la columna \"days_employed\", se tuvo en cuentala relación de ésta variable con las edades de los clientes , se identificaron los valores medios de los dias trabajados en función de las edades de los clientes."
   ]
  },
  {
   "cell_type": "markdown",
   "metadata": {},
   "source": [
    "Al agrupar los datos de la columna \"income_type\" y calcular la mediana de days_employed, se observaron variaciones significativas en las clases de income_type, especialmente en los datos de personas retiradas y desempleadas. Se asume que éstas variaciones se presentaron inicialmente por los problemas identificados en la columna days_employed."
   ]
  },
  {
   "cell_type": "markdown",
   "metadata": {},
   "source": [
    "Al verificar los datos estadísticos en la columna days_employed, se identifica una desviación estándar muy alta; la cual se asume que se relaciona con los altos valores de algunos de los datos. Se asume que los valores altos, se encontraban en horas; por lo cual, se realiza la conversión a días para que la totalidad de los datos se encoentraran en las mismas unidades, y no se reportaran datos altos."
   ]
  },
  {
   "cell_type": "markdown",
   "metadata": {},
   "source": [
    "La mayoría de los clientes que tienen hijos, son de género masculino."
   ]
  },
  {
   "cell_type": "markdown",
   "metadata": {},
   "source": [
    "La mayoría de los clientes se encuentran casados ( 57% de los clientes )"
   ]
  },
  {
   "cell_type": "markdown",
   "metadata": {},
   "source": [
    "Mas del 78% de los clientes tienen edades entre los 31 y 64 años."
   ]
  },
  {
   "cell_type": "markdown",
   "metadata": {},
   "source": [
    "Los mayores ingresos se obtienen por parte de los clientes adultos."
   ]
  },
  {
   "cell_type": "markdown",
   "metadata": {},
   "source": [
    "Los menores ingresos son obtenidos por parte de los clientes adultos mayores ( mayores a 65 años de edad)."
   ]
  },
  {
   "cell_type": "markdown",
   "metadata": {},
   "source": [
    "Los clientes que cuentan con una licenciatura, obtienen mayores ingresos."
   ]
  },
  {
   "cell_type": "markdown",
   "metadata": {},
   "source": [
    "El propósito mas común para el que se solicita un préstamos por parte de los clientes, es para la construcción o remodelación de vivienda."
   ]
  },
  {
   "cell_type": "markdown",
   "metadata": {},
   "source": [
    "Se encuentran mayores  porcentajes de incumplimiento para los clientes que tienen hijos (37%), y la tasa de incumplimiento es mas baja para los clientes que no tiene hijos (30%)"
   ]
  },
  {
   "cell_type": "markdown",
   "metadata": {},
   "source": [
    "La diferencia entre la tasa de incumplimiento de los clientes que se encuentran casados y los que son solteros, es muy poca ( la diferencia es menor al 1%)"
   ]
  },
  {
   "cell_type": "markdown",
   "metadata": {},
   "source": [
    "Se evidencian mayores tasas de incumplimiento para los clientes solteros (24%) y una menor tasa de incumplimiento para los clientes viudos (16%), divorciados (17%) y casados (18%)."
   ]
  },
  {
   "cell_type": "markdown",
   "metadata": {},
   "source": [
    "La mayor tasa de incumplimiento se presenta en los clientes de estrato 2 (22%), y la menor tasa de incumplimiento se reporta en los clientes de estrato 5 (15%)."
   ]
  },
  {
   "cell_type": "markdown",
   "metadata": {},
   "source": [
    "<div class=\"alert alert-block alert-success\">\n",
    "<b>Comentario del revisor</b> <a class=\"tocSkip\"></a>\n",
    "\n",
    "Buenas conclusiones generales, ya que mencionas todo el trabajo realizado. Además lograste ordenarlas, dandole un relato más coherente, en el cual logras resaltar los principales aprendizajes. Muy buen trabajo!"
   ]
  }
 ],
 "metadata": {
  "ExecuteTimeLog": [
   {
    "duration": 2741,
    "start_time": "2021-10-21T01:08:49.480Z"
   },
   {
    "duration": 52,
    "start_time": "2021-10-21T01:08:53.315Z"
   },
   {
    "duration": 49,
    "start_time": "2021-10-21T01:08:57.432Z"
   },
   {
    "duration": 70,
    "start_time": "2021-10-21T01:09:07.706Z"
   },
   {
    "duration": 591,
    "start_time": "2022-09-04T15:48:44.666Z"
   },
   {
    "duration": 15,
    "start_time": "2022-09-04T15:49:19.752Z"
   },
   {
    "duration": 19,
    "start_time": "2022-09-04T16:21:37.134Z"
   },
   {
    "duration": 55,
    "start_time": "2022-09-04T16:34:23.325Z"
   },
   {
    "duration": 16,
    "start_time": "2022-09-04T16:36:47.127Z"
   },
   {
    "duration": 8,
    "start_time": "2022-09-04T16:37:35.853Z"
   },
   {
    "duration": 9,
    "start_time": "2022-09-04T16:38:30.376Z"
   },
   {
    "duration": 8,
    "start_time": "2022-09-04T16:40:44.882Z"
   },
   {
    "duration": 8,
    "start_time": "2022-09-04T16:41:01.512Z"
   },
   {
    "duration": 16,
    "start_time": "2022-09-04T16:41:08.672Z"
   },
   {
    "duration": 44,
    "start_time": "2022-09-05T03:01:10.231Z"
   },
   {
    "duration": 569,
    "start_time": "2022-09-05T03:01:16.490Z"
   },
   {
    "duration": 25,
    "start_time": "2022-09-05T03:01:21.440Z"
   },
   {
    "duration": 15,
    "start_time": "2022-09-05T03:01:41.999Z"
   },
   {
    "duration": 7,
    "start_time": "2022-09-05T03:02:28.828Z"
   },
   {
    "duration": 7,
    "start_time": "2022-09-05T03:02:33.216Z"
   },
   {
    "duration": 13,
    "start_time": "2022-09-05T03:03:07.054Z"
   },
   {
    "duration": 6,
    "start_time": "2022-09-05T03:05:23.720Z"
   },
   {
    "duration": 7,
    "start_time": "2022-09-05T03:05:32.115Z"
   },
   {
    "duration": 8,
    "start_time": "2022-09-05T03:05:34.461Z"
   },
   {
    "duration": 14,
    "start_time": "2022-09-05T03:05:41.205Z"
   },
   {
    "duration": 7,
    "start_time": "2022-09-05T03:23:28.997Z"
   },
   {
    "duration": 7,
    "start_time": "2022-09-05T03:23:32.571Z"
   },
   {
    "duration": 13,
    "start_time": "2022-09-05T03:23:38.018Z"
   },
   {
    "duration": 9,
    "start_time": "2022-09-05T03:25:48.397Z"
   },
   {
    "duration": 20,
    "start_time": "2022-09-05T03:27:00.685Z"
   },
   {
    "duration": 8,
    "start_time": "2022-09-05T03:28:37.282Z"
   },
   {
    "duration": 5,
    "start_time": "2022-09-05T03:30:21.200Z"
   },
   {
    "duration": 6,
    "start_time": "2022-09-05T03:37:35.745Z"
   },
   {
    "duration": 5,
    "start_time": "2022-09-05T03:47:53.081Z"
   },
   {
    "duration": 11,
    "start_time": "2022-09-05T03:48:41.155Z"
   },
   {
    "duration": 5,
    "start_time": "2022-09-05T03:49:13.935Z"
   },
   {
    "duration": 1137,
    "start_time": "2022-09-05T03:53:29.925Z"
   },
   {
    "duration": 903,
    "start_time": "2022-09-05T03:53:34.162Z"
   },
   {
    "duration": 12,
    "start_time": "2022-09-05T03:53:43.574Z"
   },
   {
    "duration": 51,
    "start_time": "2022-09-05T19:26:35.043Z"
   },
   {
    "duration": 720,
    "start_time": "2022-09-05T19:26:44.187Z"
   },
   {
    "duration": 17,
    "start_time": "2022-09-05T19:26:50.973Z"
   },
   {
    "duration": 19,
    "start_time": "2022-09-05T19:26:56.538Z"
   },
   {
    "duration": 14,
    "start_time": "2022-09-05T19:27:01.688Z"
   },
   {
    "duration": 5,
    "start_time": "2022-09-05T19:27:09.799Z"
   },
   {
    "duration": 31,
    "start_time": "2022-09-05T19:27:14.494Z"
   },
   {
    "duration": 5,
    "start_time": "2022-09-05T19:28:53.184Z"
   },
   {
    "duration": 6,
    "start_time": "2022-09-05T19:29:59.163Z"
   },
   {
    "duration": 27,
    "start_time": "2022-09-05T19:38:28.928Z"
   },
   {
    "duration": 15,
    "start_time": "2022-09-05T19:40:04.603Z"
   },
   {
    "duration": 9,
    "start_time": "2022-09-05T19:45:25.949Z"
   },
   {
    "duration": 6,
    "start_time": "2022-09-05T19:45:34.332Z"
   },
   {
    "duration": 5,
    "start_time": "2022-09-05T19:57:09.006Z"
   },
   {
    "duration": 10,
    "start_time": "2022-09-05T19:57:31.064Z"
   },
   {
    "duration": 4,
    "start_time": "2022-09-05T19:57:39.789Z"
   },
   {
    "duration": 5,
    "start_time": "2022-09-05T20:01:41.066Z"
   },
   {
    "duration": 58,
    "start_time": "2022-09-05T20:24:39.191Z"
   },
   {
    "duration": 25,
    "start_time": "2022-09-05T20:24:55.302Z"
   },
   {
    "duration": 7,
    "start_time": "2022-09-05T20:36:25.538Z"
   },
   {
    "duration": 4,
    "start_time": "2022-09-05T20:51:26.743Z"
   },
   {
    "duration": 7,
    "start_time": "2022-09-05T20:51:42.415Z"
   },
   {
    "duration": 6,
    "start_time": "2022-09-05T20:51:59.301Z"
   },
   {
    "duration": 7,
    "start_time": "2022-09-05T20:52:15.434Z"
   },
   {
    "duration": 6,
    "start_time": "2022-09-05T20:52:27.062Z"
   },
   {
    "duration": 5,
    "start_time": "2022-09-05T20:53:25.655Z"
   },
   {
    "duration": 5,
    "start_time": "2022-09-05T21:10:35.195Z"
   },
   {
    "duration": 7,
    "start_time": "2022-09-05T21:10:48.631Z"
   },
   {
    "duration": 5,
    "start_time": "2022-09-05T21:10:56.915Z"
   },
   {
    "duration": 8,
    "start_time": "2022-09-05T21:14:56.405Z"
   },
   {
    "duration": 5,
    "start_time": "2022-09-05T21:15:06.291Z"
   },
   {
    "duration": 5,
    "start_time": "2022-09-05T21:16:02.643Z"
   },
   {
    "duration": 5,
    "start_time": "2022-09-05T21:16:14.118Z"
   },
   {
    "duration": 25,
    "start_time": "2022-09-05T21:20:47.341Z"
   },
   {
    "duration": 6,
    "start_time": "2022-09-05T21:24:27.653Z"
   },
   {
    "duration": 52,
    "start_time": "2022-09-05T21:29:03.881Z"
   },
   {
    "duration": 6,
    "start_time": "2022-09-05T21:29:12.703Z"
   },
   {
    "duration": 9,
    "start_time": "2022-09-05T21:29:35.341Z"
   },
   {
    "duration": 6,
    "start_time": "2022-09-05T21:30:04.974Z"
   },
   {
    "duration": 6,
    "start_time": "2022-09-05T21:31:04.912Z"
   },
   {
    "duration": 50,
    "start_time": "2022-09-05T21:31:47.256Z"
   },
   {
    "duration": 23,
    "start_time": "2022-09-05T21:32:14.598Z"
   },
   {
    "duration": 758,
    "start_time": "2022-09-05T21:33:06.560Z"
   },
   {
    "duration": 48,
    "start_time": "2022-09-05T21:33:55.448Z"
   },
   {
    "duration": 5,
    "start_time": "2022-09-05T21:34:25.975Z"
   },
   {
    "duration": 8,
    "start_time": "2022-09-05T21:35:13.723Z"
   },
   {
    "duration": 5,
    "start_time": "2022-09-05T21:35:40.055Z"
   },
   {
    "duration": 20,
    "start_time": "2022-09-05T21:38:23.690Z"
   },
   {
    "duration": 7,
    "start_time": "2022-09-05T21:38:47.383Z"
   },
   {
    "duration": 5,
    "start_time": "2022-09-05T21:39:27.632Z"
   },
   {
    "duration": 4,
    "start_time": "2022-09-05T21:45:09.747Z"
   },
   {
    "duration": 18,
    "start_time": "2022-09-05T21:50:53.092Z"
   },
   {
    "duration": 14,
    "start_time": "2022-09-05T21:51:17.572Z"
   },
   {
    "duration": 5,
    "start_time": "2022-09-05T21:52:01.851Z"
   },
   {
    "duration": 530,
    "start_time": "2022-09-06T01:35:27.464Z"
   },
   {
    "duration": 15,
    "start_time": "2022-09-06T01:35:31.156Z"
   },
   {
    "duration": 17,
    "start_time": "2022-09-06T01:35:34.941Z"
   },
   {
    "duration": 5,
    "start_time": "2022-09-06T01:36:06.821Z"
   },
   {
    "duration": 5,
    "start_time": "2022-09-06T01:38:39.885Z"
   },
   {
    "duration": 30,
    "start_time": "2022-09-06T01:40:20.752Z"
   },
   {
    "duration": 21,
    "start_time": "2022-09-06T01:41:00.034Z"
   },
   {
    "duration": 60,
    "start_time": "2022-09-06T01:41:32.020Z"
   },
   {
    "duration": 13,
    "start_time": "2022-09-06T01:41:41.842Z"
   },
   {
    "duration": 6,
    "start_time": "2022-09-06T01:47:24.992Z"
   },
   {
    "duration": 4,
    "start_time": "2022-09-06T01:47:52.165Z"
   },
   {
    "duration": 9,
    "start_time": "2022-09-06T02:17:31.365Z"
   },
   {
    "duration": 7,
    "start_time": "2022-09-06T02:30:44.716Z"
   },
   {
    "duration": 3,
    "start_time": "2022-09-06T02:30:51.809Z"
   },
   {
    "duration": 7,
    "start_time": "2022-09-06T02:30:55.722Z"
   },
   {
    "duration": 3,
    "start_time": "2022-09-06T02:33:45.384Z"
   },
   {
    "duration": 8,
    "start_time": "2022-09-06T02:33:48.118Z"
   },
   {
    "duration": 3,
    "start_time": "2022-09-06T02:34:57.352Z"
   },
   {
    "duration": 23,
    "start_time": "2022-09-06T02:35:00.990Z"
   },
   {
    "duration": 3,
    "start_time": "2022-09-06T02:35:41.197Z"
   },
   {
    "duration": 5,
    "start_time": "2022-09-06T02:35:48.972Z"
   },
   {
    "duration": 18,
    "start_time": "2022-09-06T02:35:52.588Z"
   },
   {
    "duration": 3,
    "start_time": "2022-09-06T02:38:37.279Z"
   },
   {
    "duration": 14,
    "start_time": "2022-09-06T02:38:42.029Z"
   },
   {
    "duration": 3,
    "start_time": "2022-09-06T02:40:44.192Z"
   },
   {
    "duration": 3,
    "start_time": "2022-09-06T02:41:03.371Z"
   },
   {
    "duration": 18,
    "start_time": "2022-09-06T02:41:07.521Z"
   },
   {
    "duration": 3,
    "start_time": "2022-09-06T02:44:48.388Z"
   },
   {
    "duration": 28,
    "start_time": "2022-09-06T02:44:54.165Z"
   },
   {
    "duration": 5,
    "start_time": "2022-09-06T02:46:42.586Z"
   },
   {
    "duration": 5,
    "start_time": "2022-09-06T02:50:55.984Z"
   },
   {
    "duration": 4,
    "start_time": "2022-09-06T02:56:46.590Z"
   },
   {
    "duration": 5,
    "start_time": "2022-09-06T02:56:55.196Z"
   },
   {
    "duration": 4,
    "start_time": "2022-09-06T02:57:39.875Z"
   },
   {
    "duration": 5,
    "start_time": "2022-09-06T03:04:02.005Z"
   },
   {
    "duration": 4,
    "start_time": "2022-09-06T03:04:25.034Z"
   },
   {
    "duration": 16,
    "start_time": "2022-09-06T03:09:35.106Z"
   },
   {
    "duration": 4,
    "start_time": "2022-09-06T03:10:30.214Z"
   },
   {
    "duration": 7,
    "start_time": "2022-09-06T03:10:51.355Z"
   },
   {
    "duration": 4,
    "start_time": "2022-09-06T03:11:16.224Z"
   },
   {
    "duration": 5,
    "start_time": "2022-09-06T03:11:59.253Z"
   },
   {
    "duration": 6,
    "start_time": "2022-09-06T03:16:09.495Z"
   },
   {
    "duration": 5,
    "start_time": "2022-09-06T03:16:26.778Z"
   },
   {
    "duration": 4,
    "start_time": "2022-09-06T03:16:42.244Z"
   },
   {
    "duration": 5,
    "start_time": "2022-09-06T03:16:56.815Z"
   },
   {
    "duration": 22,
    "start_time": "2022-09-06T03:22:19.244Z"
   },
   {
    "duration": 5,
    "start_time": "2022-09-06T03:32:44.413Z"
   },
   {
    "duration": 4,
    "start_time": "2022-09-06T03:33:33.192Z"
   },
   {
    "duration": 5,
    "start_time": "2022-09-06T03:34:07.473Z"
   },
   {
    "duration": 747,
    "start_time": "2022-09-06T03:34:53.148Z"
   },
   {
    "duration": 5,
    "start_time": "2022-09-06T03:35:04.609Z"
   },
   {
    "duration": 5,
    "start_time": "2022-09-06T03:37:12.006Z"
   },
   {
    "duration": 4,
    "start_time": "2022-09-06T03:41:19.635Z"
   },
   {
    "duration": 4,
    "start_time": "2022-09-06T03:41:42.694Z"
   },
   {
    "duration": 6,
    "start_time": "2022-09-06T03:44:15.893Z"
   },
   {
    "duration": 4,
    "start_time": "2022-09-06T03:44:45.500Z"
   },
   {
    "duration": 7,
    "start_time": "2022-09-06T03:48:32.340Z"
   },
   {
    "duration": 4,
    "start_time": "2022-09-06T03:48:45.034Z"
   },
   {
    "duration": 828,
    "start_time": "2022-09-06T20:58:44.517Z"
   },
   {
    "duration": 16,
    "start_time": "2022-09-06T20:58:49.807Z"
   },
   {
    "duration": 18,
    "start_time": "2022-09-06T20:58:55.174Z"
   },
   {
    "duration": 14,
    "start_time": "2022-09-06T20:59:00.439Z"
   },
   {
    "duration": 5,
    "start_time": "2022-09-06T20:59:05.675Z"
   },
   {
    "duration": 5,
    "start_time": "2022-09-06T20:59:10.784Z"
   },
   {
    "duration": 5,
    "start_time": "2022-09-06T20:59:19.744Z"
   },
   {
    "duration": 4,
    "start_time": "2022-09-06T20:59:35.696Z"
   },
   {
    "duration": 32,
    "start_time": "2022-09-06T20:59:39.675Z"
   },
   {
    "duration": 5,
    "start_time": "2022-09-06T21:10:48.241Z"
   },
   {
    "duration": 5,
    "start_time": "2022-09-06T21:14:51.215Z"
   },
   {
    "duration": 5,
    "start_time": "2022-09-06T21:15:03.784Z"
   },
   {
    "duration": 6,
    "start_time": "2022-09-06T21:15:36.986Z"
   },
   {
    "duration": 6,
    "start_time": "2022-09-06T21:16:07.024Z"
   },
   {
    "duration": 19,
    "start_time": "2022-09-06T22:38:15.181Z"
   },
   {
    "duration": 18,
    "start_time": "2022-09-06T22:41:53.069Z"
   },
   {
    "duration": 16,
    "start_time": "2022-09-06T22:48:45.679Z"
   },
   {
    "duration": 8,
    "start_time": "2022-09-06T22:49:27.911Z"
   },
   {
    "duration": 6,
    "start_time": "2022-09-06T22:59:05.489Z"
   },
   {
    "duration": 4,
    "start_time": "2022-09-06T22:59:57.380Z"
   },
   {
    "duration": 6,
    "start_time": "2022-09-06T23:00:26.028Z"
   },
   {
    "duration": 5,
    "start_time": "2022-09-06T23:01:04.579Z"
   },
   {
    "duration": 83,
    "start_time": "2022-09-07T02:58:08.533Z"
   },
   {
    "duration": 45,
    "start_time": "2022-09-07T02:58:18.788Z"
   },
   {
    "duration": 8,
    "start_time": "2022-09-07T02:58:39.752Z"
   },
   {
    "duration": 6,
    "start_time": "2022-09-07T02:58:57.684Z"
   },
   {
    "duration": 740,
    "start_time": "2022-09-07T02:59:04.188Z"
   },
   {
    "duration": 15,
    "start_time": "2022-09-07T02:59:09.534Z"
   },
   {
    "duration": 21,
    "start_time": "2022-09-07T02:59:29.394Z"
   },
   {
    "duration": 15,
    "start_time": "2022-09-07T02:59:34.734Z"
   },
   {
    "duration": 26,
    "start_time": "2022-09-07T02:59:43.439Z"
   },
   {
    "duration": 32,
    "start_time": "2022-09-07T02:59:50.789Z"
   },
   {
    "duration": 770,
    "start_time": "2022-09-07T02:59:58.555Z"
   },
   {
    "duration": 4,
    "start_time": "2022-09-07T03:02:43.599Z"
   },
   {
    "duration": 4,
    "start_time": "2022-09-07T03:03:06.348Z"
   },
   {
    "duration": 17,
    "start_time": "2022-09-07T03:03:24.956Z"
   },
   {
    "duration": 13,
    "start_time": "2022-09-07T03:03:34.509Z"
   },
   {
    "duration": 3,
    "start_time": "2022-09-07T03:06:29.695Z"
   },
   {
    "duration": 10,
    "start_time": "2022-09-07T03:06:57.088Z"
   },
   {
    "duration": 3,
    "start_time": "2022-09-07T03:07:04.496Z"
   },
   {
    "duration": 50,
    "start_time": "2022-09-07T03:10:07.196Z"
   },
   {
    "duration": 6,
    "start_time": "2022-09-07T03:10:19.883Z"
   },
   {
    "duration": 5,
    "start_time": "2022-09-07T03:11:27.086Z"
   },
   {
    "duration": 3,
    "start_time": "2022-09-07T03:11:45.244Z"
   },
   {
    "duration": 3,
    "start_time": "2022-09-07T03:11:48.013Z"
   },
   {
    "duration": 3,
    "start_time": "2022-09-07T03:12:02.559Z"
   },
   {
    "duration": 7,
    "start_time": "2022-09-07T03:27:29.711Z"
   },
   {
    "duration": 7,
    "start_time": "2022-09-07T03:27:50.283Z"
   },
   {
    "duration": 10,
    "start_time": "2022-09-07T03:28:00.599Z"
   },
   {
    "duration": 4,
    "start_time": "2022-09-07T03:28:04.718Z"
   },
   {
    "duration": 6,
    "start_time": "2022-09-07T03:28:08.079Z"
   },
   {
    "duration": 574,
    "start_time": "2022-09-07T03:28:21.735Z"
   },
   {
    "duration": 17,
    "start_time": "2022-09-07T03:28:25.513Z"
   },
   {
    "duration": 28,
    "start_time": "2022-09-07T03:28:28.943Z"
   },
   {
    "duration": 18,
    "start_time": "2022-09-07T03:28:32.780Z"
   },
   {
    "duration": 28,
    "start_time": "2022-09-07T03:28:38.326Z"
   },
   {
    "duration": 25,
    "start_time": "2022-09-07T03:28:44.673Z"
   },
   {
    "duration": 4,
    "start_time": "2022-09-07T03:28:50.648Z"
   },
   {
    "duration": 17,
    "start_time": "2022-09-07T03:28:54.729Z"
   },
   {
    "duration": 9,
    "start_time": "2022-09-07T03:29:01.171Z"
   },
   {
    "duration": 11,
    "start_time": "2022-09-07T03:29:05.040Z"
   },
   {
    "duration": 10,
    "start_time": "2022-09-07T03:29:33.627Z"
   },
   {
    "duration": 8,
    "start_time": "2022-09-07T03:30:30.944Z"
   },
   {
    "duration": 8,
    "start_time": "2022-09-07T03:36:47.586Z"
   },
   {
    "duration": 11,
    "start_time": "2022-09-07T03:37:07.549Z"
   },
   {
    "duration": 8,
    "start_time": "2022-09-07T03:37:23.386Z"
   },
   {
    "duration": 6,
    "start_time": "2022-09-07T03:42:05.924Z"
   },
   {
    "duration": 6,
    "start_time": "2022-09-07T03:43:03.290Z"
   },
   {
    "duration": 30,
    "start_time": "2022-09-07T03:48:30.352Z"
   },
   {
    "duration": 8,
    "start_time": "2022-09-07T03:52:44.074Z"
   },
   {
    "duration": 8,
    "start_time": "2022-09-07T03:54:07.796Z"
   },
   {
    "duration": 8,
    "start_time": "2022-09-07T03:54:52.202Z"
   },
   {
    "duration": 10,
    "start_time": "2022-09-07T03:55:00.393Z"
   },
   {
    "duration": 8,
    "start_time": "2022-09-07T03:57:54.062Z"
   },
   {
    "duration": 8,
    "start_time": "2022-09-07T03:59:34.639Z"
   },
   {
    "duration": 8,
    "start_time": "2022-09-07T03:59:57.617Z"
   },
   {
    "duration": 8,
    "start_time": "2022-09-07T04:00:16.850Z"
   },
   {
    "duration": 605,
    "start_time": "2022-09-07T20:13:47.813Z"
   },
   {
    "duration": 20,
    "start_time": "2022-09-07T20:13:53.954Z"
   },
   {
    "duration": 24,
    "start_time": "2022-09-07T20:13:58.099Z"
   },
   {
    "duration": 14,
    "start_time": "2022-09-07T20:14:03.067Z"
   },
   {
    "duration": 18,
    "start_time": "2022-09-07T20:14:07.608Z"
   },
   {
    "duration": 19,
    "start_time": "2022-09-07T20:14:13.029Z"
   },
   {
    "duration": 3,
    "start_time": "2022-09-07T20:16:37.214Z"
   },
   {
    "duration": 14,
    "start_time": "2022-09-07T20:16:41.308Z"
   },
   {
    "duration": 6,
    "start_time": "2022-09-07T20:16:45.989Z"
   },
   {
    "duration": 7,
    "start_time": "2022-09-07T20:16:56.986Z"
   },
   {
    "duration": 7,
    "start_time": "2022-09-07T20:17:03.394Z"
   },
   {
    "duration": 5,
    "start_time": "2022-09-07T20:17:07.317Z"
   },
   {
    "duration": 5,
    "start_time": "2022-09-07T20:17:11.683Z"
   },
   {
    "duration": 7,
    "start_time": "2022-09-07T20:17:15.243Z"
   },
   {
    "duration": 5,
    "start_time": "2022-09-07T20:17:19.458Z"
   },
   {
    "duration": 7,
    "start_time": "2022-09-07T20:22:08.481Z"
   },
   {
    "duration": 17,
    "start_time": "2022-09-07T20:22:39.592Z"
   },
   {
    "duration": 9,
    "start_time": "2022-09-07T20:23:33.215Z"
   },
   {
    "duration": 6,
    "start_time": "2022-09-07T20:23:56.148Z"
   },
   {
    "duration": 5,
    "start_time": "2022-09-07T20:25:05.704Z"
   },
   {
    "duration": 67,
    "start_time": "2022-09-07T20:31:03.547Z"
   },
   {
    "duration": 6,
    "start_time": "2022-09-07T20:31:18.045Z"
   },
   {
    "duration": 7,
    "start_time": "2022-09-07T20:31:35.928Z"
   },
   {
    "duration": 8,
    "start_time": "2022-09-07T20:33:23.496Z"
   },
   {
    "duration": 7,
    "start_time": "2022-09-07T20:33:36.511Z"
   },
   {
    "duration": 6,
    "start_time": "2022-09-07T20:33:48.816Z"
   },
   {
    "duration": 7,
    "start_time": "2022-09-07T20:34:01.068Z"
   },
   {
    "duration": 6,
    "start_time": "2022-09-07T20:38:46.615Z"
   },
   {
    "duration": 66,
    "start_time": "2022-09-07T20:39:12.937Z"
   },
   {
    "duration": 3,
    "start_time": "2022-09-07T20:40:05.393Z"
   },
   {
    "duration": 45,
    "start_time": "2022-09-07T20:40:15.769Z"
   },
   {
    "duration": 7,
    "start_time": "2022-09-07T20:40:43.960Z"
   },
   {
    "duration": 7,
    "start_time": "2022-09-07T20:42:59.737Z"
   },
   {
    "duration": 7,
    "start_time": "2022-09-07T20:50:23.900Z"
   },
   {
    "duration": 9,
    "start_time": "2022-09-07T20:50:46.788Z"
   },
   {
    "duration": 10,
    "start_time": "2022-09-07T20:51:34.499Z"
   },
   {
    "duration": 7,
    "start_time": "2022-09-07T20:52:01.398Z"
   },
   {
    "duration": 8,
    "start_time": "2022-09-07T20:59:51.015Z"
   },
   {
    "duration": 9,
    "start_time": "2022-09-07T21:00:05.155Z"
   },
   {
    "duration": 10,
    "start_time": "2022-09-07T21:00:42.425Z"
   },
   {
    "duration": 6,
    "start_time": "2022-09-07T21:00:59.216Z"
   },
   {
    "duration": 6,
    "start_time": "2022-09-07T21:01:17.325Z"
   },
   {
    "duration": 9,
    "start_time": "2022-09-07T21:01:28.292Z"
   },
   {
    "duration": 10,
    "start_time": "2022-09-07T21:01:39.934Z"
   },
   {
    "duration": 6,
    "start_time": "2022-09-07T21:05:38.254Z"
   },
   {
    "duration": 9,
    "start_time": "2022-09-07T21:08:25.385Z"
   },
   {
    "duration": 8,
    "start_time": "2022-09-07T21:09:26.360Z"
   },
   {
    "duration": 12,
    "start_time": "2022-09-07T21:09:30.366Z"
   },
   {
    "duration": 7,
    "start_time": "2022-09-07T21:09:38.936Z"
   },
   {
    "duration": 9,
    "start_time": "2022-09-07T21:09:46.761Z"
   },
   {
    "duration": 59,
    "start_time": "2022-09-07T21:09:59.694Z"
   },
   {
    "duration": 14,
    "start_time": "2022-09-07T21:10:03.613Z"
   },
   {
    "duration": 12,
    "start_time": "2022-09-07T21:10:06.472Z"
   },
   {
    "duration": 14,
    "start_time": "2022-09-07T21:10:10.742Z"
   },
   {
    "duration": 20,
    "start_time": "2022-09-07T21:10:15.518Z"
   },
   {
    "duration": 18,
    "start_time": "2022-09-07T21:10:23.310Z"
   },
   {
    "duration": 3,
    "start_time": "2022-09-07T21:10:29.110Z"
   },
   {
    "duration": 13,
    "start_time": "2022-09-07T21:10:33.023Z"
   },
   {
    "duration": 7,
    "start_time": "2022-09-07T21:10:36.946Z"
   },
   {
    "duration": 9,
    "start_time": "2022-09-07T21:10:43.312Z"
   },
   {
    "duration": 7,
    "start_time": "2022-09-07T21:10:50.358Z"
   },
   {
    "duration": 6,
    "start_time": "2022-09-07T21:10:55.058Z"
   },
   {
    "duration": 7,
    "start_time": "2022-09-07T21:10:58.609Z"
   },
   {
    "duration": 5,
    "start_time": "2022-09-07T21:11:03.223Z"
   },
   {
    "duration": 6,
    "start_time": "2022-09-07T21:11:06.553Z"
   },
   {
    "duration": 6,
    "start_time": "2022-09-07T21:11:12.145Z"
   },
   {
    "duration": 10,
    "start_time": "2022-09-07T21:11:15.823Z"
   },
   {
    "duration": 4,
    "start_time": "2022-09-07T21:11:21.618Z"
   },
   {
    "duration": 10,
    "start_time": "2022-09-07T21:11:24.625Z"
   },
   {
    "duration": 5,
    "start_time": "2022-09-07T21:12:01.630Z"
   },
   {
    "duration": 4,
    "start_time": "2022-09-07T21:12:39.985Z"
   },
   {
    "duration": 6,
    "start_time": "2022-09-07T21:16:24.749Z"
   },
   {
    "duration": 6,
    "start_time": "2022-09-07T21:24:37.412Z"
   },
   {
    "duration": 4,
    "start_time": "2022-09-07T21:26:24.093Z"
   },
   {
    "duration": 5,
    "start_time": "2022-09-07T21:27:38.464Z"
   },
   {
    "duration": 5,
    "start_time": "2022-09-07T21:29:21.250Z"
   },
   {
    "duration": 5,
    "start_time": "2022-09-07T21:30:01.612Z"
   },
   {
    "duration": 4,
    "start_time": "2022-09-07T21:34:14.039Z"
   },
   {
    "duration": 5,
    "start_time": "2022-09-07T21:34:33.543Z"
   },
   {
    "duration": 7,
    "start_time": "2022-09-07T21:37:46.466Z"
   },
   {
    "duration": 7,
    "start_time": "2022-09-07T21:38:29.407Z"
   },
   {
    "duration": 7,
    "start_time": "2022-09-07T21:38:44.961Z"
   },
   {
    "duration": 7,
    "start_time": "2022-09-07T21:44:28.822Z"
   },
   {
    "duration": 12,
    "start_time": "2022-09-07T21:46:11.179Z"
   },
   {
    "duration": 190,
    "start_time": "2022-09-07T21:46:31.970Z"
   },
   {
    "duration": 23,
    "start_time": "2022-09-07T21:53:41.148Z"
   },
   {
    "duration": 7,
    "start_time": "2022-09-07T21:54:00.683Z"
   },
   {
    "duration": 7,
    "start_time": "2022-09-07T21:54:06.171Z"
   },
   {
    "duration": 6,
    "start_time": "2022-09-07T21:54:39.005Z"
   },
   {
    "duration": 7,
    "start_time": "2022-09-07T21:54:43.107Z"
   },
   {
    "duration": 4,
    "start_time": "2022-09-07T21:56:31.253Z"
   },
   {
    "duration": 9,
    "start_time": "2022-09-07T21:56:58.028Z"
   },
   {
    "duration": 5,
    "start_time": "2022-09-07T21:57:03.220Z"
   },
   {
    "duration": 4,
    "start_time": "2022-09-07T21:57:30.326Z"
   },
   {
    "duration": 58,
    "start_time": "2022-09-07T21:58:30.389Z"
   },
   {
    "duration": 13,
    "start_time": "2022-09-07T21:58:35.843Z"
   },
   {
    "duration": 12,
    "start_time": "2022-09-07T21:58:44.096Z"
   },
   {
    "duration": 13,
    "start_time": "2022-09-07T21:58:56.804Z"
   },
   {
    "duration": 17,
    "start_time": "2022-09-07T21:59:03.558Z"
   },
   {
    "duration": 20,
    "start_time": "2022-09-07T21:59:11.446Z"
   },
   {
    "duration": 3,
    "start_time": "2022-09-07T21:59:22.805Z"
   },
   {
    "duration": 13,
    "start_time": "2022-09-07T21:59:26.262Z"
   },
   {
    "duration": 7,
    "start_time": "2022-09-07T21:59:31.760Z"
   },
   {
    "duration": 7,
    "start_time": "2022-09-07T21:59:47.727Z"
   },
   {
    "duration": 7,
    "start_time": "2022-09-07T21:59:55.693Z"
   },
   {
    "duration": 6,
    "start_time": "2022-09-07T22:00:01.275Z"
   },
   {
    "duration": 6,
    "start_time": "2022-09-07T22:00:05.676Z"
   },
   {
    "duration": 6,
    "start_time": "2022-09-07T22:00:11.381Z"
   },
   {
    "duration": 6,
    "start_time": "2022-09-07T22:00:15.006Z"
   },
   {
    "duration": 7,
    "start_time": "2022-09-07T22:00:20.780Z"
   },
   {
    "duration": 7,
    "start_time": "2022-09-07T22:00:26.990Z"
   },
   {
    "duration": 4,
    "start_time": "2022-09-07T22:00:34.229Z"
   },
   {
    "duration": 10,
    "start_time": "2022-09-07T22:00:40.580Z"
   },
   {
    "duration": 4,
    "start_time": "2022-09-07T22:00:45.772Z"
   },
   {
    "duration": 5,
    "start_time": "2022-09-07T22:00:51.538Z"
   },
   {
    "duration": 5,
    "start_time": "2022-09-07T22:00:57.285Z"
   },
   {
    "duration": 5,
    "start_time": "2022-09-07T22:01:17.357Z"
   },
   {
    "duration": 5,
    "start_time": "2022-09-07T22:01:21.445Z"
   },
   {
    "duration": 6,
    "start_time": "2022-09-07T22:01:51.820Z"
   },
   {
    "duration": 5,
    "start_time": "2022-09-07T22:02:48.781Z"
   },
   {
    "duration": 191,
    "start_time": "2022-09-07T22:07:29.353Z"
   },
   {
    "duration": 6,
    "start_time": "2022-09-07T22:08:58.392Z"
   },
   {
    "duration": 6,
    "start_time": "2022-09-07T22:09:44.765Z"
   },
   {
    "duration": 6,
    "start_time": "2022-09-07T22:10:13.855Z"
   },
   {
    "duration": 6,
    "start_time": "2022-09-07T22:11:01.014Z"
   },
   {
    "duration": 6,
    "start_time": "2022-09-07T22:11:10.134Z"
   },
   {
    "duration": 54,
    "start_time": "2022-09-07T22:11:23.230Z"
   },
   {
    "duration": 13,
    "start_time": "2022-09-07T22:11:26.390Z"
   },
   {
    "duration": 12,
    "start_time": "2022-09-07T22:11:28.920Z"
   },
   {
    "duration": 14,
    "start_time": "2022-09-07T22:11:33.461Z"
   },
   {
    "duration": 18,
    "start_time": "2022-09-07T22:11:42.683Z"
   },
   {
    "duration": 18,
    "start_time": "2022-09-07T22:11:50.033Z"
   },
   {
    "duration": 2,
    "start_time": "2022-09-07T22:11:55.325Z"
   },
   {
    "duration": 14,
    "start_time": "2022-09-07T22:11:58.629Z"
   },
   {
    "duration": 6,
    "start_time": "2022-09-07T22:12:02.534Z"
   },
   {
    "duration": 6,
    "start_time": "2022-09-07T22:12:12.254Z"
   },
   {
    "duration": 6,
    "start_time": "2022-09-07T22:12:19.198Z"
   },
   {
    "duration": 5,
    "start_time": "2022-09-07T22:12:22.886Z"
   },
   {
    "duration": 6,
    "start_time": "2022-09-07T22:12:26.655Z"
   },
   {
    "duration": 6,
    "start_time": "2022-09-07T22:12:29.920Z"
   },
   {
    "duration": 6,
    "start_time": "2022-09-07T22:12:33.732Z"
   },
   {
    "duration": 7,
    "start_time": "2022-09-07T22:12:38.793Z"
   },
   {
    "duration": 6,
    "start_time": "2022-09-07T22:12:43.497Z"
   },
   {
    "duration": 4,
    "start_time": "2022-09-07T22:12:51.678Z"
   },
   {
    "duration": 8,
    "start_time": "2022-09-07T22:12:55.887Z"
   },
   {
    "duration": 5,
    "start_time": "2022-09-07T22:12:59.807Z"
   },
   {
    "duration": 10,
    "start_time": "2022-09-07T22:13:05.824Z"
   },
   {
    "duration": 6,
    "start_time": "2022-09-07T22:13:09.864Z"
   },
   {
    "duration": 5,
    "start_time": "2022-09-07T22:13:13.599Z"
   },
   {
    "duration": 4,
    "start_time": "2022-09-07T22:13:17.255Z"
   },
   {
    "duration": 7,
    "start_time": "2022-09-07T22:13:23.600Z"
   },
   {
    "duration": 6,
    "start_time": "2022-09-07T22:13:42.007Z"
   },
   {
    "duration": 7,
    "start_time": "2022-09-07T22:13:47.159Z"
   },
   {
    "duration": 4,
    "start_time": "2022-09-07T22:15:23.064Z"
   },
   {
    "duration": 4,
    "start_time": "2022-09-07T22:15:29.903Z"
   },
   {
    "duration": 6,
    "start_time": "2022-09-07T22:32:08.236Z"
   },
   {
    "duration": 5,
    "start_time": "2022-09-07T22:32:45.285Z"
   },
   {
    "duration": 7,
    "start_time": "2022-09-07T22:34:28.722Z"
   },
   {
    "duration": 7,
    "start_time": "2022-09-07T22:38:16.500Z"
   },
   {
    "duration": 6,
    "start_time": "2022-09-07T22:38:26.149Z"
   },
   {
    "duration": 6,
    "start_time": "2022-09-07T22:38:39.261Z"
   },
   {
    "duration": 3,
    "start_time": "2022-09-07T22:45:23.988Z"
   },
   {
    "duration": 5,
    "start_time": "2022-09-07T22:45:41.302Z"
   },
   {
    "duration": 4,
    "start_time": "2022-09-07T22:46:16.056Z"
   },
   {
    "duration": 7,
    "start_time": "2022-09-07T22:48:25.328Z"
   },
   {
    "duration": 5,
    "start_time": "2022-09-07T22:48:29.856Z"
   },
   {
    "duration": 8,
    "start_time": "2022-09-07T22:50:52.294Z"
   },
   {
    "duration": 7,
    "start_time": "2022-09-07T22:51:00.362Z"
   },
   {
    "duration": 7,
    "start_time": "2022-09-07T22:51:25.375Z"
   },
   {
    "duration": 3,
    "start_time": "2022-09-07T22:51:34.653Z"
   },
   {
    "duration": 4,
    "start_time": "2022-09-07T22:51:39.431Z"
   },
   {
    "duration": 6,
    "start_time": "2022-09-07T22:51:59.494Z"
   },
   {
    "duration": 5,
    "start_time": "2022-09-07T22:52:16.784Z"
   },
   {
    "duration": 517,
    "start_time": "2022-09-08T02:41:13.742Z"
   },
   {
    "duration": 15,
    "start_time": "2022-09-08T02:41:17.619Z"
   },
   {
    "duration": 20,
    "start_time": "2022-09-08T02:41:20.521Z"
   },
   {
    "duration": 14,
    "start_time": "2022-09-08T02:41:24.855Z"
   },
   {
    "duration": 22,
    "start_time": "2022-09-08T02:41:30.981Z"
   },
   {
    "duration": 20,
    "start_time": "2022-09-08T02:41:36.990Z"
   },
   {
    "duration": 3,
    "start_time": "2022-09-08T02:41:42.179Z"
   },
   {
    "duration": 15,
    "start_time": "2022-09-08T02:41:45.254Z"
   },
   {
    "duration": 8,
    "start_time": "2022-09-08T02:41:50.452Z"
   },
   {
    "duration": 9,
    "start_time": "2022-09-08T02:42:02.291Z"
   },
   {
    "duration": 8,
    "start_time": "2022-09-08T02:42:05.256Z"
   },
   {
    "duration": 7,
    "start_time": "2022-09-08T02:42:08.220Z"
   },
   {
    "duration": 7,
    "start_time": "2022-09-08T02:42:11.228Z"
   },
   {
    "duration": 7,
    "start_time": "2022-09-08T02:42:15.716Z"
   },
   {
    "duration": 8,
    "start_time": "2022-09-08T02:42:18.985Z"
   },
   {
    "duration": 7,
    "start_time": "2022-09-08T02:42:23.923Z"
   },
   {
    "duration": 8,
    "start_time": "2022-09-08T02:42:26.971Z"
   },
   {
    "duration": 5,
    "start_time": "2022-09-08T02:42:32.486Z"
   },
   {
    "duration": 9,
    "start_time": "2022-09-08T02:42:37.303Z"
   },
   {
    "duration": 5,
    "start_time": "2022-09-08T02:42:43.547Z"
   },
   {
    "duration": 6,
    "start_time": "2022-09-08T02:42:48.361Z"
   },
   {
    "duration": 6,
    "start_time": "2022-09-08T02:42:56.504Z"
   },
   {
    "duration": 5,
    "start_time": "2022-09-08T02:43:02.180Z"
   },
   {
    "duration": 6,
    "start_time": "2022-09-08T02:43:11.923Z"
   },
   {
    "duration": 8,
    "start_time": "2022-09-08T02:43:20.457Z"
   },
   {
    "duration": 6,
    "start_time": "2022-09-08T02:43:27.235Z"
   },
   {
    "duration": 6,
    "start_time": "2022-09-08T02:44:06.808Z"
   },
   {
    "duration": 5,
    "start_time": "2022-09-08T02:44:22.460Z"
   },
   {
    "duration": 6,
    "start_time": "2022-09-08T02:47:02.108Z"
   },
   {
    "duration": 5,
    "start_time": "2022-09-08T02:47:06.816Z"
   },
   {
    "duration": 7,
    "start_time": "2022-09-08T02:49:18.960Z"
   },
   {
    "duration": 5,
    "start_time": "2022-09-08T02:49:40.456Z"
   },
   {
    "duration": 4,
    "start_time": "2022-09-08T02:50:59.492Z"
   },
   {
    "duration": 5,
    "start_time": "2022-09-08T02:51:12.491Z"
   },
   {
    "duration": 7,
    "start_time": "2022-09-08T02:51:24.906Z"
   },
   {
    "duration": 7,
    "start_time": "2022-09-08T02:51:33.821Z"
   },
   {
    "duration": 11,
    "start_time": "2022-09-08T02:57:59.650Z"
   },
   {
    "duration": 13,
    "start_time": "2022-09-08T02:58:09.500Z"
   },
   {
    "duration": 6,
    "start_time": "2022-09-08T02:58:13.315Z"
   },
   {
    "duration": 4,
    "start_time": "2022-09-08T03:00:40.200Z"
   },
   {
    "duration": 6,
    "start_time": "2022-09-08T03:01:15.303Z"
   },
   {
    "duration": 7,
    "start_time": "2022-09-08T03:02:23.729Z"
   },
   {
    "duration": 7,
    "start_time": "2022-09-08T03:02:46.052Z"
   },
   {
    "duration": 66,
    "start_time": "2022-09-08T03:04:13.608Z"
   },
   {
    "duration": 6,
    "start_time": "2022-09-08T03:06:26.301Z"
   },
   {
    "duration": 6,
    "start_time": "2022-09-08T03:06:35.277Z"
   },
   {
    "duration": 5,
    "start_time": "2022-09-08T03:08:25.541Z"
   },
   {
    "duration": 7,
    "start_time": "2022-09-08T03:16:11.081Z"
   },
   {
    "duration": 4,
    "start_time": "2022-09-08T03:16:23.342Z"
   },
   {
    "duration": 5,
    "start_time": "2022-09-08T03:16:30.565Z"
   },
   {
    "duration": 6,
    "start_time": "2022-09-08T03:17:18.826Z"
   },
   {
    "duration": 5,
    "start_time": "2022-09-08T03:20:41.386Z"
   },
   {
    "duration": 7,
    "start_time": "2022-09-08T03:20:48.000Z"
   },
   {
    "duration": 4,
    "start_time": "2022-09-08T03:21:12.791Z"
   },
   {
    "duration": 5,
    "start_time": "2022-09-08T03:21:56.657Z"
   },
   {
    "duration": 3,
    "start_time": "2022-09-08T03:22:06.845Z"
   },
   {
    "duration": 5,
    "start_time": "2022-09-08T03:22:10.335Z"
   },
   {
    "duration": 3,
    "start_time": "2022-09-08T03:22:37.286Z"
   },
   {
    "duration": 3,
    "start_time": "2022-09-08T03:22:39.576Z"
   },
   {
    "duration": 4,
    "start_time": "2022-09-08T03:22:55.103Z"
   },
   {
    "duration": 3,
    "start_time": "2022-09-08T03:23:22.613Z"
   },
   {
    "duration": 4,
    "start_time": "2022-09-08T03:23:25.311Z"
   },
   {
    "duration": 5,
    "start_time": "2022-09-08T03:24:04.052Z"
   },
   {
    "duration": 3,
    "start_time": "2022-09-08T03:24:20.642Z"
   },
   {
    "duration": 4,
    "start_time": "2022-09-08T03:24:23.876Z"
   },
   {
    "duration": 5,
    "start_time": "2022-09-08T03:24:27.159Z"
   },
   {
    "duration": 8,
    "start_time": "2022-09-08T03:24:41.332Z"
   },
   {
    "duration": 3,
    "start_time": "2022-09-08T03:25:32.047Z"
   },
   {
    "duration": 3,
    "start_time": "2022-09-08T03:25:37.648Z"
   },
   {
    "duration": 4,
    "start_time": "2022-09-08T03:25:41.158Z"
   },
   {
    "duration": 6,
    "start_time": "2022-09-08T03:25:53.896Z"
   },
   {
    "duration": 4,
    "start_time": "2022-09-08T03:26:07.326Z"
   },
   {
    "duration": 59,
    "start_time": "2022-09-08T03:26:16.845Z"
   },
   {
    "duration": 14,
    "start_time": "2022-09-08T03:26:21.256Z"
   },
   {
    "duration": 13,
    "start_time": "2022-09-08T03:26:26.157Z"
   },
   {
    "duration": 14,
    "start_time": "2022-09-08T03:26:30.694Z"
   },
   {
    "duration": 21,
    "start_time": "2022-09-08T03:26:34.455Z"
   },
   {
    "duration": 22,
    "start_time": "2022-09-08T03:26:39.448Z"
   },
   {
    "duration": 4,
    "start_time": "2022-09-08T03:26:44.841Z"
   },
   {
    "duration": 15,
    "start_time": "2022-09-08T03:26:47.775Z"
   },
   {
    "duration": 7,
    "start_time": "2022-09-08T03:26:51.586Z"
   },
   {
    "duration": 12,
    "start_time": "2022-09-08T03:26:55.580Z"
   },
   {
    "duration": 14,
    "start_time": "2022-09-08T03:26:59.096Z"
   },
   {
    "duration": 8,
    "start_time": "2022-09-08T03:27:02.369Z"
   },
   {
    "duration": 7,
    "start_time": "2022-09-08T03:27:05.692Z"
   },
   {
    "duration": 7,
    "start_time": "2022-09-08T03:27:08.771Z"
   },
   {
    "duration": 7,
    "start_time": "2022-09-08T03:27:11.712Z"
   },
   {
    "duration": 9,
    "start_time": "2022-09-08T03:27:18.096Z"
   },
   {
    "duration": 8,
    "start_time": "2022-09-08T03:27:21.455Z"
   },
   {
    "duration": 5,
    "start_time": "2022-09-08T03:27:26.215Z"
   },
   {
    "duration": 12,
    "start_time": "2022-09-08T03:27:30.409Z"
   },
   {
    "duration": 5,
    "start_time": "2022-09-08T03:27:34.991Z"
   },
   {
    "duration": 5,
    "start_time": "2022-09-08T03:27:39.911Z"
   },
   {
    "duration": 7,
    "start_time": "2022-09-08T03:27:44.832Z"
   },
   {
    "duration": 5,
    "start_time": "2022-09-08T03:27:52.487Z"
   },
   {
    "duration": 6,
    "start_time": "2022-09-08T03:27:57.812Z"
   },
   {
    "duration": 10,
    "start_time": "2022-09-08T03:28:01.731Z"
   },
   {
    "duration": 5,
    "start_time": "2022-09-08T03:28:09.013Z"
   },
   {
    "duration": 6,
    "start_time": "2022-09-08T03:28:14.976Z"
   },
   {
    "duration": 16,
    "start_time": "2022-09-08T03:28:18.981Z"
   },
   {
    "duration": 9,
    "start_time": "2022-09-08T03:28:30.507Z"
   },
   {
    "duration": 5,
    "start_time": "2022-09-08T03:28:36.791Z"
   },
   {
    "duration": 7,
    "start_time": "2022-09-08T03:28:45.821Z"
   },
   {
    "duration": 5,
    "start_time": "2022-09-08T03:28:54.758Z"
   },
   {
    "duration": 3,
    "start_time": "2022-09-08T03:28:58.241Z"
   },
   {
    "duration": 3,
    "start_time": "2022-09-08T03:29:01.035Z"
   },
   {
    "duration": 6,
    "start_time": "2022-09-08T03:29:09.962Z"
   },
   {
    "duration": 3,
    "start_time": "2022-09-08T03:32:06.501Z"
   },
   {
    "duration": 5,
    "start_time": "2022-09-08T03:32:32.887Z"
   },
   {
    "duration": 3,
    "start_time": "2022-09-08T03:32:57.353Z"
   },
   {
    "duration": 4,
    "start_time": "2022-09-08T03:32:59.741Z"
   },
   {
    "duration": 3,
    "start_time": "2022-09-08T03:33:05.052Z"
   },
   {
    "duration": 6,
    "start_time": "2022-09-08T03:33:08.164Z"
   },
   {
    "duration": 4,
    "start_time": "2022-09-08T03:33:27.018Z"
   },
   {
    "duration": 8,
    "start_time": "2022-09-08T03:33:47.878Z"
   },
   {
    "duration": 5,
    "start_time": "2022-09-08T03:33:51.362Z"
   },
   {
    "duration": 962,
    "start_time": "2022-09-08T03:37:49.066Z"
   },
   {
    "duration": 5,
    "start_time": "2022-09-08T03:38:08.688Z"
   },
   {
    "duration": 5,
    "start_time": "2022-09-08T03:38:38.721Z"
   },
   {
    "duration": 5,
    "start_time": "2022-09-08T03:39:28.119Z"
   },
   {
    "duration": 7,
    "start_time": "2022-09-08T03:39:35.941Z"
   },
   {
    "duration": 8,
    "start_time": "2022-09-08T03:40:48.431Z"
   },
   {
    "duration": 6,
    "start_time": "2022-09-08T03:41:23.562Z"
   },
   {
    "duration": 5,
    "start_time": "2022-09-08T03:41:40.519Z"
   },
   {
    "duration": 4,
    "start_time": "2022-09-08T03:43:03.232Z"
   },
   {
    "duration": 5,
    "start_time": "2022-09-08T03:43:13.172Z"
   },
   {
    "duration": 5,
    "start_time": "2022-09-08T03:43:54.703Z"
   },
   {
    "duration": 5,
    "start_time": "2022-09-08T03:43:58.336Z"
   },
   {
    "duration": 4,
    "start_time": "2022-09-08T03:44:23.574Z"
   },
   {
    "duration": 6,
    "start_time": "2022-09-08T03:44:27.037Z"
   },
   {
    "duration": 4,
    "start_time": "2022-09-08T03:45:26.634Z"
   },
   {
    "duration": 4,
    "start_time": "2022-09-08T03:45:47.361Z"
   },
   {
    "duration": 4,
    "start_time": "2022-09-08T03:45:59.142Z"
   },
   {
    "duration": 648,
    "start_time": "2022-09-08T14:50:18.447Z"
   },
   {
    "duration": 20,
    "start_time": "2022-09-08T14:50:24.128Z"
   },
   {
    "duration": 22,
    "start_time": "2022-09-08T14:50:37.496Z"
   },
   {
    "duration": 18,
    "start_time": "2022-09-08T14:50:42.619Z"
   },
   {
    "duration": 23,
    "start_time": "2022-09-08T14:50:47.241Z"
   },
   {
    "duration": 26,
    "start_time": "2022-09-08T14:51:32.911Z"
   },
   {
    "duration": 3,
    "start_time": "2022-09-08T14:51:37.573Z"
   },
   {
    "duration": 22,
    "start_time": "2022-09-08T14:51:41.515Z"
   },
   {
    "duration": 10,
    "start_time": "2022-09-08T14:51:54.074Z"
   },
   {
    "duration": 11,
    "start_time": "2022-09-08T14:52:03.406Z"
   },
   {
    "duration": 8,
    "start_time": "2022-09-08T14:52:10.685Z"
   },
   {
    "duration": 7,
    "start_time": "2022-09-08T14:52:15.369Z"
   },
   {
    "duration": 7,
    "start_time": "2022-09-08T14:52:19.406Z"
   },
   {
    "duration": 8,
    "start_time": "2022-09-08T14:52:23.885Z"
   },
   {
    "duration": 6,
    "start_time": "2022-09-08T14:52:27.186Z"
   },
   {
    "duration": 8,
    "start_time": "2022-09-08T14:52:31.694Z"
   },
   {
    "duration": 18,
    "start_time": "2022-09-08T14:52:35.820Z"
   },
   {
    "duration": 5,
    "start_time": "2022-09-08T14:52:40.781Z"
   },
   {
    "duration": 12,
    "start_time": "2022-09-08T14:52:45.245Z"
   },
   {
    "duration": 7,
    "start_time": "2022-09-08T14:52:47.985Z"
   },
   {
    "duration": 7,
    "start_time": "2022-09-08T14:54:29.253Z"
   },
   {
    "duration": 6,
    "start_time": "2022-09-08T14:54:33.155Z"
   },
   {
    "duration": 4,
    "start_time": "2022-09-08T14:54:37.272Z"
   },
   {
    "duration": 7,
    "start_time": "2022-09-08T14:54:42.852Z"
   },
   {
    "duration": 9,
    "start_time": "2022-09-08T14:54:46.852Z"
   },
   {
    "duration": 3,
    "start_time": "2022-09-08T14:54:53.589Z"
   },
   {
    "duration": 6,
    "start_time": "2022-09-08T14:55:00.909Z"
   },
   {
    "duration": 27,
    "start_time": "2022-09-08T14:55:06.908Z"
   },
   {
    "duration": 7,
    "start_time": "2022-09-08T14:55:11.092Z"
   },
   {
    "duration": 6,
    "start_time": "2022-09-08T14:55:20.756Z"
   },
   {
    "duration": 7,
    "start_time": "2022-09-08T14:55:36.574Z"
   },
   {
    "duration": 4,
    "start_time": "2022-09-08T14:55:45.875Z"
   },
   {
    "duration": 9,
    "start_time": "2022-09-08T14:55:57.639Z"
   },
   {
    "duration": 5,
    "start_time": "2022-09-08T14:56:09.500Z"
   },
   {
    "duration": 7,
    "start_time": "2022-09-08T14:56:20.209Z"
   },
   {
    "duration": 6,
    "start_time": "2022-09-08T14:56:27.117Z"
   },
   {
    "duration": 6,
    "start_time": "2022-09-08T14:56:32.240Z"
   },
   {
    "duration": 7,
    "start_time": "2022-09-08T14:56:38.276Z"
   },
   {
    "duration": 6,
    "start_time": "2022-09-08T14:56:43.036Z"
   },
   {
    "duration": 5,
    "start_time": "2022-09-08T14:56:48.203Z"
   },
   {
    "duration": 7,
    "start_time": "2022-09-08T14:56:55.789Z"
   },
   {
    "duration": 4,
    "start_time": "2022-09-08T14:57:10.038Z"
   },
   {
    "duration": 8,
    "start_time": "2022-09-08T14:57:13.259Z"
   },
   {
    "duration": 6,
    "start_time": "2022-09-08T14:57:18.355Z"
   },
   {
    "duration": 8,
    "start_time": "2022-09-08T14:57:38.841Z"
   },
   {
    "duration": 20,
    "start_time": "2022-09-08T14:58:09.115Z"
   },
   {
    "duration": 4,
    "start_time": "2022-09-08T15:08:10.531Z"
   },
   {
    "duration": 5,
    "start_time": "2022-09-08T15:08:26.621Z"
   },
   {
    "duration": 4,
    "start_time": "2022-09-08T15:08:34.397Z"
   },
   {
    "duration": 5,
    "start_time": "2022-09-08T15:08:37.171Z"
   },
   {
    "duration": 5,
    "start_time": "2022-09-08T15:08:46.749Z"
   },
   {
    "duration": 63,
    "start_time": "2022-09-08T15:09:09.122Z"
   },
   {
    "duration": 16,
    "start_time": "2022-09-08T15:09:12.637Z"
   },
   {
    "duration": 13,
    "start_time": "2022-09-08T15:09:17.052Z"
   },
   {
    "duration": 15,
    "start_time": "2022-09-08T15:09:20.723Z"
   },
   {
    "duration": 21,
    "start_time": "2022-09-08T15:09:25.527Z"
   },
   {
    "duration": 21,
    "start_time": "2022-09-08T15:09:30.691Z"
   },
   {
    "duration": 4,
    "start_time": "2022-09-08T15:09:36.614Z"
   },
   {
    "duration": 16,
    "start_time": "2022-09-08T15:09:39.261Z"
   },
   {
    "duration": 8,
    "start_time": "2022-09-08T15:09:44.333Z"
   },
   {
    "duration": 10,
    "start_time": "2022-09-08T15:10:52.647Z"
   },
   {
    "duration": 8,
    "start_time": "2022-09-08T15:10:57.349Z"
   },
   {
    "duration": 7,
    "start_time": "2022-09-08T15:11:00.749Z"
   },
   {
    "duration": 6,
    "start_time": "2022-09-08T15:11:03.708Z"
   },
   {
    "duration": 6,
    "start_time": "2022-09-08T15:11:10.709Z"
   },
   {
    "duration": 6,
    "start_time": "2022-09-08T15:11:13.805Z"
   },
   {
    "duration": 6,
    "start_time": "2022-09-08T15:11:16.469Z"
   },
   {
    "duration": 8,
    "start_time": "2022-09-08T15:11:21.869Z"
   },
   {
    "duration": 7,
    "start_time": "2022-09-08T15:11:25.357Z"
   },
   {
    "duration": 5,
    "start_time": "2022-09-08T15:11:30.148Z"
   },
   {
    "duration": 9,
    "start_time": "2022-09-08T15:11:34.027Z"
   },
   {
    "duration": 7,
    "start_time": "2022-09-08T15:11:37.213Z"
   },
   {
    "duration": 6,
    "start_time": "2022-09-08T15:11:41.939Z"
   },
   {
    "duration": 6,
    "start_time": "2022-09-08T15:11:50.478Z"
   },
   {
    "duration": 4,
    "start_time": "2022-09-08T15:12:01.637Z"
   },
   {
    "duration": 5,
    "start_time": "2022-09-08T15:12:04.765Z"
   },
   {
    "duration": 7,
    "start_time": "2022-09-08T15:12:21.941Z"
   },
   {
    "duration": 4,
    "start_time": "2022-09-08T15:12:32.923Z"
   },
   {
    "duration": 5,
    "start_time": "2022-09-08T15:12:35.884Z"
   },
   {
    "duration": 5,
    "start_time": "2022-09-08T15:13:03.364Z"
   },
   {
    "duration": 14,
    "start_time": "2022-09-08T15:13:07.076Z"
   },
   {
    "duration": 8,
    "start_time": "2022-09-08T15:13:10.019Z"
   },
   {
    "duration": 6,
    "start_time": "2022-09-08T15:13:27.538Z"
   },
   {
    "duration": 7,
    "start_time": "2022-09-08T15:13:35.237Z"
   },
   {
    "duration": 3,
    "start_time": "2022-09-08T15:13:45.148Z"
   },
   {
    "duration": 8,
    "start_time": "2022-09-08T15:13:47.669Z"
   },
   {
    "duration": 5,
    "start_time": "2022-09-08T15:13:54.717Z"
   },
   {
    "duration": 6,
    "start_time": "2022-09-08T15:14:13.854Z"
   },
   {
    "duration": 4,
    "start_time": "2022-09-08T15:14:23.509Z"
   },
   {
    "duration": 5,
    "start_time": "2022-09-08T15:14:29.312Z"
   },
   {
    "duration": 7,
    "start_time": "2022-09-08T15:14:37.763Z"
   },
   {
    "duration": 5,
    "start_time": "2022-09-08T15:14:45.291Z"
   },
   {
    "duration": 5,
    "start_time": "2022-09-08T15:14:49.429Z"
   },
   {
    "duration": 6,
    "start_time": "2022-09-08T15:15:04.693Z"
   },
   {
    "duration": 5,
    "start_time": "2022-09-08T15:15:14.252Z"
   },
   {
    "duration": 5,
    "start_time": "2022-09-08T15:15:18.028Z"
   },
   {
    "duration": 5,
    "start_time": "2022-09-08T15:15:29.669Z"
   },
   {
    "duration": 4,
    "start_time": "2022-09-08T15:18:29.692Z"
   },
   {
    "duration": 5,
    "start_time": "2022-09-08T15:19:04.407Z"
   },
   {
    "duration": 4,
    "start_time": "2022-09-08T15:19:09.726Z"
   },
   {
    "duration": 5,
    "start_time": "2022-09-08T15:19:15.687Z"
   },
   {
    "duration": 27,
    "start_time": "2022-09-08T15:23:01.858Z"
   },
   {
    "duration": 5,
    "start_time": "2022-09-08T15:23:05.182Z"
   },
   {
    "duration": 5,
    "start_time": "2022-09-08T15:23:18.342Z"
   },
   {
    "duration": 57,
    "start_time": "2022-09-08T15:23:47.399Z"
   },
   {
    "duration": 21,
    "start_time": "2022-09-08T15:23:50.190Z"
   },
   {
    "duration": 14,
    "start_time": "2022-09-08T15:23:52.775Z"
   },
   {
    "duration": 20,
    "start_time": "2022-09-08T15:23:56.909Z"
   },
   {
    "duration": 21,
    "start_time": "2022-09-08T15:24:01.777Z"
   },
   {
    "duration": 21,
    "start_time": "2022-09-08T15:24:07.969Z"
   },
   {
    "duration": 3,
    "start_time": "2022-09-08T15:24:13.078Z"
   },
   {
    "duration": 16,
    "start_time": "2022-09-08T15:24:16.212Z"
   },
   {
    "duration": 7,
    "start_time": "2022-09-08T15:24:19.920Z"
   },
   {
    "duration": 8,
    "start_time": "2022-09-08T15:24:25.296Z"
   },
   {
    "duration": 11,
    "start_time": "2022-09-08T15:24:29.102Z"
   },
   {
    "duration": 7,
    "start_time": "2022-09-08T15:24:32.025Z"
   },
   {
    "duration": 7,
    "start_time": "2022-09-08T15:24:34.901Z"
   },
   {
    "duration": 7,
    "start_time": "2022-09-08T15:24:38.198Z"
   },
   {
    "duration": 7,
    "start_time": "2022-09-08T15:24:41.465Z"
   },
   {
    "duration": 8,
    "start_time": "2022-09-08T15:24:46.784Z"
   },
   {
    "duration": 9,
    "start_time": "2022-09-08T15:24:50.262Z"
   },
   {
    "duration": 5,
    "start_time": "2022-09-08T15:24:55.406Z"
   },
   {
    "duration": 10,
    "start_time": "2022-09-08T15:24:59.327Z"
   },
   {
    "duration": 6,
    "start_time": "2022-09-08T15:25:07.176Z"
   },
   {
    "duration": 6,
    "start_time": "2022-09-08T15:25:12.126Z"
   },
   {
    "duration": 6,
    "start_time": "2022-09-08T15:25:16.727Z"
   },
   {
    "duration": 4,
    "start_time": "2022-09-08T15:25:21.327Z"
   },
   {
    "duration": 7,
    "start_time": "2022-09-08T15:25:24.928Z"
   },
   {
    "duration": 8,
    "start_time": "2022-09-08T15:25:29.391Z"
   },
   {
    "duration": 4,
    "start_time": "2022-09-08T15:25:35.837Z"
   },
   {
    "duration": 5,
    "start_time": "2022-09-08T15:25:38.815Z"
   },
   {
    "duration": 14,
    "start_time": "2022-09-08T15:25:42.485Z"
   },
   {
    "duration": 8,
    "start_time": "2022-09-08T15:25:47.333Z"
   },
   {
    "duration": 7,
    "start_time": "2022-09-08T15:25:51.423Z"
   },
   {
    "duration": 9,
    "start_time": "2022-09-08T15:25:55.255Z"
   },
   {
    "duration": 4,
    "start_time": "2022-09-08T15:25:59.694Z"
   },
   {
    "duration": 9,
    "start_time": "2022-09-08T15:26:01.917Z"
   },
   {
    "duration": 7,
    "start_time": "2022-09-08T15:26:06.429Z"
   },
   {
    "duration": 5,
    "start_time": "2022-09-08T15:26:12.594Z"
   },
   {
    "duration": 4,
    "start_time": "2022-09-08T15:26:17.140Z"
   },
   {
    "duration": 6,
    "start_time": "2022-09-08T15:26:22.633Z"
   },
   {
    "duration": 9,
    "start_time": "2022-09-08T15:26:27.237Z"
   },
   {
    "duration": 5,
    "start_time": "2022-09-08T15:26:30.861Z"
   },
   {
    "duration": 7,
    "start_time": "2022-09-08T15:26:33.535Z"
   },
   {
    "duration": 7,
    "start_time": "2022-09-08T15:26:37.663Z"
   },
   {
    "duration": 4,
    "start_time": "2022-09-08T15:26:41.390Z"
   },
   {
    "duration": 5,
    "start_time": "2022-09-08T15:26:45.136Z"
   },
   {
    "duration": 6,
    "start_time": "2022-09-08T15:26:48.339Z"
   },
   {
    "duration": 20,
    "start_time": "2022-09-08T15:26:54.290Z"
   },
   {
    "duration": 6,
    "start_time": "2022-09-08T15:27:00.359Z"
   },
   {
    "duration": 6,
    "start_time": "2022-09-08T15:27:44.566Z"
   },
   {
    "duration": 6,
    "start_time": "2022-09-08T15:27:48.168Z"
   },
   {
    "duration": 603,
    "start_time": "2022-09-08T20:32:49.293Z"
   },
   {
    "duration": 25,
    "start_time": "2022-09-08T20:32:54.741Z"
   },
   {
    "duration": 16,
    "start_time": "2022-09-08T20:33:14.793Z"
   },
   {
    "duration": 18,
    "start_time": "2022-09-08T20:33:46.456Z"
   },
   {
    "duration": 30,
    "start_time": "2022-09-08T20:33:56.441Z"
   },
   {
    "duration": 20,
    "start_time": "2022-09-08T20:34:05.295Z"
   },
   {
    "duration": 4,
    "start_time": "2022-09-08T20:34:18.145Z"
   },
   {
    "duration": 14,
    "start_time": "2022-09-08T20:34:24.105Z"
   },
   {
    "duration": 12,
    "start_time": "2022-09-08T20:34:28.382Z"
   },
   {
    "duration": 7,
    "start_time": "2022-09-08T20:34:33.491Z"
   },
   {
    "duration": 7,
    "start_time": "2022-09-08T20:34:39.441Z"
   },
   {
    "duration": 10,
    "start_time": "2022-09-08T20:34:54.248Z"
   },
   {
    "duration": 6,
    "start_time": "2022-09-08T20:34:57.815Z"
   },
   {
    "duration": 6,
    "start_time": "2022-09-08T20:35:02.093Z"
   },
   {
    "duration": 7,
    "start_time": "2022-09-08T20:35:05.897Z"
   },
   {
    "duration": 8,
    "start_time": "2022-09-08T20:35:10.143Z"
   },
   {
    "duration": 6,
    "start_time": "2022-09-08T20:35:13.221Z"
   },
   {
    "duration": 7,
    "start_time": "2022-09-08T20:35:20.897Z"
   },
   {
    "duration": 8,
    "start_time": "2022-09-08T20:35:24.396Z"
   },
   {
    "duration": 6,
    "start_time": "2022-09-08T20:35:29.309Z"
   },
   {
    "duration": 9,
    "start_time": "2022-09-08T20:35:32.308Z"
   },
   {
    "duration": 5,
    "start_time": "2022-09-08T20:35:40.420Z"
   },
   {
    "duration": 6,
    "start_time": "2022-09-08T20:35:44.429Z"
   },
   {
    "duration": 5,
    "start_time": "2022-09-08T20:35:47.705Z"
   },
   {
    "duration": 4,
    "start_time": "2022-09-08T20:35:51.021Z"
   },
   {
    "duration": 5,
    "start_time": "2022-09-08T20:35:55.438Z"
   },
   {
    "duration": 8,
    "start_time": "2022-09-08T20:36:00.639Z"
   },
   {
    "duration": 6,
    "start_time": "2022-09-08T20:36:10.919Z"
   },
   {
    "duration": 5,
    "start_time": "2022-09-08T20:36:14.001Z"
   },
   {
    "duration": 29,
    "start_time": "2022-09-08T20:36:18.540Z"
   },
   {
    "duration": 8,
    "start_time": "2022-09-08T20:36:22.420Z"
   },
   {
    "duration": 6,
    "start_time": "2022-09-08T20:36:46.621Z"
   },
   {
    "duration": 7,
    "start_time": "2022-09-08T20:36:52.691Z"
   },
   {
    "duration": 3,
    "start_time": "2022-09-08T20:36:57.048Z"
   },
   {
    "duration": 8,
    "start_time": "2022-09-08T20:36:59.576Z"
   },
   {
    "duration": 4,
    "start_time": "2022-09-08T20:37:03.998Z"
   },
   {
    "duration": 5,
    "start_time": "2022-09-08T20:37:08.688Z"
   },
   {
    "duration": 5,
    "start_time": "2022-09-08T20:37:17.347Z"
   },
   {
    "duration": 5,
    "start_time": "2022-09-08T20:37:20.935Z"
   },
   {
    "duration": 6,
    "start_time": "2022-09-08T20:37:28.040Z"
   },
   {
    "duration": 4,
    "start_time": "2022-09-08T20:37:31.671Z"
   },
   {
    "duration": 5,
    "start_time": "2022-09-08T20:37:35.111Z"
   },
   {
    "duration": 5,
    "start_time": "2022-09-08T20:37:39.696Z"
   },
   {
    "duration": 4,
    "start_time": "2022-09-08T20:37:47.595Z"
   },
   {
    "duration": 5,
    "start_time": "2022-09-08T20:37:50.609Z"
   },
   {
    "duration": 5,
    "start_time": "2022-09-08T20:37:56.069Z"
   },
   {
    "duration": 5,
    "start_time": "2022-09-08T20:38:00.676Z"
   },
   {
    "duration": 4,
    "start_time": "2022-09-08T20:38:04.746Z"
   },
   {
    "duration": 58,
    "start_time": "2022-09-08T21:46:24.994Z"
   },
   {
    "duration": 6,
    "start_time": "2022-09-08T21:46:40.843Z"
   },
   {
    "duration": 53,
    "start_time": "2022-09-08T21:47:43.968Z"
   },
   {
    "duration": 16,
    "start_time": "2022-09-08T21:47:47.309Z"
   },
   {
    "duration": 13,
    "start_time": "2022-09-08T21:47:50.271Z"
   },
   {
    "duration": 13,
    "start_time": "2022-09-08T21:47:54.086Z"
   },
   {
    "duration": 18,
    "start_time": "2022-09-08T21:47:58.481Z"
   },
   {
    "duration": 20,
    "start_time": "2022-09-08T21:48:05.342Z"
   },
   {
    "duration": 2,
    "start_time": "2022-09-08T21:48:10.678Z"
   },
   {
    "duration": 13,
    "start_time": "2022-09-08T21:48:14.046Z"
   },
   {
    "duration": 7,
    "start_time": "2022-09-08T21:48:18.566Z"
   },
   {
    "duration": 7,
    "start_time": "2022-09-08T21:48:23.525Z"
   },
   {
    "duration": 7,
    "start_time": "2022-09-08T21:48:27.120Z"
   },
   {
    "duration": 6,
    "start_time": "2022-09-08T21:48:30.005Z"
   },
   {
    "duration": 5,
    "start_time": "2022-09-08T21:48:33.548Z"
   },
   {
    "duration": 5,
    "start_time": "2022-09-08T21:48:36.916Z"
   },
   {
    "duration": 5,
    "start_time": "2022-09-08T21:48:39.982Z"
   },
   {
    "duration": 9,
    "start_time": "2022-09-08T21:48:44.990Z"
   },
   {
    "duration": 8,
    "start_time": "2022-09-08T21:48:53.308Z"
   },
   {
    "duration": 6,
    "start_time": "2022-09-08T21:48:56.494Z"
   },
   {
    "duration": 5,
    "start_time": "2022-09-08T21:49:03.020Z"
   },
   {
    "duration": 8,
    "start_time": "2022-09-08T21:49:06.284Z"
   },
   {
    "duration": 6,
    "start_time": "2022-09-08T21:49:09.895Z"
   },
   {
    "duration": 5,
    "start_time": "2022-09-08T21:49:13.356Z"
   },
   {
    "duration": 6,
    "start_time": "2022-09-08T21:49:16.693Z"
   },
   {
    "duration": 5,
    "start_time": "2022-09-08T21:49:22.702Z"
   },
   {
    "duration": 5,
    "start_time": "2022-09-08T21:49:25.853Z"
   },
   {
    "duration": 6,
    "start_time": "2022-09-08T21:49:30.746Z"
   },
   {
    "duration": 3,
    "start_time": "2022-09-08T21:49:35.911Z"
   },
   {
    "duration": 5,
    "start_time": "2022-09-08T21:49:39.412Z"
   },
   {
    "duration": 12,
    "start_time": "2022-09-08T21:49:42.784Z"
   },
   {
    "duration": 6,
    "start_time": "2022-09-08T21:49:46.563Z"
   },
   {
    "duration": 5,
    "start_time": "2022-09-08T21:49:51.149Z"
   },
   {
    "duration": 6,
    "start_time": "2022-09-08T21:49:54.710Z"
   },
   {
    "duration": 3,
    "start_time": "2022-09-08T21:49:59.751Z"
   },
   {
    "duration": 7,
    "start_time": "2022-09-08T21:50:02.139Z"
   },
   {
    "duration": 6,
    "start_time": "2022-09-08T21:50:06.133Z"
   },
   {
    "duration": 5,
    "start_time": "2022-09-08T21:50:12.328Z"
   },
   {
    "duration": 4,
    "start_time": "2022-09-08T21:50:16.454Z"
   },
   {
    "duration": 4,
    "start_time": "2022-09-08T21:50:20.033Z"
   },
   {
    "duration": 6,
    "start_time": "2022-09-08T21:50:23.942Z"
   },
   {
    "duration": 4,
    "start_time": "2022-09-08T21:50:27.541Z"
   },
   {
    "duration": 4,
    "start_time": "2022-09-08T21:50:30.956Z"
   },
   {
    "duration": 4,
    "start_time": "2022-09-08T21:50:36.255Z"
   },
   {
    "duration": 4,
    "start_time": "2022-09-08T21:50:42.766Z"
   },
   {
    "duration": 5,
    "start_time": "2022-09-08T21:50:46.800Z"
   },
   {
    "duration": 4,
    "start_time": "2022-09-08T21:50:51.334Z"
   },
   {
    "duration": 4,
    "start_time": "2022-09-08T21:50:54.950Z"
   },
   {
    "duration": 5,
    "start_time": "2022-09-08T21:50:58.974Z"
   },
   {
    "duration": 6,
    "start_time": "2022-09-08T21:51:05.489Z"
   },
   {
    "duration": 4,
    "start_time": "2022-09-08T22:00:02.862Z"
   },
   {
    "duration": 18,
    "start_time": "2022-09-08T22:01:24.707Z"
   },
   {
    "duration": 14,
    "start_time": "2022-09-08T22:03:33.593Z"
   },
   {
    "duration": 99,
    "start_time": "2022-09-08T22:11:25.569Z"
   },
   {
    "duration": 3,
    "start_time": "2022-09-08T22:12:01.231Z"
   },
   {
    "duration": 3,
    "start_time": "2022-09-08T22:39:48.546Z"
   },
   {
    "duration": 25,
    "start_time": "2022-09-08T22:40:54.355Z"
   },
   {
    "duration": 20,
    "start_time": "2022-09-08T22:42:17.924Z"
   },
   {
    "duration": 12,
    "start_time": "2022-09-08T22:42:54.919Z"
   },
   {
    "duration": 4,
    "start_time": "2022-09-08T22:46:31.033Z"
   },
   {
    "duration": 3,
    "start_time": "2022-09-08T22:48:54.493Z"
   },
   {
    "duration": 3,
    "start_time": "2022-09-08T22:49:08.697Z"
   },
   {
    "duration": 4,
    "start_time": "2022-09-08T22:51:31.155Z"
   },
   {
    "duration": 48,
    "start_time": "2022-09-09T02:21:09.875Z"
   },
   {
    "duration": 602,
    "start_time": "2022-09-09T02:21:21.243Z"
   },
   {
    "duration": 18,
    "start_time": "2022-09-09T02:21:24.614Z"
   },
   {
    "duration": 20,
    "start_time": "2022-09-09T02:21:28.372Z"
   },
   {
    "duration": 17,
    "start_time": "2022-09-09T02:21:33.385Z"
   },
   {
    "duration": 22,
    "start_time": "2022-09-09T02:21:37.689Z"
   },
   {
    "duration": 22,
    "start_time": "2022-09-09T02:21:43.440Z"
   },
   {
    "duration": 4,
    "start_time": "2022-09-09T02:21:48.164Z"
   },
   {
    "duration": 18,
    "start_time": "2022-09-09T02:21:51.250Z"
   },
   {
    "duration": 8,
    "start_time": "2022-09-09T02:21:54.850Z"
   },
   {
    "duration": 8,
    "start_time": "2022-09-09T02:21:58.925Z"
   },
   {
    "duration": 9,
    "start_time": "2022-09-09T02:22:01.748Z"
   },
   {
    "duration": 7,
    "start_time": "2022-09-09T02:22:05.129Z"
   },
   {
    "duration": 7,
    "start_time": "2022-09-09T02:22:07.919Z"
   },
   {
    "duration": 9,
    "start_time": "2022-09-09T02:22:10.367Z"
   },
   {
    "duration": 6,
    "start_time": "2022-09-09T02:22:12.631Z"
   },
   {
    "duration": 8,
    "start_time": "2022-09-09T02:22:18.401Z"
   },
   {
    "duration": 9,
    "start_time": "2022-09-09T02:22:21.832Z"
   },
   {
    "duration": 5,
    "start_time": "2022-09-09T02:22:27.870Z"
   },
   {
    "duration": 11,
    "start_time": "2022-09-09T02:22:31.592Z"
   },
   {
    "duration": 7,
    "start_time": "2022-09-09T02:22:34.652Z"
   },
   {
    "duration": 5,
    "start_time": "2022-09-09T02:22:39.418Z"
   },
   {
    "duration": 5,
    "start_time": "2022-09-09T02:22:55.756Z"
   },
   {
    "duration": 7,
    "start_time": "2022-09-09T02:22:59.793Z"
   },
   {
    "duration": 4,
    "start_time": "2022-09-09T02:23:02.844Z"
   },
   {
    "duration": 5,
    "start_time": "2022-09-09T02:23:06.359Z"
   },
   {
    "duration": 8,
    "start_time": "2022-09-09T02:23:10.100Z"
   },
   {
    "duration": 4,
    "start_time": "2022-09-09T02:23:14.154Z"
   },
   {
    "duration": 7,
    "start_time": "2022-09-09T02:23:16.927Z"
   },
   {
    "duration": 17,
    "start_time": "2022-09-09T02:23:20.182Z"
   },
   {
    "duration": 6,
    "start_time": "2022-09-09T02:23:23.638Z"
   },
   {
    "duration": 6,
    "start_time": "2022-09-09T02:23:29.068Z"
   },
   {
    "duration": 7,
    "start_time": "2022-09-09T02:23:32.908Z"
   },
   {
    "duration": 3,
    "start_time": "2022-09-09T02:23:41.069Z"
   },
   {
    "duration": 9,
    "start_time": "2022-09-09T02:23:44.175Z"
   },
   {
    "duration": 5,
    "start_time": "2022-09-09T02:23:48.988Z"
   },
   {
    "duration": 6,
    "start_time": "2022-09-09T02:23:52.718Z"
   },
   {
    "duration": 5,
    "start_time": "2022-09-09T02:23:57.996Z"
   },
   {
    "duration": 8,
    "start_time": "2022-09-09T02:24:03.913Z"
   },
   {
    "duration": 8,
    "start_time": "2022-09-09T02:24:08.297Z"
   },
   {
    "duration": 5,
    "start_time": "2022-09-09T02:24:11.623Z"
   },
   {
    "duration": 5,
    "start_time": "2022-09-09T02:24:14.109Z"
   },
   {
    "duration": 5,
    "start_time": "2022-09-09T02:24:19.875Z"
   },
   {
    "duration": 5,
    "start_time": "2022-09-09T02:24:24.873Z"
   },
   {
    "duration": 6,
    "start_time": "2022-09-09T02:24:30.094Z"
   },
   {
    "duration": 6,
    "start_time": "2022-09-09T02:24:35.317Z"
   },
   {
    "duration": 5,
    "start_time": "2022-09-09T02:24:43.609Z"
   },
   {
    "duration": 5,
    "start_time": "2022-09-09T02:24:47.448Z"
   },
   {
    "duration": 37,
    "start_time": "2022-09-09T02:24:54.170Z"
   },
   {
    "duration": 8,
    "start_time": "2022-09-09T02:25:16.614Z"
   },
   {
    "duration": 3,
    "start_time": "2022-09-09T02:25:28.593Z"
   },
   {
    "duration": 4,
    "start_time": "2022-09-09T02:25:40.094Z"
   },
   {
    "duration": 8,
    "start_time": "2022-09-09T03:01:36.724Z"
   },
   {
    "duration": 62,
    "start_time": "2022-09-09T03:01:56.155Z"
   },
   {
    "duration": 16,
    "start_time": "2022-09-09T03:02:00.397Z"
   },
   {
    "duration": 14,
    "start_time": "2022-09-09T03:02:03.664Z"
   },
   {
    "duration": 15,
    "start_time": "2022-09-09T03:02:07.505Z"
   },
   {
    "duration": 21,
    "start_time": "2022-09-09T03:02:11.735Z"
   },
   {
    "duration": 24,
    "start_time": "2022-09-09T03:02:18.914Z"
   },
   {
    "duration": 3,
    "start_time": "2022-09-09T03:02:24.239Z"
   },
   {
    "duration": 15,
    "start_time": "2022-09-09T03:02:27.219Z"
   },
   {
    "duration": 8,
    "start_time": "2022-09-09T03:02:31.058Z"
   },
   {
    "duration": 8,
    "start_time": "2022-09-09T03:02:36.020Z"
   },
   {
    "duration": 8,
    "start_time": "2022-09-09T03:02:41.737Z"
   },
   {
    "duration": 8,
    "start_time": "2022-09-09T03:02:45.275Z"
   },
   {
    "duration": 6,
    "start_time": "2022-09-09T03:02:47.748Z"
   },
   {
    "duration": 6,
    "start_time": "2022-09-09T03:02:50.688Z"
   },
   {
    "duration": 7,
    "start_time": "2022-09-09T03:02:53.138Z"
   },
   {
    "duration": 8,
    "start_time": "2022-09-09T03:02:58.275Z"
   },
   {
    "duration": 8,
    "start_time": "2022-09-09T03:03:01.096Z"
   },
   {
    "duration": 4,
    "start_time": "2022-09-09T03:03:05.851Z"
   },
   {
    "duration": 10,
    "start_time": "2022-09-09T03:03:09.239Z"
   },
   {
    "duration": 5,
    "start_time": "2022-09-09T03:03:12.880Z"
   },
   {
    "duration": 7,
    "start_time": "2022-09-09T03:03:16.715Z"
   },
   {
    "duration": 7,
    "start_time": "2022-09-09T03:03:20.679Z"
   },
   {
    "duration": 5,
    "start_time": "2022-09-09T03:03:23.958Z"
   },
   {
    "duration": 7,
    "start_time": "2022-09-09T03:03:27.886Z"
   },
   {
    "duration": 7,
    "start_time": "2022-09-09T03:03:32.185Z"
   },
   {
    "duration": 4,
    "start_time": "2022-09-09T03:03:35.990Z"
   },
   {
    "duration": 6,
    "start_time": "2022-09-09T03:03:38.360Z"
   },
   {
    "duration": 17,
    "start_time": "2022-09-09T03:03:42.514Z"
   },
   {
    "duration": 7,
    "start_time": "2022-09-09T03:03:45.704Z"
   },
   {
    "duration": 6,
    "start_time": "2022-09-09T03:03:49.254Z"
   },
   {
    "duration": 7,
    "start_time": "2022-09-09T03:03:57.707Z"
   },
   {
    "duration": 3,
    "start_time": "2022-09-09T03:04:01.599Z"
   },
   {
    "duration": 10,
    "start_time": "2022-09-09T03:04:04.188Z"
   },
   {
    "duration": 6,
    "start_time": "2022-09-09T03:04:06.959Z"
   },
   {
    "duration": 6,
    "start_time": "2022-09-09T03:04:11.853Z"
   },
   {
    "duration": 4,
    "start_time": "2022-09-09T03:04:15.598Z"
   },
   {
    "duration": 6,
    "start_time": "2022-09-09T03:04:20.064Z"
   },
   {
    "duration": 7,
    "start_time": "2022-09-09T03:04:24.768Z"
   },
   {
    "duration": 5,
    "start_time": "2022-09-09T03:04:28.807Z"
   },
   {
    "duration": 6,
    "start_time": "2022-09-09T03:04:32.293Z"
   },
   {
    "duration": 5,
    "start_time": "2022-09-09T03:04:37.900Z"
   },
   {
    "duration": 5,
    "start_time": "2022-09-09T03:04:42.321Z"
   },
   {
    "duration": 6,
    "start_time": "2022-09-09T03:04:46.053Z"
   },
   {
    "duration": 6,
    "start_time": "2022-09-09T03:04:50.293Z"
   },
   {
    "duration": 5,
    "start_time": "2022-09-09T03:04:52.788Z"
   },
   {
    "duration": 6,
    "start_time": "2022-09-09T03:04:56.298Z"
   },
   {
    "duration": 4,
    "start_time": "2022-09-09T03:05:01.019Z"
   },
   {
    "duration": 3,
    "start_time": "2022-09-09T03:05:04.225Z"
   },
   {
    "duration": 78,
    "start_time": "2022-09-09T03:05:13.324Z"
   },
   {
    "duration": 3,
    "start_time": "2022-09-09T03:05:42.014Z"
   },
   {
    "duration": 20,
    "start_time": "2022-09-09T03:05:50.346Z"
   },
   {
    "duration": 668,
    "start_time": "2022-09-09T13:32:40.421Z"
   },
   {
    "duration": 16,
    "start_time": "2022-09-09T13:32:46.160Z"
   },
   {
    "duration": 14,
    "start_time": "2022-09-09T13:32:53.651Z"
   },
   {
    "duration": 25,
    "start_time": "2022-09-09T13:33:00.130Z"
   },
   {
    "duration": 27,
    "start_time": "2022-09-09T13:33:04.882Z"
   },
   {
    "duration": 5,
    "start_time": "2022-09-09T13:33:08.890Z"
   },
   {
    "duration": 62,
    "start_time": "2022-09-09T13:33:14.968Z"
   },
   {
    "duration": 16,
    "start_time": "2022-09-09T13:33:22.928Z"
   },
   {
    "duration": 7,
    "start_time": "2022-09-09T13:33:27.683Z"
   },
   {
    "duration": 8,
    "start_time": "2022-09-09T13:33:32.282Z"
   },
   {
    "duration": 8,
    "start_time": "2022-09-09T13:33:35.402Z"
   },
   {
    "duration": 6,
    "start_time": "2022-09-09T13:33:38.758Z"
   },
   {
    "duration": 5,
    "start_time": "2022-09-09T13:33:41.706Z"
   },
   {
    "duration": 6,
    "start_time": "2022-09-09T13:33:45.789Z"
   },
   {
    "duration": 6,
    "start_time": "2022-09-09T13:33:48.273Z"
   },
   {
    "duration": 7,
    "start_time": "2022-09-09T13:33:54.861Z"
   },
   {
    "duration": 8,
    "start_time": "2022-09-09T13:33:58.066Z"
   },
   {
    "duration": 5,
    "start_time": "2022-09-09T13:34:02.845Z"
   },
   {
    "duration": 9,
    "start_time": "2022-09-09T13:34:06.162Z"
   },
   {
    "duration": 5,
    "start_time": "2022-09-09T13:34:09.166Z"
   },
   {
    "duration": 7,
    "start_time": "2022-09-09T13:34:13.074Z"
   },
   {
    "duration": 8,
    "start_time": "2022-09-09T13:34:16.876Z"
   },
   {
    "duration": 4,
    "start_time": "2022-09-09T13:34:20.694Z"
   },
   {
    "duration": 6,
    "start_time": "2022-09-09T13:34:23.894Z"
   },
   {
    "duration": 7,
    "start_time": "2022-09-09T13:34:27.832Z"
   },
   {
    "duration": 3,
    "start_time": "2022-09-09T13:34:32.975Z"
   },
   {
    "duration": 6,
    "start_time": "2022-09-09T13:34:37.543Z"
   },
   {
    "duration": 13,
    "start_time": "2022-09-09T13:34:41.656Z"
   },
   {
    "duration": 7,
    "start_time": "2022-09-09T13:34:45.454Z"
   },
   {
    "duration": 5,
    "start_time": "2022-09-09T13:34:49.507Z"
   },
   {
    "duration": 8,
    "start_time": "2022-09-09T13:34:54.073Z"
   },
   {
    "duration": 3,
    "start_time": "2022-09-09T13:34:59.000Z"
   },
   {
    "duration": 8,
    "start_time": "2022-09-09T13:35:01.536Z"
   },
   {
    "duration": 4,
    "start_time": "2022-09-09T13:35:05.878Z"
   },
   {
    "duration": 6,
    "start_time": "2022-09-09T13:35:11.379Z"
   },
   {
    "duration": 4,
    "start_time": "2022-09-09T13:35:15.754Z"
   },
   {
    "duration": 4,
    "start_time": "2022-09-09T13:35:19.386Z"
   },
   {
    "duration": 7,
    "start_time": "2022-09-09T13:35:23.455Z"
   },
   {
    "duration": 5,
    "start_time": "2022-09-09T13:35:27.061Z"
   },
   {
    "duration": 5,
    "start_time": "2022-09-09T13:35:33.528Z"
   },
   {
    "duration": 4,
    "start_time": "2022-09-09T13:35:39.642Z"
   },
   {
    "duration": 5,
    "start_time": "2022-09-09T13:35:42.510Z"
   },
   {
    "duration": 5,
    "start_time": "2022-09-09T13:35:45.960Z"
   },
   {
    "duration": 5,
    "start_time": "2022-09-09T13:35:48.671Z"
   },
   {
    "duration": 5,
    "start_time": "2022-09-09T13:35:51.839Z"
   },
   {
    "duration": 4,
    "start_time": "2022-09-09T13:35:59.304Z"
   },
   {
    "duration": 3,
    "start_time": "2022-09-09T13:36:06.360Z"
   },
   {
    "duration": 8,
    "start_time": "2022-09-09T13:36:22.527Z"
   },
   {
    "duration": 3,
    "start_time": "2022-09-09T13:36:31.030Z"
   },
   {
    "duration": 18,
    "start_time": "2022-09-09T13:36:34.408Z"
   },
   {
    "duration": 5,
    "start_time": "2022-09-09T13:40:18.583Z"
   },
   {
    "duration": 6,
    "start_time": "2022-09-09T13:41:13.488Z"
   },
   {
    "duration": 55,
    "start_time": "2022-09-09T13:47:31.200Z"
   },
   {
    "duration": 13,
    "start_time": "2022-09-09T13:47:34.399Z"
   },
   {
    "duration": 12,
    "start_time": "2022-09-09T13:47:37.445Z"
   },
   {
    "duration": 13,
    "start_time": "2022-09-09T13:47:41.921Z"
   },
   {
    "duration": 17,
    "start_time": "2022-09-09T13:47:46.371Z"
   },
   {
    "duration": 18,
    "start_time": "2022-09-09T13:47:51.782Z"
   },
   {
    "duration": 3,
    "start_time": "2022-09-09T13:47:56.394Z"
   },
   {
    "duration": 15,
    "start_time": "2022-09-09T13:47:59.456Z"
   },
   {
    "duration": 7,
    "start_time": "2022-09-09T13:48:03.781Z"
   },
   {
    "duration": 7,
    "start_time": "2022-09-09T13:48:09.096Z"
   },
   {
    "duration": 7,
    "start_time": "2022-09-09T13:48:13.550Z"
   },
   {
    "duration": 6,
    "start_time": "2022-09-09T13:48:17.009Z"
   },
   {
    "duration": 6,
    "start_time": "2022-09-09T13:48:19.404Z"
   },
   {
    "duration": 6,
    "start_time": "2022-09-09T13:48:22.910Z"
   },
   {
    "duration": 6,
    "start_time": "2022-09-09T13:48:25.982Z"
   },
   {
    "duration": 8,
    "start_time": "2022-09-09T13:48:33.084Z"
   },
   {
    "duration": 9,
    "start_time": "2022-09-09T13:48:36.764Z"
   },
   {
    "duration": 5,
    "start_time": "2022-09-09T13:48:43.055Z"
   },
   {
    "duration": 10,
    "start_time": "2022-09-09T13:48:46.796Z"
   },
   {
    "duration": 5,
    "start_time": "2022-09-09T13:48:49.553Z"
   },
   {
    "duration": 5,
    "start_time": "2022-09-09T13:48:53.512Z"
   },
   {
    "duration": 6,
    "start_time": "2022-09-09T13:48:57.800Z"
   },
   {
    "duration": 4,
    "start_time": "2022-09-09T13:49:00.752Z"
   },
   {
    "duration": 6,
    "start_time": "2022-09-09T13:49:04.573Z"
   },
   {
    "duration": 7,
    "start_time": "2022-09-09T13:49:09.199Z"
   },
   {
    "duration": 3,
    "start_time": "2022-09-09T13:49:13.848Z"
   },
   {
    "duration": 4,
    "start_time": "2022-09-09T13:49:18.382Z"
   },
   {
    "duration": 3,
    "start_time": "2022-09-09T13:50:17.000Z"
   },
   {
    "duration": 5,
    "start_time": "2022-09-09T13:50:19.809Z"
   },
   {
    "duration": 12,
    "start_time": "2022-09-09T13:50:23.696Z"
   },
   {
    "duration": 6,
    "start_time": "2022-09-09T13:50:28.634Z"
   },
   {
    "duration": 5,
    "start_time": "2022-09-09T13:50:33.975Z"
   },
   {
    "duration": 6,
    "start_time": "2022-09-09T13:50:37.661Z"
   },
   {
    "duration": 3,
    "start_time": "2022-09-09T13:50:42.671Z"
   },
   {
    "duration": 9,
    "start_time": "2022-09-09T13:50:44.657Z"
   },
   {
    "duration": 6,
    "start_time": "2022-09-09T13:50:47.847Z"
   },
   {
    "duration": 4,
    "start_time": "2022-09-09T13:50:55.144Z"
   },
   {
    "duration": 4,
    "start_time": "2022-09-09T13:50:59.834Z"
   },
   {
    "duration": 5,
    "start_time": "2022-09-09T13:51:04.036Z"
   },
   {
    "duration": 7,
    "start_time": "2022-09-09T13:51:09.439Z"
   },
   {
    "duration": 4,
    "start_time": "2022-09-09T13:51:15.294Z"
   },
   {
    "duration": 5,
    "start_time": "2022-09-09T13:51:19.120Z"
   },
   {
    "duration": 5,
    "start_time": "2022-09-09T13:51:23.304Z"
   },
   {
    "duration": 6,
    "start_time": "2022-09-09T13:51:28.242Z"
   },
   {
    "duration": 5,
    "start_time": "2022-09-09T13:51:32.198Z"
   },
   {
    "duration": 5,
    "start_time": "2022-09-09T13:51:36.687Z"
   },
   {
    "duration": 4,
    "start_time": "2022-09-09T13:51:41.805Z"
   },
   {
    "duration": 5,
    "start_time": "2022-09-09T13:51:44.812Z"
   },
   {
    "duration": 4,
    "start_time": "2022-09-09T13:51:51.750Z"
   },
   {
    "duration": 3,
    "start_time": "2022-09-09T13:51:57.291Z"
   },
   {
    "duration": 3,
    "start_time": "2022-09-09T13:52:34.046Z"
   },
   {
    "duration": 18,
    "start_time": "2022-09-09T13:52:38.044Z"
   },
   {
    "duration": 15,
    "start_time": "2022-09-09T13:53:32.234Z"
   },
   {
    "duration": 7,
    "start_time": "2022-09-09T13:54:49.032Z"
   },
   {
    "duration": 3,
    "start_time": "2022-09-09T14:01:16.340Z"
   },
   {
    "duration": 3,
    "start_time": "2022-09-09T14:01:43.984Z"
   },
   {
    "duration": 3,
    "start_time": "2022-09-09T14:01:55.073Z"
   },
   {
    "duration": 18,
    "start_time": "2022-09-09T14:02:02.250Z"
   },
   {
    "duration": 3,
    "start_time": "2022-09-09T14:08:31.634Z"
   },
   {
    "duration": 17,
    "start_time": "2022-09-09T14:10:43.450Z"
   },
   {
    "duration": 8,
    "start_time": "2022-09-09T14:10:52.945Z"
   },
   {
    "duration": 57,
    "start_time": "2022-09-09T14:13:35.735Z"
   },
   {
    "duration": 14,
    "start_time": "2022-09-09T14:16:27.832Z"
   },
   {
    "duration": 13,
    "start_time": "2022-09-09T14:16:34.596Z"
   },
   {
    "duration": 13,
    "start_time": "2022-09-09T14:16:38.800Z"
   },
   {
    "duration": 20,
    "start_time": "2022-09-09T14:16:42.737Z"
   },
   {
    "duration": 21,
    "start_time": "2022-09-09T14:16:47.695Z"
   },
   {
    "duration": 3,
    "start_time": "2022-09-09T14:16:52.223Z"
   },
   {
    "duration": 22,
    "start_time": "2022-09-09T14:16:55.272Z"
   },
   {
    "duration": 7,
    "start_time": "2022-09-09T14:16:59.186Z"
   },
   {
    "duration": 7,
    "start_time": "2022-09-09T14:17:03.896Z"
   },
   {
    "duration": 7,
    "start_time": "2022-09-09T14:17:07.565Z"
   },
   {
    "duration": 7,
    "start_time": "2022-09-09T14:17:10.681Z"
   },
   {
    "duration": 6,
    "start_time": "2022-09-09T14:17:13.993Z"
   },
   {
    "duration": 5,
    "start_time": "2022-09-09T14:17:17.844Z"
   },
   {
    "duration": 6,
    "start_time": "2022-09-09T14:17:20.832Z"
   },
   {
    "duration": 7,
    "start_time": "2022-09-09T14:17:26.073Z"
   },
   {
    "duration": 7,
    "start_time": "2022-09-09T14:17:29.167Z"
   },
   {
    "duration": 5,
    "start_time": "2022-09-09T14:17:34.249Z"
   },
   {
    "duration": 10,
    "start_time": "2022-09-09T14:17:37.441Z"
   },
   {
    "duration": 5,
    "start_time": "2022-09-09T14:17:40.983Z"
   },
   {
    "duration": 6,
    "start_time": "2022-09-09T14:17:45.407Z"
   },
   {
    "duration": 7,
    "start_time": "2022-09-09T14:17:49.084Z"
   },
   {
    "duration": 5,
    "start_time": "2022-09-09T14:17:52.221Z"
   },
   {
    "duration": 6,
    "start_time": "2022-09-09T14:17:55.952Z"
   },
   {
    "duration": 3,
    "start_time": "2022-09-09T14:18:00.354Z"
   },
   {
    "duration": 5,
    "start_time": "2022-09-09T14:18:04.631Z"
   },
   {
    "duration": 13,
    "start_time": "2022-09-09T14:18:07.584Z"
   },
   {
    "duration": 7,
    "start_time": "2022-09-09T14:18:11.332Z"
   },
   {
    "duration": 6,
    "start_time": "2022-09-09T14:18:14.759Z"
   },
   {
    "duration": 7,
    "start_time": "2022-09-09T14:18:18.882Z"
   },
   {
    "duration": 3,
    "start_time": "2022-09-09T14:18:25.604Z"
   },
   {
    "duration": 8,
    "start_time": "2022-09-09T14:18:27.778Z"
   },
   {
    "duration": 5,
    "start_time": "2022-09-09T14:18:30.439Z"
   },
   {
    "duration": 4,
    "start_time": "2022-09-09T14:18:34.150Z"
   },
   {
    "duration": 4,
    "start_time": "2022-09-09T14:18:37.837Z"
   },
   {
    "duration": 5,
    "start_time": "2022-09-09T14:18:42.647Z"
   },
   {
    "duration": 7,
    "start_time": "2022-09-09T14:18:46.448Z"
   },
   {
    "duration": 5,
    "start_time": "2022-09-09T14:18:49.964Z"
   },
   {
    "duration": 5,
    "start_time": "2022-09-09T14:18:52.975Z"
   },
   {
    "duration": 5,
    "start_time": "2022-09-09T14:18:58.232Z"
   },
   {
    "duration": 4,
    "start_time": "2022-09-09T14:19:02.000Z"
   },
   {
    "duration": 5,
    "start_time": "2022-09-09T14:19:05.747Z"
   },
   {
    "duration": 5,
    "start_time": "2022-09-09T14:19:10.199Z"
   },
   {
    "duration": 9,
    "start_time": "2022-09-09T14:21:56.681Z"
   },
   {
    "duration": 5,
    "start_time": "2022-09-09T14:22:58.551Z"
   },
   {
    "duration": 4,
    "start_time": "2022-09-09T14:23:02.202Z"
   },
   {
    "duration": 3,
    "start_time": "2022-09-09T14:23:06.874Z"
   },
   {
    "duration": 3,
    "start_time": "2022-09-09T14:23:12.038Z"
   },
   {
    "duration": 86,
    "start_time": "2022-09-09T20:45:38.878Z"
   },
   {
    "duration": 45,
    "start_time": "2022-09-09T20:53:16.704Z"
   },
   {
    "duration": 638,
    "start_time": "2022-09-09T20:53:29.304Z"
   },
   {
    "duration": 15,
    "start_time": "2022-09-09T20:53:32.852Z"
   },
   {
    "duration": 23,
    "start_time": "2022-09-09T20:53:37.151Z"
   },
   {
    "duration": 16,
    "start_time": "2022-09-09T20:53:41.043Z"
   },
   {
    "duration": 23,
    "start_time": "2022-09-09T20:53:45.124Z"
   },
   {
    "duration": 22,
    "start_time": "2022-09-09T20:53:50.204Z"
   },
   {
    "duration": 3,
    "start_time": "2022-09-09T20:53:57.119Z"
   },
   {
    "duration": 18,
    "start_time": "2022-09-09T20:54:00.255Z"
   },
   {
    "duration": 9,
    "start_time": "2022-09-09T20:54:03.921Z"
   },
   {
    "duration": 8,
    "start_time": "2022-09-09T20:54:09.085Z"
   },
   {
    "duration": 8,
    "start_time": "2022-09-09T20:54:12.160Z"
   },
   {
    "duration": 7,
    "start_time": "2022-09-09T20:54:15.722Z"
   },
   {
    "duration": 6,
    "start_time": "2022-09-09T20:54:18.522Z"
   },
   {
    "duration": 10,
    "start_time": "2022-09-09T20:54:21.808Z"
   },
   {
    "duration": 6,
    "start_time": "2022-09-09T20:54:24.140Z"
   },
   {
    "duration": 10,
    "start_time": "2022-09-09T20:54:28.619Z"
   },
   {
    "duration": 8,
    "start_time": "2022-09-09T20:54:31.504Z"
   },
   {
    "duration": 5,
    "start_time": "2022-09-09T20:54:36.937Z"
   },
   {
    "duration": 11,
    "start_time": "2022-09-09T20:54:41.335Z"
   },
   {
    "duration": 7,
    "start_time": "2022-09-09T20:54:43.754Z"
   },
   {
    "duration": 6,
    "start_time": "2022-09-09T20:54:47.267Z"
   },
   {
    "duration": 7,
    "start_time": "2022-09-09T20:54:51.334Z"
   },
   {
    "duration": 4,
    "start_time": "2022-09-09T20:54:55.797Z"
   },
   {
    "duration": 5,
    "start_time": "2022-09-09T20:54:59.316Z"
   },
   {
    "duration": 8,
    "start_time": "2022-09-09T20:55:04.648Z"
   },
   {
    "duration": 4,
    "start_time": "2022-09-09T20:55:09.190Z"
   },
   {
    "duration": 6,
    "start_time": "2022-09-09T20:55:13.771Z"
   },
   {
    "duration": 15,
    "start_time": "2022-09-09T20:55:17.451Z"
   },
   {
    "duration": 6,
    "start_time": "2022-09-09T20:55:21.094Z"
   },
   {
    "duration": 6,
    "start_time": "2022-09-09T20:55:25.592Z"
   },
   {
    "duration": 7,
    "start_time": "2022-09-09T20:55:30.735Z"
   },
   {
    "duration": 3,
    "start_time": "2022-09-09T20:55:35.109Z"
   },
   {
    "duration": 9,
    "start_time": "2022-09-09T20:55:37.052Z"
   },
   {
    "duration": 6,
    "start_time": "2022-09-09T20:55:40.284Z"
   },
   {
    "duration": 6,
    "start_time": "2022-09-09T20:55:45.926Z"
   },
   {
    "duration": 5,
    "start_time": "2022-09-09T20:55:53.344Z"
   },
   {
    "duration": 6,
    "start_time": "2022-09-09T20:56:03.166Z"
   },
   {
    "duration": 7,
    "start_time": "2022-09-09T20:56:12.159Z"
   },
   {
    "duration": 4,
    "start_time": "2022-09-09T20:56:16.636Z"
   },
   {
    "duration": 5,
    "start_time": "2022-09-09T20:56:23.398Z"
   },
   {
    "duration": 6,
    "start_time": "2022-09-09T20:56:28.403Z"
   },
   {
    "duration": 4,
    "start_time": "2022-09-09T20:56:33.720Z"
   },
   {
    "duration": 6,
    "start_time": "2022-09-09T20:56:37.521Z"
   },
   {
    "duration": 5,
    "start_time": "2022-09-09T20:56:42.214Z"
   },
   {
    "duration": 5,
    "start_time": "2022-09-09T20:56:45.933Z"
   },
   {
    "duration": 5,
    "start_time": "2022-09-09T20:56:48.864Z"
   },
   {
    "duration": 4,
    "start_time": "2022-09-09T20:56:54.421Z"
   },
   {
    "duration": 3,
    "start_time": "2022-09-09T20:56:59.965Z"
   },
   {
    "duration": 3,
    "start_time": "2022-09-09T20:57:05.536Z"
   },
   {
    "duration": 4,
    "start_time": "2022-09-09T20:57:09.576Z"
   },
   {
    "duration": 21,
    "start_time": "2022-09-09T20:57:13.470Z"
   },
   {
    "duration": 7,
    "start_time": "2022-09-09T20:57:20.743Z"
   },
   {
    "duration": 1478,
    "start_time": "2022-09-09T20:57:26.399Z"
   },
   {
    "duration": 1585,
    "start_time": "2022-09-09T20:57:38.531Z"
   },
   {
    "duration": 1499,
    "start_time": "2022-09-09T20:58:12.193Z"
   },
   {
    "duration": 561,
    "start_time": "2022-09-09T22:55:06.702Z"
   },
   {
    "duration": 15,
    "start_time": "2022-09-09T22:55:11.513Z"
   },
   {
    "duration": 19,
    "start_time": "2022-09-09T22:55:15.414Z"
   },
   {
    "duration": 15,
    "start_time": "2022-09-09T22:55:21.460Z"
   },
   {
    "duration": 27,
    "start_time": "2022-09-09T22:55:27.271Z"
   },
   {
    "duration": 21,
    "start_time": "2022-09-09T22:55:33.080Z"
   },
   {
    "duration": 4,
    "start_time": "2022-09-09T22:55:37.379Z"
   },
   {
    "duration": 16,
    "start_time": "2022-09-09T22:55:41.408Z"
   },
   {
    "duration": 9,
    "start_time": "2022-09-09T22:55:45.733Z"
   },
   {
    "duration": 8,
    "start_time": "2022-09-09T22:55:54.288Z"
   },
   {
    "duration": 11,
    "start_time": "2022-09-09T22:55:57.688Z"
   },
   {
    "duration": 7,
    "start_time": "2022-09-09T22:56:01.140Z"
   },
   {
    "duration": 5,
    "start_time": "2022-09-09T22:56:04.724Z"
   },
   {
    "duration": 7,
    "start_time": "2022-09-09T22:56:08.855Z"
   },
   {
    "duration": 7,
    "start_time": "2022-09-09T22:56:12.128Z"
   },
   {
    "duration": 10,
    "start_time": "2022-09-09T22:56:16.934Z"
   },
   {
    "duration": 8,
    "start_time": "2022-09-09T22:56:20.348Z"
   },
   {
    "duration": 5,
    "start_time": "2022-09-09T22:56:25.033Z"
   },
   {
    "duration": 10,
    "start_time": "2022-09-09T22:56:28.112Z"
   },
   {
    "duration": 6,
    "start_time": "2022-09-09T22:56:32.474Z"
   },
   {
    "duration": 7,
    "start_time": "2022-09-09T22:56:38.030Z"
   },
   {
    "duration": 7,
    "start_time": "2022-09-09T22:56:43.119Z"
   },
   {
    "duration": 5,
    "start_time": "2022-09-09T22:56:47.588Z"
   },
   {
    "duration": 6,
    "start_time": "2022-09-09T22:56:50.968Z"
   },
   {
    "duration": 9,
    "start_time": "2022-09-09T22:56:55.288Z"
   },
   {
    "duration": 3,
    "start_time": "2022-09-09T22:56:59.342Z"
   },
   {
    "duration": 5,
    "start_time": "2022-09-09T22:57:02.623Z"
   },
   {
    "duration": 13,
    "start_time": "2022-09-09T22:57:05.852Z"
   },
   {
    "duration": 7,
    "start_time": "2022-09-09T22:57:10.027Z"
   },
   {
    "duration": 6,
    "start_time": "2022-09-09T22:57:14.005Z"
   },
   {
    "duration": 7,
    "start_time": "2022-09-09T22:57:17.784Z"
   },
   {
    "duration": 3,
    "start_time": "2022-09-09T22:57:22.849Z"
   },
   {
    "duration": 8,
    "start_time": "2022-09-09T22:57:25.508Z"
   },
   {
    "duration": 5,
    "start_time": "2022-09-09T22:57:29.754Z"
   },
   {
    "duration": 5,
    "start_time": "2022-09-09T22:57:33.722Z"
   },
   {
    "duration": 4,
    "start_time": "2022-09-09T22:57:38.196Z"
   },
   {
    "duration": 5,
    "start_time": "2022-09-09T22:57:41.743Z"
   },
   {
    "duration": 7,
    "start_time": "2022-09-09T22:57:45.532Z"
   },
   {
    "duration": 4,
    "start_time": "2022-09-09T22:57:49.395Z"
   },
   {
    "duration": 13,
    "start_time": "2022-09-09T22:57:53.058Z"
   },
   {
    "duration": 6,
    "start_time": "2022-09-09T22:57:57.263Z"
   },
   {
    "duration": 5,
    "start_time": "2022-09-09T22:58:03.403Z"
   },
   {
    "duration": 5,
    "start_time": "2022-09-09T22:58:06.928Z"
   },
   {
    "duration": 6,
    "start_time": "2022-09-09T22:58:16.137Z"
   },
   {
    "duration": 6,
    "start_time": "2022-09-09T22:58:20.226Z"
   },
   {
    "duration": 5,
    "start_time": "2022-09-09T22:58:22.798Z"
   },
   {
    "duration": 5,
    "start_time": "2022-09-09T22:58:27.169Z"
   },
   {
    "duration": 3,
    "start_time": "2022-09-09T22:58:33.549Z"
   },
   {
    "duration": 4,
    "start_time": "2022-09-09T22:58:36.876Z"
   },
   {
    "duration": 3,
    "start_time": "2022-09-09T22:58:40.559Z"
   },
   {
    "duration": 4,
    "start_time": "2022-09-09T22:58:43.853Z"
   },
   {
    "duration": 17,
    "start_time": "2022-09-09T22:58:49.237Z"
   },
   {
    "duration": 7,
    "start_time": "2022-09-09T22:59:00.152Z"
   },
   {
    "duration": 21,
    "start_time": "2022-09-09T23:07:41.870Z"
   },
   {
    "duration": 15,
    "start_time": "2022-09-09T23:36:39.124Z"
   },
   {
    "duration": 62,
    "start_time": "2022-09-09T23:37:52.822Z"
   },
   {
    "duration": 13,
    "start_time": "2022-09-09T23:47:31.478Z"
   },
   {
    "duration": 13,
    "start_time": "2022-09-09T23:52:14.018Z"
   },
   {
    "duration": 16,
    "start_time": "2022-09-09T23:52:26.838Z"
   },
   {
    "duration": 14,
    "start_time": "2022-09-09T23:53:55.614Z"
   },
   {
    "duration": 11,
    "start_time": "2022-09-09T23:55:29.832Z"
   },
   {
    "duration": 10,
    "start_time": "2022-09-09T23:55:38.030Z"
   },
   {
    "duration": 9,
    "start_time": "2022-09-09T23:58:31.851Z"
   },
   {
    "duration": 9,
    "start_time": "2022-09-10T00:08:10.749Z"
   },
   {
    "duration": 9,
    "start_time": "2022-09-10T00:09:52.628Z"
   },
   {
    "duration": 14,
    "start_time": "2022-09-10T00:12:07.071Z"
   },
   {
    "duration": 550,
    "start_time": "2022-09-11T01:44:10.308Z"
   },
   {
    "duration": 15,
    "start_time": "2022-09-11T01:44:14.995Z"
   },
   {
    "duration": 18,
    "start_time": "2022-09-11T01:44:18.679Z"
   },
   {
    "duration": 13,
    "start_time": "2022-09-11T01:44:23.492Z"
   },
   {
    "duration": 19,
    "start_time": "2022-09-11T01:44:44.558Z"
   },
   {
    "duration": 18,
    "start_time": "2022-09-11T01:44:54.110Z"
   },
   {
    "duration": 3,
    "start_time": "2022-09-11T01:49:07.695Z"
   },
   {
    "duration": 16,
    "start_time": "2022-09-11T01:50:00.832Z"
   },
   {
    "duration": 7,
    "start_time": "2022-09-11T01:50:10.504Z"
   },
   {
    "duration": 8,
    "start_time": "2022-09-11T01:50:56.367Z"
   },
   {
    "duration": 7,
    "start_time": "2022-09-11T01:51:03.108Z"
   },
   {
    "duration": 6,
    "start_time": "2022-09-11T01:51:07.442Z"
   },
   {
    "duration": 7,
    "start_time": "2022-09-11T01:51:10.267Z"
   },
   {
    "duration": 9,
    "start_time": "2022-09-11T01:53:00.037Z"
   },
   {
    "duration": 7,
    "start_time": "2022-09-11T01:53:06.772Z"
   },
   {
    "duration": 6,
    "start_time": "2022-09-11T01:53:10.713Z"
   },
   {
    "duration": 6,
    "start_time": "2022-09-11T01:53:13.158Z"
   },
   {
    "duration": 6,
    "start_time": "2022-09-11T01:54:21.605Z"
   },
   {
    "duration": 7,
    "start_time": "2022-09-11T01:54:25.049Z"
   },
   {
    "duration": 6,
    "start_time": "2022-09-11T01:55:02.122Z"
   },
   {
    "duration": 7,
    "start_time": "2022-09-11T01:56:15.753Z"
   },
   {
    "duration": 7,
    "start_time": "2022-09-11T01:56:20.862Z"
   },
   {
    "duration": 6,
    "start_time": "2022-09-11T01:57:13.861Z"
   },
   {
    "duration": 9,
    "start_time": "2022-09-11T01:57:18.707Z"
   },
   {
    "duration": 7,
    "start_time": "2022-09-11T01:57:22.701Z"
   },
   {
    "duration": 6,
    "start_time": "2022-09-11T01:57:33.108Z"
   },
   {
    "duration": 7,
    "start_time": "2022-09-11T02:00:01.138Z"
   },
   {
    "duration": 4,
    "start_time": "2022-09-11T02:00:09.649Z"
   },
   {
    "duration": 19,
    "start_time": "2022-09-11T02:01:06.517Z"
   },
   {
    "duration": 3,
    "start_time": "2022-09-11T02:01:54.358Z"
   },
   {
    "duration": 5,
    "start_time": "2022-09-11T02:02:08.581Z"
   },
   {
    "duration": 13,
    "start_time": "2022-09-11T02:02:13.583Z"
   },
   {
    "duration": 6,
    "start_time": "2022-09-11T02:02:16.634Z"
   },
   {
    "duration": 6,
    "start_time": "2022-09-11T02:02:37.679Z"
   },
   {
    "duration": 7,
    "start_time": "2022-09-11T02:03:33.313Z"
   },
   {
    "duration": 3,
    "start_time": "2022-09-11T02:04:53.783Z"
   },
   {
    "duration": 9,
    "start_time": "2022-09-11T02:05:10.407Z"
   },
   {
    "duration": 5,
    "start_time": "2022-09-11T02:05:16.481Z"
   },
   {
    "duration": 6,
    "start_time": "2022-09-11T02:05:55.332Z"
   },
   {
    "duration": 5,
    "start_time": "2022-09-11T02:06:25.927Z"
   },
   {
    "duration": 5,
    "start_time": "2022-09-11T02:07:15.565Z"
   },
   {
    "duration": 4,
    "start_time": "2022-09-11T02:07:19.757Z"
   },
   {
    "duration": 4,
    "start_time": "2022-09-11T02:07:22.883Z"
   },
   {
    "duration": 4,
    "start_time": "2022-09-11T02:07:50.549Z"
   },
   {
    "duration": 5,
    "start_time": "2022-09-11T02:07:56.712Z"
   },
   {
    "duration": 8,
    "start_time": "2022-09-11T02:08:43.804Z"
   },
   {
    "duration": 13,
    "start_time": "2022-09-11T02:09:02.719Z"
   },
   {
    "duration": 7,
    "start_time": "2022-09-11T02:09:07.394Z"
   },
   {
    "duration": 5,
    "start_time": "2022-09-11T02:10:39.899Z"
   },
   {
    "duration": 5,
    "start_time": "2022-09-11T02:10:52.019Z"
   },
   {
    "duration": 23,
    "start_time": "2022-09-11T02:13:00.985Z"
   },
   {
    "duration": 6,
    "start_time": "2022-09-11T02:13:10.405Z"
   },
   {
    "duration": 58,
    "start_time": "2022-09-11T02:16:05.608Z"
   },
   {
    "duration": 17,
    "start_time": "2022-09-11T02:16:09.033Z"
   },
   {
    "duration": 12,
    "start_time": "2022-09-11T02:16:11.777Z"
   },
   {
    "duration": 13,
    "start_time": "2022-09-11T02:16:15.594Z"
   },
   {
    "duration": 18,
    "start_time": "2022-09-11T02:16:19.748Z"
   },
   {
    "duration": 24,
    "start_time": "2022-09-11T02:16:25.048Z"
   },
   {
    "duration": 3,
    "start_time": "2022-09-11T02:16:29.776Z"
   },
   {
    "duration": 14,
    "start_time": "2022-09-11T02:16:32.609Z"
   },
   {
    "duration": 9,
    "start_time": "2022-09-11T02:16:36.193Z"
   },
   {
    "duration": 7,
    "start_time": "2022-09-11T02:16:42.012Z"
   },
   {
    "duration": 8,
    "start_time": "2022-09-11T02:16:46.181Z"
   },
   {
    "duration": 7,
    "start_time": "2022-09-11T02:16:50.208Z"
   },
   {
    "duration": 7,
    "start_time": "2022-09-11T02:16:53.593Z"
   },
   {
    "duration": 6,
    "start_time": "2022-09-11T02:16:56.215Z"
   },
   {
    "duration": 6,
    "start_time": "2022-09-11T02:16:58.765Z"
   },
   {
    "duration": 8,
    "start_time": "2022-09-11T02:18:47.783Z"
   },
   {
    "duration": 9,
    "start_time": "2022-09-11T02:19:01.077Z"
   },
   {
    "duration": 5,
    "start_time": "2022-09-11T02:19:19.897Z"
   },
   {
    "duration": 9,
    "start_time": "2022-09-11T02:19:23.137Z"
   },
   {
    "duration": 5,
    "start_time": "2022-09-11T02:19:26.708Z"
   },
   {
    "duration": 6,
    "start_time": "2022-09-11T02:19:32.823Z"
   },
   {
    "duration": 6,
    "start_time": "2022-09-11T02:19:38.491Z"
   },
   {
    "duration": 4,
    "start_time": "2022-09-11T02:19:42.754Z"
   },
   {
    "duration": 5,
    "start_time": "2022-09-11T02:19:45.939Z"
   },
   {
    "duration": 7,
    "start_time": "2022-09-11T02:19:50.248Z"
   },
   {
    "duration": 3,
    "start_time": "2022-09-11T02:20:00.931Z"
   },
   {
    "duration": 5,
    "start_time": "2022-09-11T02:20:04.438Z"
   },
   {
    "duration": 13,
    "start_time": "2022-09-11T02:20:07.980Z"
   },
   {
    "duration": 6,
    "start_time": "2022-09-11T02:20:12.021Z"
   },
   {
    "duration": 6,
    "start_time": "2022-09-11T02:20:25.408Z"
   },
   {
    "duration": 6,
    "start_time": "2022-09-11T02:20:35.256Z"
   },
   {
    "duration": 3,
    "start_time": "2022-09-11T02:21:33.609Z"
   },
   {
    "duration": 10,
    "start_time": "2022-09-11T02:21:40.148Z"
   },
   {
    "duration": 4,
    "start_time": "2022-09-11T02:21:43.125Z"
   },
   {
    "duration": 5,
    "start_time": "2022-09-11T02:21:50.775Z"
   },
   {
    "duration": 4,
    "start_time": "2022-09-11T02:21:56.258Z"
   },
   {
    "duration": 5,
    "start_time": "2022-09-11T02:21:59.545Z"
   },
   {
    "duration": 6,
    "start_time": "2022-09-11T02:22:22.737Z"
   },
   {
    "duration": 4,
    "start_time": "2022-09-11T02:22:25.864Z"
   },
   {
    "duration": 6,
    "start_time": "2022-09-11T02:22:28.947Z"
   },
   {
    "duration": 5,
    "start_time": "2022-09-11T02:22:37.213Z"
   },
   {
    "duration": 4,
    "start_time": "2022-09-11T02:22:41.947Z"
   },
   {
    "duration": 5,
    "start_time": "2022-09-11T02:22:45.053Z"
   },
   {
    "duration": 5,
    "start_time": "2022-09-11T02:22:56.111Z"
   },
   {
    "duration": 5,
    "start_time": "2022-09-11T02:23:51.892Z"
   },
   {
    "duration": 6,
    "start_time": "2022-09-11T02:24:49.682Z"
   },
   {
    "duration": 7,
    "start_time": "2022-09-11T02:25:34.720Z"
   },
   {
    "duration": 7,
    "start_time": "2022-09-11T02:26:33.869Z"
   },
   {
    "duration": 4,
    "start_time": "2022-09-11T02:27:22.602Z"
   },
   {
    "duration": 4,
    "start_time": "2022-09-11T02:28:27.862Z"
   },
   {
    "duration": 5,
    "start_time": "2022-09-11T02:28:33.394Z"
   },
   {
    "duration": 4,
    "start_time": "2022-09-11T02:28:57.357Z"
   },
   {
    "duration": 3,
    "start_time": "2022-09-11T02:29:21.559Z"
   },
   {
    "duration": 3,
    "start_time": "2022-09-11T02:30:32.589Z"
   },
   {
    "duration": 3,
    "start_time": "2022-09-11T02:30:35.779Z"
   },
   {
    "duration": 18,
    "start_time": "2022-09-11T02:30:39.933Z"
   },
   {
    "duration": 6,
    "start_time": "2022-09-11T02:31:06.846Z"
   },
   {
    "duration": 3,
    "start_time": "2022-09-11T03:23:07.818Z"
   },
   {
    "duration": 66,
    "start_time": "2022-09-11T03:23:13.860Z"
   },
   {
    "duration": 9,
    "start_time": "2022-09-11T03:23:31.262Z"
   },
   {
    "duration": 13,
    "start_time": "2022-09-11T03:23:36.205Z"
   },
   {
    "duration": 13,
    "start_time": "2022-09-11T03:25:14.426Z"
   },
   {
    "duration": 54,
    "start_time": "2022-09-11T03:25:51.970Z"
   },
   {
    "duration": 13,
    "start_time": "2022-09-11T03:25:55.910Z"
   },
   {
    "duration": 16,
    "start_time": "2022-09-11T03:25:59.044Z"
   },
   {
    "duration": 13,
    "start_time": "2022-09-11T03:26:02.628Z"
   },
   {
    "duration": 18,
    "start_time": "2022-09-11T03:26:14.240Z"
   },
   {
    "duration": 18,
    "start_time": "2022-09-11T03:26:33.897Z"
   },
   {
    "duration": 21,
    "start_time": "2022-09-11T03:26:46.694Z"
   },
   {
    "duration": 3,
    "start_time": "2022-09-11T03:26:53.459Z"
   },
   {
    "duration": 15,
    "start_time": "2022-09-11T03:26:56.982Z"
   },
   {
    "duration": 7,
    "start_time": "2022-09-11T03:27:01.013Z"
   },
   {
    "duration": 7,
    "start_time": "2022-09-11T03:27:06.538Z"
   },
   {
    "duration": 6,
    "start_time": "2022-09-11T03:27:09.434Z"
   },
   {
    "duration": 6,
    "start_time": "2022-09-11T03:27:12.341Z"
   },
   {
    "duration": 5,
    "start_time": "2022-09-11T03:27:15.495Z"
   },
   {
    "duration": 5,
    "start_time": "2022-09-11T03:27:18.418Z"
   },
   {
    "duration": 6,
    "start_time": "2022-09-11T03:27:21.869Z"
   },
   {
    "duration": 7,
    "start_time": "2022-09-11T03:27:26.298Z"
   },
   {
    "duration": 8,
    "start_time": "2022-09-11T03:27:29.213Z"
   },
   {
    "duration": 6,
    "start_time": "2022-09-11T03:27:32.858Z"
   },
   {
    "duration": 9,
    "start_time": "2022-09-11T03:27:35.748Z"
   },
   {
    "duration": 5,
    "start_time": "2022-09-11T03:27:40.177Z"
   },
   {
    "duration": 7,
    "start_time": "2022-09-11T03:27:43.917Z"
   },
   {
    "duration": 6,
    "start_time": "2022-09-11T03:27:47.596Z"
   },
   {
    "duration": 4,
    "start_time": "2022-09-11T03:27:50.615Z"
   },
   {
    "duration": 6,
    "start_time": "2022-09-11T03:27:54.192Z"
   },
   {
    "duration": 8,
    "start_time": "2022-09-11T03:27:57.527Z"
   },
   {
    "duration": 23,
    "start_time": "2022-09-11T03:28:51.774Z"
   },
   {
    "duration": 3,
    "start_time": "2022-09-11T03:29:10.861Z"
   },
   {
    "duration": 6,
    "start_time": "2022-09-11T03:29:13.554Z"
   },
   {
    "duration": 15,
    "start_time": "2022-09-11T03:29:17.120Z"
   },
   {
    "duration": 9,
    "start_time": "2022-09-11T03:29:20.350Z"
   },
   {
    "duration": 5,
    "start_time": "2022-09-11T03:29:23.862Z"
   },
   {
    "duration": 6,
    "start_time": "2022-09-11T03:29:28.548Z"
   },
   {
    "duration": 3,
    "start_time": "2022-09-11T03:29:32.199Z"
   },
   {
    "duration": 7,
    "start_time": "2022-09-11T03:29:34.534Z"
   },
   {
    "duration": 5,
    "start_time": "2022-09-11T03:29:37.570Z"
   },
   {
    "duration": 5,
    "start_time": "2022-09-11T03:29:41.328Z"
   },
   {
    "duration": 5,
    "start_time": "2022-09-11T03:29:45.071Z"
   },
   {
    "duration": 5,
    "start_time": "2022-09-11T03:29:48.253Z"
   },
   {
    "duration": 7,
    "start_time": "2022-09-11T03:29:51.490Z"
   },
   {
    "duration": 4,
    "start_time": "2022-09-11T03:29:55.914Z"
   },
   {
    "duration": 6,
    "start_time": "2022-09-11T03:29:58.912Z"
   },
   {
    "duration": 5,
    "start_time": "2022-09-11T03:30:03.306Z"
   },
   {
    "duration": 5,
    "start_time": "2022-09-11T03:30:08.098Z"
   },
   {
    "duration": 5,
    "start_time": "2022-09-11T03:30:11.718Z"
   },
   {
    "duration": 4,
    "start_time": "2022-09-11T03:30:17.809Z"
   },
   {
    "duration": 19,
    "start_time": "2022-09-11T03:31:53.038Z"
   },
   {
    "duration": 5,
    "start_time": "2022-09-11T03:32:07.897Z"
   },
   {
    "duration": 5,
    "start_time": "2022-09-11T03:32:14.660Z"
   },
   {
    "duration": 5,
    "start_time": "2022-09-11T03:32:18.203Z"
   },
   {
    "duration": 15,
    "start_time": "2022-09-11T03:42:05.549Z"
   },
   {
    "duration": 13,
    "start_time": "2022-09-11T03:42:43.067Z"
   },
   {
    "duration": 723,
    "start_time": "2022-09-11T03:42:52.630Z"
   },
   {
    "duration": 55,
    "start_time": "2022-09-11T03:43:05.200Z"
   },
   {
    "duration": 21,
    "start_time": "2022-09-11T03:43:08.237Z"
   },
   {
    "duration": 18,
    "start_time": "2022-09-11T03:43:11.140Z"
   },
   {
    "duration": 14,
    "start_time": "2022-09-11T03:43:15.050Z"
   },
   {
    "duration": 18,
    "start_time": "2022-09-11T03:43:23.415Z"
   },
   {
    "duration": 20,
    "start_time": "2022-09-11T03:43:27.688Z"
   },
   {
    "duration": 3,
    "start_time": "2022-09-11T03:43:31.323Z"
   },
   {
    "duration": 22,
    "start_time": "2022-09-11T03:43:36.256Z"
   },
   {
    "duration": 7,
    "start_time": "2022-09-11T03:43:40.842Z"
   },
   {
    "duration": 7,
    "start_time": "2022-09-11T03:43:44.972Z"
   },
   {
    "duration": 7,
    "start_time": "2022-09-11T03:43:48.046Z"
   },
   {
    "duration": 8,
    "start_time": "2022-09-11T03:43:50.935Z"
   },
   {
    "duration": 8,
    "start_time": "2022-09-11T03:43:53.566Z"
   },
   {
    "duration": 8,
    "start_time": "2022-09-11T03:43:56.297Z"
   },
   {
    "duration": 7,
    "start_time": "2022-09-11T03:43:59.106Z"
   },
   {
    "duration": 8,
    "start_time": "2022-09-11T03:44:04.205Z"
   },
   {
    "duration": 7,
    "start_time": "2022-09-11T03:44:06.827Z"
   },
   {
    "duration": 5,
    "start_time": "2022-09-11T03:44:11.218Z"
   },
   {
    "duration": 11,
    "start_time": "2022-09-11T03:44:14.320Z"
   },
   {
    "duration": 6,
    "start_time": "2022-09-11T03:44:18.305Z"
   },
   {
    "duration": 6,
    "start_time": "2022-09-11T03:44:22.654Z"
   },
   {
    "duration": 6,
    "start_time": "2022-09-11T03:44:26.343Z"
   },
   {
    "duration": 5,
    "start_time": "2022-09-11T03:44:29.136Z"
   },
   {
    "duration": 5,
    "start_time": "2022-09-11T03:44:32.637Z"
   },
   {
    "duration": 7,
    "start_time": "2022-09-11T03:44:36.428Z"
   },
   {
    "duration": 4,
    "start_time": "2022-09-11T03:44:39.983Z"
   },
   {
    "duration": 5,
    "start_time": "2022-09-11T03:44:42.715Z"
   },
   {
    "duration": 14,
    "start_time": "2022-09-11T03:44:46.084Z"
   },
   {
    "duration": 7,
    "start_time": "2022-09-11T03:44:48.760Z"
   },
   {
    "duration": 6,
    "start_time": "2022-09-11T03:44:52.319Z"
   },
   {
    "duration": 6,
    "start_time": "2022-09-11T03:44:57.414Z"
   },
   {
    "duration": 4,
    "start_time": "2022-09-11T03:45:01.643Z"
   },
   {
    "duration": 10,
    "start_time": "2022-09-11T03:45:04.015Z"
   },
   {
    "duration": 5,
    "start_time": "2022-09-11T03:45:06.742Z"
   },
   {
    "duration": 6,
    "start_time": "2022-09-11T03:45:10.774Z"
   },
   {
    "duration": 5,
    "start_time": "2022-09-11T03:45:14.413Z"
   },
   {
    "duration": 6,
    "start_time": "2022-09-11T03:45:17.272Z"
   },
   {
    "duration": 9,
    "start_time": "2022-09-11T03:45:20.600Z"
   },
   {
    "duration": 6,
    "start_time": "2022-09-11T03:45:23.838Z"
   },
   {
    "duration": 5,
    "start_time": "2022-09-11T03:45:26.068Z"
   },
   {
    "duration": 5,
    "start_time": "2022-09-11T03:45:28.702Z"
   },
   {
    "duration": 5,
    "start_time": "2022-09-11T03:45:32.748Z"
   },
   {
    "duration": 4,
    "start_time": "2022-09-11T03:45:36.716Z"
   },
   {
    "duration": 5,
    "start_time": "2022-09-11T03:45:40.213Z"
   },
   {
    "duration": 5,
    "start_time": "2022-09-11T03:45:44.358Z"
   },
   {
    "duration": 69,
    "start_time": "2022-09-11T03:51:38.206Z"
   },
   {
    "duration": 10,
    "start_time": "2022-09-11T03:51:53.392Z"
   },
   {
    "duration": 6,
    "start_time": "2022-09-11T03:52:02.848Z"
   },
   {
    "duration": 8,
    "start_time": "2022-09-11T03:53:08.326Z"
   },
   {
    "duration": 18,
    "start_time": "2022-09-11T03:54:28.783Z"
   },
   {
    "duration": 5,
    "start_time": "2022-09-11T03:54:32.982Z"
   },
   {
    "duration": 54,
    "start_time": "2022-09-11T03:55:45.275Z"
   },
   {
    "duration": 14,
    "start_time": "2022-09-11T03:55:48.599Z"
   },
   {
    "duration": 12,
    "start_time": "2022-09-11T03:55:51.635Z"
   },
   {
    "duration": 14,
    "start_time": "2022-09-11T03:55:57.409Z"
   },
   {
    "duration": 20,
    "start_time": "2022-09-11T03:56:01.429Z"
   },
   {
    "duration": 19,
    "start_time": "2022-09-11T03:56:09.488Z"
   },
   {
    "duration": 3,
    "start_time": "2022-09-11T03:56:14.118Z"
   },
   {
    "duration": 19,
    "start_time": "2022-09-11T03:56:17.692Z"
   },
   {
    "duration": 9,
    "start_time": "2022-09-11T03:56:23.151Z"
   },
   {
    "duration": 9,
    "start_time": "2022-09-11T03:56:26.922Z"
   },
   {
    "duration": 7,
    "start_time": "2022-09-11T03:56:30.382Z"
   },
   {
    "duration": 8,
    "start_time": "2022-09-11T03:56:32.975Z"
   },
   {
    "duration": 9,
    "start_time": "2022-09-11T03:56:35.774Z"
   },
   {
    "duration": 6,
    "start_time": "2022-09-11T03:56:39.511Z"
   },
   {
    "duration": 6,
    "start_time": "2022-09-11T03:56:42.545Z"
   },
   {
    "duration": 9,
    "start_time": "2022-09-11T03:56:47.759Z"
   },
   {
    "duration": 8,
    "start_time": "2022-09-11T03:56:50.868Z"
   },
   {
    "duration": 5,
    "start_time": "2022-09-11T03:56:55.444Z"
   },
   {
    "duration": 9,
    "start_time": "2022-09-11T03:56:58.120Z"
   },
   {
    "duration": 5,
    "start_time": "2022-09-11T03:57:02.715Z"
   },
   {
    "duration": 6,
    "start_time": "2022-09-11T03:57:06.192Z"
   },
   {
    "duration": 5,
    "start_time": "2022-09-11T03:57:09.814Z"
   },
   {
    "duration": 6,
    "start_time": "2022-09-11T03:57:13.067Z"
   },
   {
    "duration": 8,
    "start_time": "2022-09-11T03:57:31.387Z"
   },
   {
    "duration": 4,
    "start_time": "2022-09-11T03:57:35.802Z"
   },
   {
    "duration": 5,
    "start_time": "2022-09-11T03:57:38.664Z"
   },
   {
    "duration": 13,
    "start_time": "2022-09-11T03:57:42.689Z"
   },
   {
    "duration": 6,
    "start_time": "2022-09-11T03:57:46.397Z"
   },
   {
    "duration": 5,
    "start_time": "2022-09-11T03:57:50.043Z"
   },
   {
    "duration": 11,
    "start_time": "2022-09-11T03:57:52.828Z"
   },
   {
    "duration": 10,
    "start_time": "2022-09-11T03:57:57.134Z"
   },
   {
    "duration": 9,
    "start_time": "2022-09-11T03:57:59.934Z"
   },
   {
    "duration": 5,
    "start_time": "2022-09-11T03:58:02.719Z"
   },
   {
    "duration": 5,
    "start_time": "2022-09-11T03:58:07.774Z"
   },
   {
    "duration": 5,
    "start_time": "2022-09-11T03:58:12.052Z"
   },
   {
    "duration": 5,
    "start_time": "2022-09-11T03:58:14.943Z"
   },
   {
    "duration": 7,
    "start_time": "2022-09-11T03:58:18.178Z"
   },
   {
    "duration": 5,
    "start_time": "2022-09-11T03:58:23.793Z"
   },
   {
    "duration": 5,
    "start_time": "2022-09-11T03:58:27.379Z"
   },
   {
    "duration": 7,
    "start_time": "2022-09-11T03:58:31.080Z"
   },
   {
    "duration": 3,
    "start_time": "2022-09-11T03:58:34.924Z"
   },
   {
    "duration": 5,
    "start_time": "2022-09-11T03:58:37.947Z"
   },
   {
    "duration": 5,
    "start_time": "2022-09-11T03:58:41.458Z"
   },
   {
    "duration": 19,
    "start_time": "2022-09-11T03:59:01.449Z"
   },
   {
    "duration": 5,
    "start_time": "2022-09-11T03:59:04.919Z"
   },
   {
    "duration": 3,
    "start_time": "2022-09-11T04:33:23.909Z"
   },
   {
    "duration": 4,
    "start_time": "2022-09-11T04:33:27.906Z"
   },
   {
    "duration": 24,
    "start_time": "2022-09-11T04:33:31.172Z"
   },
   {
    "duration": 9,
    "start_time": "2022-09-11T04:33:36.861Z"
   },
   {
    "duration": 4,
    "start_time": "2022-09-11T04:33:41.530Z"
   },
   {
    "duration": 653,
    "start_time": "2022-09-12T01:41:12.211Z"
   },
   {
    "duration": 17,
    "start_time": "2022-09-12T01:41:31.170Z"
   },
   {
    "duration": 25,
    "start_time": "2022-09-12T01:41:40.382Z"
   },
   {
    "duration": 20,
    "start_time": "2022-09-12T01:42:07.328Z"
   },
   {
    "duration": 27,
    "start_time": "2022-09-12T01:42:14.647Z"
   },
   {
    "duration": 19,
    "start_time": "2022-09-12T01:42:31.100Z"
   },
   {
    "duration": 16,
    "start_time": "2022-09-12T01:50:29.346Z"
   },
   {
    "duration": 7,
    "start_time": "2022-09-12T01:50:34.850Z"
   },
   {
    "duration": 7,
    "start_time": "2022-09-12T01:53:40.148Z"
   },
   {
    "duration": 19,
    "start_time": "2022-09-12T01:56:04.873Z"
   },
   {
    "duration": 23,
    "start_time": "2022-09-12T01:56:58.587Z"
   },
   {
    "duration": 12,
    "start_time": "2022-09-12T01:58:14.701Z"
   },
   {
    "duration": 14,
    "start_time": "2022-09-12T01:58:20.602Z"
   },
   {
    "duration": 18,
    "start_time": "2022-09-12T01:58:27.644Z"
   },
   {
    "duration": 21,
    "start_time": "2022-09-12T01:58:33.443Z"
   },
   {
    "duration": 17,
    "start_time": "2022-09-12T02:00:20.050Z"
   },
   {
    "duration": 27,
    "start_time": "2022-09-12T02:06:52.719Z"
   },
   {
    "duration": 9,
    "start_time": "2022-09-12T02:08:05.804Z"
   },
   {
    "duration": 11,
    "start_time": "2022-09-12T02:08:09.825Z"
   },
   {
    "duration": 6,
    "start_time": "2022-09-12T02:08:15.472Z"
   },
   {
    "duration": 7,
    "start_time": "2022-09-12T02:08:18.964Z"
   },
   {
    "duration": 6,
    "start_time": "2022-09-12T02:08:23.414Z"
   },
   {
    "duration": 9,
    "start_time": "2022-09-12T02:08:26.432Z"
   },
   {
    "duration": 7,
    "start_time": "2022-09-12T02:09:53.608Z"
   },
   {
    "duration": 7,
    "start_time": "2022-09-12T02:09:56.878Z"
   },
   {
    "duration": 5,
    "start_time": "2022-09-12T02:10:13.495Z"
   },
   {
    "duration": 12,
    "start_time": "2022-09-12T02:10:16.859Z"
   },
   {
    "duration": 5,
    "start_time": "2022-09-12T02:10:20.417Z"
   },
   {
    "duration": 6,
    "start_time": "2022-09-12T02:10:23.978Z"
   },
   {
    "duration": 7,
    "start_time": "2022-09-12T02:10:35.566Z"
   },
   {
    "duration": 5,
    "start_time": "2022-09-12T02:10:38.356Z"
   },
   {
    "duration": 5,
    "start_time": "2022-09-12T02:10:41.881Z"
   },
   {
    "duration": 7,
    "start_time": "2022-09-12T02:10:51.487Z"
   },
   {
    "duration": 4,
    "start_time": "2022-09-12T02:12:57.893Z"
   },
   {
    "duration": 5,
    "start_time": "2022-09-12T02:13:03.371Z"
   },
   {
    "duration": 13,
    "start_time": "2022-09-12T02:13:08.533Z"
   },
   {
    "duration": 5,
    "start_time": "2022-09-12T02:13:33.139Z"
   },
   {
    "duration": 6,
    "start_time": "2022-09-12T02:13:41.146Z"
   },
   {
    "duration": 3,
    "start_time": "2022-09-12T02:13:51.223Z"
   },
   {
    "duration": 8,
    "start_time": "2022-09-12T02:13:53.769Z"
   },
   {
    "duration": 5,
    "start_time": "2022-09-12T02:13:57.883Z"
   },
   {
    "duration": 5,
    "start_time": "2022-09-12T02:14:04.569Z"
   },
   {
    "duration": 4,
    "start_time": "2022-09-12T02:14:08.756Z"
   },
   {
    "duration": 6,
    "start_time": "2022-09-12T02:14:12.503Z"
   },
   {
    "duration": 7,
    "start_time": "2022-09-12T02:14:16.219Z"
   },
   {
    "duration": 4,
    "start_time": "2022-09-12T02:14:20.096Z"
   },
   {
    "duration": 6,
    "start_time": "2022-09-12T02:14:23.643Z"
   },
   {
    "duration": 7,
    "start_time": "2022-09-12T02:14:31.746Z"
   },
   {
    "duration": 4,
    "start_time": "2022-09-12T02:14:37.876Z"
   },
   {
    "duration": 5,
    "start_time": "2022-09-12T02:14:42.814Z"
   },
   {
    "duration": 5,
    "start_time": "2022-09-12T02:15:15.689Z"
   },
   {
    "duration": 18,
    "start_time": "2022-09-12T02:15:22.093Z"
   },
   {
    "duration": 6,
    "start_time": "2022-09-12T02:15:26.562Z"
   },
   {
    "duration": 16,
    "start_time": "2022-09-12T02:18:31.249Z"
   },
   {
    "duration": 9,
    "start_time": "2022-09-12T02:20:08.729Z"
   },
   {
    "duration": 50,
    "start_time": "2022-09-12T02:20:18.970Z"
   },
   {
    "duration": 18,
    "start_time": "2022-09-12T02:20:29.888Z"
   },
   {
    "duration": 60,
    "start_time": "2022-09-12T02:20:37.867Z"
   },
   {
    "duration": 6,
    "start_time": "2022-09-12T02:20:51.883Z"
   },
   {
    "duration": 59,
    "start_time": "2022-09-12T02:21:03.293Z"
   },
   {
    "duration": 14,
    "start_time": "2022-09-12T02:21:06.692Z"
   },
   {
    "duration": 11,
    "start_time": "2022-09-12T02:21:09.188Z"
   },
   {
    "duration": 23,
    "start_time": "2022-09-12T02:21:18.837Z"
   },
   {
    "duration": 22,
    "start_time": "2022-09-12T02:21:23.005Z"
   },
   {
    "duration": 18,
    "start_time": "2022-09-12T02:21:27.408Z"
   },
   {
    "duration": 3,
    "start_time": "2022-09-12T02:21:31.485Z"
   },
   {
    "duration": 16,
    "start_time": "2022-09-12T02:21:35.249Z"
   },
   {
    "duration": 7,
    "start_time": "2022-09-12T02:21:39.271Z"
   },
   {
    "duration": 8,
    "start_time": "2022-09-12T02:21:43.242Z"
   },
   {
    "duration": 7,
    "start_time": "2022-09-12T02:21:46.761Z"
   },
   {
    "duration": 6,
    "start_time": "2022-09-12T02:21:49.597Z"
   },
   {
    "duration": 6,
    "start_time": "2022-09-12T02:21:55.267Z"
   },
   {
    "duration": 5,
    "start_time": "2022-09-12T02:21:58.009Z"
   },
   {
    "duration": 6,
    "start_time": "2022-09-12T02:22:02.629Z"
   },
   {
    "duration": 7,
    "start_time": "2022-09-12T02:22:07.668Z"
   },
   {
    "duration": 8,
    "start_time": "2022-09-12T02:22:10.747Z"
   },
   {
    "duration": 4,
    "start_time": "2022-09-12T02:22:16.802Z"
   },
   {
    "duration": 10,
    "start_time": "2022-09-12T02:22:21.669Z"
   },
   {
    "duration": 6,
    "start_time": "2022-09-12T02:22:25.263Z"
   },
   {
    "duration": 5,
    "start_time": "2022-09-12T02:22:28.800Z"
   },
   {
    "duration": 6,
    "start_time": "2022-09-12T02:22:31.905Z"
   },
   {
    "duration": 4,
    "start_time": "2022-09-12T02:22:35.126Z"
   },
   {
    "duration": 5,
    "start_time": "2022-09-12T02:22:37.604Z"
   },
   {
    "duration": 6,
    "start_time": "2022-09-12T02:22:41.248Z"
   },
   {
    "duration": 3,
    "start_time": "2022-09-12T02:22:45.248Z"
   },
   {
    "duration": 5,
    "start_time": "2022-09-12T02:22:54.971Z"
   },
   {
    "duration": 12,
    "start_time": "2022-09-12T02:22:58.750Z"
   },
   {
    "duration": 6,
    "start_time": "2022-09-12T02:23:02.130Z"
   },
   {
    "duration": 6,
    "start_time": "2022-09-12T02:23:16.148Z"
   },
   {
    "duration": 8,
    "start_time": "2022-09-12T02:23:19.051Z"
   },
   {
    "duration": 4,
    "start_time": "2022-09-12T02:23:22.477Z"
   },
   {
    "duration": 7,
    "start_time": "2022-09-12T02:23:24.786Z"
   },
   {
    "duration": 5,
    "start_time": "2022-09-12T02:23:28.568Z"
   },
   {
    "duration": 5,
    "start_time": "2022-09-12T02:23:31.892Z"
   },
   {
    "duration": 4,
    "start_time": "2022-09-12T02:23:35.773Z"
   },
   {
    "duration": 5,
    "start_time": "2022-09-12T02:23:38.515Z"
   },
   {
    "duration": 6,
    "start_time": "2022-09-12T02:23:42.162Z"
   },
   {
    "duration": 5,
    "start_time": "2022-09-12T02:23:45.662Z"
   },
   {
    "duration": 4,
    "start_time": "2022-09-12T02:23:48.806Z"
   },
   {
    "duration": 5,
    "start_time": "2022-09-12T02:23:51.988Z"
   },
   {
    "duration": 5,
    "start_time": "2022-09-12T02:23:55.637Z"
   },
   {
    "duration": 5,
    "start_time": "2022-09-12T02:23:58.654Z"
   },
   {
    "duration": 17,
    "start_time": "2022-09-12T02:24:03.326Z"
   },
   {
    "duration": 10,
    "start_time": "2022-09-12T02:24:21.761Z"
   },
   {
    "duration": 14,
    "start_time": "2022-09-12T02:24:25.174Z"
   },
   {
    "duration": 9,
    "start_time": "2022-09-12T02:24:38.936Z"
   },
   {
    "duration": 8,
    "start_time": "2022-09-12T02:24:57.541Z"
   },
   {
    "duration": 54,
    "start_time": "2022-09-12T02:25:14.989Z"
   },
   {
    "duration": 14,
    "start_time": "2022-09-12T02:25:27.122Z"
   },
   {
    "duration": 15,
    "start_time": "2022-09-12T02:25:31.828Z"
   },
   {
    "duration": 13,
    "start_time": "2022-09-12T02:25:36.274Z"
   },
   {
    "duration": 18,
    "start_time": "2022-09-12T02:25:41.204Z"
   },
   {
    "duration": 21,
    "start_time": "2022-09-12T02:25:45.848Z"
   },
   {
    "duration": 4,
    "start_time": "2022-09-12T02:25:49.630Z"
   },
   {
    "duration": 18,
    "start_time": "2022-09-12T02:25:53.664Z"
   },
   {
    "duration": 10,
    "start_time": "2022-09-12T02:25:57.388Z"
   },
   {
    "duration": 10,
    "start_time": "2022-09-12T02:26:00.839Z"
   },
   {
    "duration": 9,
    "start_time": "2022-09-12T02:26:04.448Z"
   },
   {
    "duration": 6,
    "start_time": "2022-09-12T02:26:07.524Z"
   },
   {
    "duration": 6,
    "start_time": "2022-09-12T02:26:10.123Z"
   },
   {
    "duration": 6,
    "start_time": "2022-09-12T02:26:12.679Z"
   },
   {
    "duration": 7,
    "start_time": "2022-09-12T02:26:15.458Z"
   },
   {
    "duration": 7,
    "start_time": "2022-09-12T02:26:19.789Z"
   },
   {
    "duration": 8,
    "start_time": "2022-09-12T02:26:22.534Z"
   },
   {
    "duration": 5,
    "start_time": "2022-09-12T02:26:26.073Z"
   },
   {
    "duration": 13,
    "start_time": "2022-09-12T02:26:28.741Z"
   },
   {
    "duration": 5,
    "start_time": "2022-09-12T02:26:32.054Z"
   },
   {
    "duration": 6,
    "start_time": "2022-09-12T02:26:35.919Z"
   },
   {
    "duration": 6,
    "start_time": "2022-09-12T02:26:39.143Z"
   },
   {
    "duration": 4,
    "start_time": "2022-09-12T02:26:42.072Z"
   },
   {
    "duration": 6,
    "start_time": "2022-09-12T02:26:46.634Z"
   },
   {
    "duration": 7,
    "start_time": "2022-09-12T02:26:49.892Z"
   },
   {
    "duration": 4,
    "start_time": "2022-09-12T02:26:54.093Z"
   },
   {
    "duration": 5,
    "start_time": "2022-09-12T02:26:59.660Z"
   },
   {
    "duration": 13,
    "start_time": "2022-09-12T02:27:02.802Z"
   },
   {
    "duration": 8,
    "start_time": "2022-09-12T02:27:05.062Z"
   },
   {
    "duration": 7,
    "start_time": "2022-09-12T02:27:08.855Z"
   },
   {
    "duration": 6,
    "start_time": "2022-09-12T02:27:11.389Z"
   },
   {
    "duration": 3,
    "start_time": "2022-09-12T02:27:15.178Z"
   },
   {
    "duration": 7,
    "start_time": "2022-09-12T02:27:17.653Z"
   },
   {
    "duration": 5,
    "start_time": "2022-09-12T02:27:20.600Z"
   },
   {
    "duration": 5,
    "start_time": "2022-09-12T02:27:26.090Z"
   },
   {
    "duration": 4,
    "start_time": "2022-09-12T02:27:31.687Z"
   },
   {
    "duration": 6,
    "start_time": "2022-09-12T02:27:35.235Z"
   },
   {
    "duration": 9,
    "start_time": "2022-09-12T02:27:38.372Z"
   },
   {
    "duration": 5,
    "start_time": "2022-09-12T02:27:42.498Z"
   },
   {
    "duration": 7,
    "start_time": "2022-09-12T02:27:46.664Z"
   },
   {
    "duration": 6,
    "start_time": "2022-09-12T02:27:50.460Z"
   },
   {
    "duration": 5,
    "start_time": "2022-09-12T02:27:54.252Z"
   },
   {
    "duration": 7,
    "start_time": "2022-09-12T02:27:57.690Z"
   },
   {
    "duration": 17,
    "start_time": "2022-09-12T02:28:04.033Z"
   },
   {
    "duration": 12,
    "start_time": "2022-09-12T02:28:07.101Z"
   },
   {
    "duration": 14,
    "start_time": "2022-09-12T02:28:09.899Z"
   },
   {
    "duration": 7,
    "start_time": "2022-09-12T02:28:20.914Z"
   },
   {
    "duration": 6,
    "start_time": "2022-09-12T02:28:25.772Z"
   },
   {
    "duration": 7,
    "start_time": "2022-09-12T02:29:00.009Z"
   },
   {
    "duration": 6,
    "start_time": "2022-09-12T02:29:25.255Z"
   },
   {
    "duration": 7,
    "start_time": "2022-09-12T02:29:37.303Z"
   },
   {
    "duration": 6,
    "start_time": "2022-09-12T02:30:33.447Z"
   },
   {
    "duration": 7,
    "start_time": "2022-09-12T02:32:06.285Z"
   },
   {
    "duration": 7,
    "start_time": "2022-09-12T02:34:30.772Z"
   },
   {
    "duration": 7,
    "start_time": "2022-09-12T02:35:58.193Z"
   },
   {
    "duration": 552,
    "start_time": "2022-09-12T14:37:39.702Z"
   },
   {
    "duration": 14,
    "start_time": "2022-09-12T14:37:45.087Z"
   },
   {
    "duration": 23,
    "start_time": "2022-09-12T14:37:49.747Z"
   },
   {
    "duration": 13,
    "start_time": "2022-09-12T14:37:54.594Z"
   },
   {
    "duration": 19,
    "start_time": "2022-09-12T14:38:15.818Z"
   },
   {
    "duration": 20,
    "start_time": "2022-09-12T14:38:21.387Z"
   },
   {
    "duration": 2,
    "start_time": "2022-09-12T14:38:28.262Z"
   },
   {
    "duration": 21,
    "start_time": "2022-09-12T14:38:39.090Z"
   },
   {
    "duration": 8,
    "start_time": "2022-09-12T14:38:43.184Z"
   },
   {
    "duration": 6,
    "start_time": "2022-09-12T14:38:48.247Z"
   },
   {
    "duration": 7,
    "start_time": "2022-09-12T14:38:51.056Z"
   },
   {
    "duration": 7,
    "start_time": "2022-09-12T14:38:54.411Z"
   },
   {
    "duration": 5,
    "start_time": "2022-09-12T14:38:56.920Z"
   },
   {
    "duration": 5,
    "start_time": "2022-09-12T14:38:59.823Z"
   },
   {
    "duration": 5,
    "start_time": "2022-09-12T14:39:03.666Z"
   },
   {
    "duration": 6,
    "start_time": "2022-09-12T14:39:08.599Z"
   },
   {
    "duration": 7,
    "start_time": "2022-09-12T14:39:11.498Z"
   },
   {
    "duration": 4,
    "start_time": "2022-09-12T14:39:16.035Z"
   },
   {
    "duration": 8,
    "start_time": "2022-09-12T14:39:18.800Z"
   },
   {
    "duration": 5,
    "start_time": "2022-09-12T14:39:21.480Z"
   },
   {
    "duration": 7,
    "start_time": "2022-09-12T14:39:24.535Z"
   },
   {
    "duration": 6,
    "start_time": "2022-09-12T14:39:28.076Z"
   },
   {
    "duration": 3,
    "start_time": "2022-09-12T14:39:31.118Z"
   },
   {
    "duration": 5,
    "start_time": "2022-09-12T14:39:34.908Z"
   },
   {
    "duration": 7,
    "start_time": "2022-09-12T14:39:38.470Z"
   },
   {
    "duration": 3,
    "start_time": "2022-09-12T14:39:42.750Z"
   },
   {
    "duration": 4,
    "start_time": "2022-09-12T14:39:47.542Z"
   },
   {
    "duration": 14,
    "start_time": "2022-09-12T14:39:52.933Z"
   },
   {
    "duration": 6,
    "start_time": "2022-09-12T14:39:56.014Z"
   },
   {
    "duration": 5,
    "start_time": "2022-09-12T14:39:59.640Z"
   },
   {
    "duration": 6,
    "start_time": "2022-09-12T14:40:02.965Z"
   },
   {
    "duration": 3,
    "start_time": "2022-09-12T14:40:07.102Z"
   },
   {
    "duration": 7,
    "start_time": "2022-09-12T14:40:09.299Z"
   },
   {
    "duration": 5,
    "start_time": "2022-09-12T14:40:12.207Z"
   },
   {
    "duration": 4,
    "start_time": "2022-09-12T14:40:16.192Z"
   },
   {
    "duration": 5,
    "start_time": "2022-09-12T14:40:21.085Z"
   },
   {
    "duration": 4,
    "start_time": "2022-09-12T14:40:25.022Z"
   },
   {
    "duration": 6,
    "start_time": "2022-09-12T14:40:29.190Z"
   },
   {
    "duration": 3,
    "start_time": "2022-09-12T14:40:32.791Z"
   },
   {
    "duration": 5,
    "start_time": "2022-09-12T14:40:35.521Z"
   },
   {
    "duration": 5,
    "start_time": "2022-09-12T14:40:42.071Z"
   },
   {
    "duration": 5,
    "start_time": "2022-09-12T14:40:47.871Z"
   },
   {
    "duration": 6,
    "start_time": "2022-09-12T14:40:50.478Z"
   },
   {
    "duration": 17,
    "start_time": "2022-09-12T14:41:02.416Z"
   },
   {
    "duration": 10,
    "start_time": "2022-09-12T14:41:05.585Z"
   },
   {
    "duration": 15,
    "start_time": "2022-09-12T14:41:16.478Z"
   },
   {
    "duration": 3,
    "start_time": "2022-09-12T14:41:33.118Z"
   },
   {
    "duration": 2,
    "start_time": "2022-09-12T14:41:39.273Z"
   },
   {
    "duration": 3,
    "start_time": "2022-09-12T14:42:23.843Z"
   },
   {
    "duration": 3,
    "start_time": "2022-09-12T14:42:27.469Z"
   },
   {
    "duration": 60,
    "start_time": "2022-09-12T14:43:34.961Z"
   },
   {
    "duration": 3,
    "start_time": "2022-09-12T14:43:41.391Z"
   },
   {
    "duration": 4,
    "start_time": "2022-09-12T14:43:44.149Z"
   },
   {
    "duration": 7,
    "start_time": "2022-09-12T14:43:47.565Z"
   },
   {
    "duration": 7,
    "start_time": "2022-09-12T14:44:06.600Z"
   },
   {
    "duration": 7,
    "start_time": "2022-09-12T14:44:21.055Z"
   },
   {
    "duration": 7,
    "start_time": "2022-09-12T14:44:48.966Z"
   },
   {
    "duration": 56,
    "start_time": "2022-09-12T14:44:57.143Z"
   },
   {
    "duration": 14,
    "start_time": "2022-09-12T14:45:00.223Z"
   },
   {
    "duration": 14,
    "start_time": "2022-09-12T14:45:03.354Z"
   },
   {
    "duration": 13,
    "start_time": "2022-09-12T14:45:07.511Z"
   },
   {
    "duration": 20,
    "start_time": "2022-09-12T14:45:11.399Z"
   },
   {
    "duration": 21,
    "start_time": "2022-09-12T14:45:16.409Z"
   },
   {
    "duration": 3,
    "start_time": "2022-09-12T14:45:36.200Z"
   },
   {
    "duration": 15,
    "start_time": "2022-09-12T14:45:40.105Z"
   },
   {
    "duration": 7,
    "start_time": "2022-09-12T14:45:44.421Z"
   },
   {
    "duration": 7,
    "start_time": "2022-09-12T14:45:49.673Z"
   },
   {
    "duration": 7,
    "start_time": "2022-09-12T14:45:52.592Z"
   },
   {
    "duration": 5,
    "start_time": "2022-09-12T14:45:56.063Z"
   },
   {
    "duration": 6,
    "start_time": "2022-09-12T14:46:00.172Z"
   },
   {
    "duration": 6,
    "start_time": "2022-09-12T14:46:03.007Z"
   },
   {
    "duration": 7,
    "start_time": "2022-09-12T14:46:05.895Z"
   },
   {
    "duration": 7,
    "start_time": "2022-09-12T14:46:13.204Z"
   },
   {
    "duration": 7,
    "start_time": "2022-09-12T14:46:16.085Z"
   },
   {
    "duration": 5,
    "start_time": "2022-09-12T14:46:20.343Z"
   },
   {
    "duration": 9,
    "start_time": "2022-09-12T14:46:22.774Z"
   },
   {
    "duration": 5,
    "start_time": "2022-09-12T14:46:26.614Z"
   },
   {
    "duration": 6,
    "start_time": "2022-09-12T14:46:29.791Z"
   },
   {
    "duration": 6,
    "start_time": "2022-09-12T14:46:33.625Z"
   },
   {
    "duration": 5,
    "start_time": "2022-09-12T14:46:36.586Z"
   },
   {
    "duration": 6,
    "start_time": "2022-09-12T14:46:39.143Z"
   },
   {
    "duration": 7,
    "start_time": "2022-09-12T14:46:43.176Z"
   },
   {
    "duration": 4,
    "start_time": "2022-09-12T14:46:47.656Z"
   },
   {
    "duration": 6,
    "start_time": "2022-09-12T14:46:50.672Z"
   },
   {
    "duration": 14,
    "start_time": "2022-09-12T14:46:53.676Z"
   },
   {
    "duration": 5,
    "start_time": "2022-09-12T14:46:56.816Z"
   },
   {
    "duration": 6,
    "start_time": "2022-09-12T14:47:01.289Z"
   },
   {
    "duration": 3,
    "start_time": "2022-09-12T14:47:06.904Z"
   },
   {
    "duration": 9,
    "start_time": "2022-09-12T14:47:08.902Z"
   },
   {
    "duration": 5,
    "start_time": "2022-09-12T14:47:11.931Z"
   },
   {
    "duration": 6,
    "start_time": "2022-09-12T14:47:15.320Z"
   },
   {
    "duration": 4,
    "start_time": "2022-09-12T14:47:20.125Z"
   },
   {
    "duration": 5,
    "start_time": "2022-09-12T14:47:22.736Z"
   },
   {
    "duration": 6,
    "start_time": "2022-09-12T14:47:26.046Z"
   },
   {
    "duration": 4,
    "start_time": "2022-09-12T14:47:29.141Z"
   },
   {
    "duration": 5,
    "start_time": "2022-09-12T14:47:31.846Z"
   },
   {
    "duration": 5,
    "start_time": "2022-09-12T14:47:35.892Z"
   },
   {
    "duration": 4,
    "start_time": "2022-09-12T14:47:40.493Z"
   },
   {
    "duration": 5,
    "start_time": "2022-09-12T14:47:43.401Z"
   },
   {
    "duration": 5,
    "start_time": "2022-09-12T14:47:45.720Z"
   },
   {
    "duration": 3,
    "start_time": "2022-09-12T14:48:02.685Z"
   },
   {
    "duration": 3,
    "start_time": "2022-09-12T14:48:06.143Z"
   },
   {
    "duration": 4,
    "start_time": "2022-09-12T14:48:10.886Z"
   },
   {
    "duration": 3,
    "start_time": "2022-09-12T14:48:13.359Z"
   },
   {
    "duration": 19,
    "start_time": "2022-09-12T14:48:17.862Z"
   },
   {
    "duration": 7,
    "start_time": "2022-09-12T14:48:36.092Z"
   },
   {
    "duration": 4,
    "start_time": "2022-09-12T14:48:44.242Z"
   },
   {
    "duration": 21,
    "start_time": "2022-09-12T14:52:19.249Z"
   },
   {
    "duration": 15,
    "start_time": "2022-09-12T14:55:07.590Z"
   },
   {
    "duration": 12,
    "start_time": "2022-09-12T15:04:37.541Z"
   },
   {
    "duration": 874,
    "start_time": "2022-09-13T00:59:01.103Z"
   },
   {
    "duration": 15,
    "start_time": "2022-09-13T00:59:04.250Z"
   },
   {
    "duration": 25,
    "start_time": "2022-09-13T00:59:07.157Z"
   },
   {
    "duration": 21,
    "start_time": "2022-09-13T00:59:12.334Z"
   },
   {
    "duration": 30,
    "start_time": "2022-09-13T00:59:16.934Z"
   },
   {
    "duration": 19,
    "start_time": "2022-09-13T00:59:22.317Z"
   },
   {
    "duration": 4,
    "start_time": "2022-09-13T00:59:28.046Z"
   },
   {
    "duration": 14,
    "start_time": "2022-09-13T00:59:31.426Z"
   },
   {
    "duration": 7,
    "start_time": "2022-09-13T00:59:34.947Z"
   },
   {
    "duration": 7,
    "start_time": "2022-09-13T00:59:39.762Z"
   },
   {
    "duration": 7,
    "start_time": "2022-09-13T00:59:43.371Z"
   },
   {
    "duration": 6,
    "start_time": "2022-09-13T00:59:46.949Z"
   },
   {
    "duration": 7,
    "start_time": "2022-09-13T00:59:50.390Z"
   },
   {
    "duration": 7,
    "start_time": "2022-09-13T00:59:53.512Z"
   },
   {
    "duration": 6,
    "start_time": "2022-09-13T00:59:56.650Z"
   },
   {
    "duration": 11,
    "start_time": "2022-09-13T01:00:02.985Z"
   },
   {
    "duration": 10,
    "start_time": "2022-09-13T01:00:07.497Z"
   },
   {
    "duration": 5,
    "start_time": "2022-09-13T01:00:12.492Z"
   },
   {
    "duration": 13,
    "start_time": "2022-09-13T01:00:15.888Z"
   },
   {
    "duration": 6,
    "start_time": "2022-09-13T01:00:18.099Z"
   },
   {
    "duration": 6,
    "start_time": "2022-09-13T01:00:22.800Z"
   },
   {
    "duration": 7,
    "start_time": "2022-09-13T01:00:26.559Z"
   },
   {
    "duration": 4,
    "start_time": "2022-09-13T01:00:29.856Z"
   },
   {
    "duration": 5,
    "start_time": "2022-09-13T01:00:33.294Z"
   },
   {
    "duration": 7,
    "start_time": "2022-09-13T01:00:36.819Z"
   },
   {
    "duration": 4,
    "start_time": "2022-09-13T01:00:41.965Z"
   },
   {
    "duration": 5,
    "start_time": "2022-09-13T01:00:45.333Z"
   },
   {
    "duration": 16,
    "start_time": "2022-09-13T01:00:49.645Z"
   },
   {
    "duration": 6,
    "start_time": "2022-09-13T01:00:52.807Z"
   },
   {
    "duration": 7,
    "start_time": "2022-09-13T01:00:57.369Z"
   },
   {
    "duration": 3,
    "start_time": "2022-09-13T01:01:04.602Z"
   },
   {
    "duration": 9,
    "start_time": "2022-09-13T01:01:07.209Z"
   },
   {
    "duration": 6,
    "start_time": "2022-09-13T01:01:11.696Z"
   },
   {
    "duration": 5,
    "start_time": "2022-09-13T01:01:15.182Z"
   },
   {
    "duration": 5,
    "start_time": "2022-09-13T01:01:19.609Z"
   },
   {
    "duration": 6,
    "start_time": "2022-09-13T01:01:22.671Z"
   },
   {
    "duration": 6,
    "start_time": "2022-09-13T01:01:27.224Z"
   },
   {
    "duration": 4,
    "start_time": "2022-09-13T01:01:32.453Z"
   },
   {
    "duration": 4,
    "start_time": "2022-09-13T01:01:35.296Z"
   },
   {
    "duration": 6,
    "start_time": "2022-09-13T01:01:39.252Z"
   },
   {
    "duration": 4,
    "start_time": "2022-09-13T01:01:45.995Z"
   },
   {
    "duration": 5,
    "start_time": "2022-09-13T01:01:50.045Z"
   },
   {
    "duration": 5,
    "start_time": "2022-09-13T01:01:52.340Z"
   },
   {
    "duration": 13,
    "start_time": "2022-09-13T01:08:48.201Z"
   },
   {
    "duration": 15,
    "start_time": "2022-09-13T01:09:05.160Z"
   },
   {
    "duration": 19,
    "start_time": "2022-09-13T01:17:30.344Z"
   },
   {
    "duration": 20,
    "start_time": "2022-09-13T01:18:00.475Z"
   },
   {
    "duration": 66,
    "start_time": "2022-09-13T01:19:14.622Z"
   },
   {
    "duration": 9,
    "start_time": "2022-09-13T01:21:38.370Z"
   },
   {
    "duration": 53,
    "start_time": "2022-09-13T01:21:58.639Z"
   },
   {
    "duration": 21,
    "start_time": "2022-09-13T01:21:58.693Z"
   },
   {
    "duration": 15,
    "start_time": "2022-09-13T01:21:58.716Z"
   },
   {
    "duration": 17,
    "start_time": "2022-09-13T01:21:58.733Z"
   },
   {
    "duration": 22,
    "start_time": "2022-09-13T01:21:58.752Z"
   },
   {
    "duration": 18,
    "start_time": "2022-09-13T01:21:58.779Z"
   },
   {
    "duration": 8,
    "start_time": "2022-09-13T01:21:58.799Z"
   },
   {
    "duration": 24,
    "start_time": "2022-09-13T01:21:58.812Z"
   },
   {
    "duration": 10,
    "start_time": "2022-09-13T01:21:58.838Z"
   },
   {
    "duration": 14,
    "start_time": "2022-09-13T01:21:58.850Z"
   },
   {
    "duration": 15,
    "start_time": "2022-09-13T01:21:58.865Z"
   },
   {
    "duration": 6,
    "start_time": "2022-09-13T01:21:58.882Z"
   },
   {
    "duration": 5,
    "start_time": "2022-09-13T01:21:58.890Z"
   },
   {
    "duration": 8,
    "start_time": "2022-09-13T01:21:58.897Z"
   },
   {
    "duration": 4,
    "start_time": "2022-09-13T01:21:58.907Z"
   },
   {
    "duration": 11,
    "start_time": "2022-09-13T01:21:58.913Z"
   },
   {
    "duration": 8,
    "start_time": "2022-09-13T01:21:58.929Z"
   },
   {
    "duration": 8,
    "start_time": "2022-09-13T01:21:58.939Z"
   },
   {
    "duration": 10,
    "start_time": "2022-09-13T01:21:58.948Z"
   },
   {
    "duration": 10,
    "start_time": "2022-09-13T01:21:58.960Z"
   },
   {
    "duration": 10,
    "start_time": "2022-09-13T01:21:58.972Z"
   },
   {
    "duration": 29,
    "start_time": "2022-09-13T01:21:58.983Z"
   },
   {
    "duration": 9,
    "start_time": "2022-09-13T01:21:59.014Z"
   },
   {
    "duration": 7,
    "start_time": "2022-09-13T01:21:59.025Z"
   },
   {
    "duration": 12,
    "start_time": "2022-09-13T01:21:59.033Z"
   },
   {
    "duration": 6,
    "start_time": "2022-09-13T01:21:59.047Z"
   },
   {
    "duration": 5,
    "start_time": "2022-09-13T01:21:59.055Z"
   },
   {
    "duration": 12,
    "start_time": "2022-09-13T01:21:59.062Z"
   },
   {
    "duration": 20,
    "start_time": "2022-09-13T01:21:59.075Z"
   },
   {
    "duration": 19,
    "start_time": "2022-09-13T01:21:59.097Z"
   },
   {
    "duration": 6,
    "start_time": "2022-09-13T01:21:59.117Z"
   },
   {
    "duration": 11,
    "start_time": "2022-09-13T01:21:59.124Z"
   },
   {
    "duration": 7,
    "start_time": "2022-09-13T01:21:59.136Z"
   },
   {
    "duration": 9,
    "start_time": "2022-09-13T01:21:59.144Z"
   },
   {
    "duration": 4,
    "start_time": "2022-09-13T01:21:59.155Z"
   },
   {
    "duration": 8,
    "start_time": "2022-09-13T01:21:59.160Z"
   },
   {
    "duration": 5,
    "start_time": "2022-09-13T01:21:59.169Z"
   },
   {
    "duration": 77,
    "start_time": "2022-09-13T01:21:59.175Z"
   },
   {
    "duration": 0,
    "start_time": "2022-09-13T01:21:59.254Z"
   },
   {
    "duration": 0,
    "start_time": "2022-09-13T01:21:59.255Z"
   },
   {
    "duration": 0,
    "start_time": "2022-09-13T01:21:59.256Z"
   },
   {
    "duration": 0,
    "start_time": "2022-09-13T01:21:59.257Z"
   },
   {
    "duration": 0,
    "start_time": "2022-09-13T01:21:59.258Z"
   },
   {
    "duration": 0,
    "start_time": "2022-09-13T01:21:59.259Z"
   },
   {
    "duration": 0,
    "start_time": "2022-09-13T01:21:59.260Z"
   },
   {
    "duration": 0,
    "start_time": "2022-09-13T01:21:59.261Z"
   },
   {
    "duration": 0,
    "start_time": "2022-09-13T01:21:59.262Z"
   },
   {
    "duration": 0,
    "start_time": "2022-09-13T01:21:59.263Z"
   },
   {
    "duration": 0,
    "start_time": "2022-09-13T01:21:59.264Z"
   },
   {
    "duration": 0,
    "start_time": "2022-09-13T01:21:59.265Z"
   },
   {
    "duration": 0,
    "start_time": "2022-09-13T01:21:59.266Z"
   },
   {
    "duration": 0,
    "start_time": "2022-09-13T01:21:59.267Z"
   },
   {
    "duration": 0,
    "start_time": "2022-09-13T01:21:59.268Z"
   },
   {
    "duration": 0,
    "start_time": "2022-09-13T01:21:59.269Z"
   },
   {
    "duration": 0,
    "start_time": "2022-09-13T01:21:59.270Z"
   },
   {
    "duration": 0,
    "start_time": "2022-09-13T01:21:59.270Z"
   },
   {
    "duration": 0,
    "start_time": "2022-09-13T01:21:59.271Z"
   },
   {
    "duration": 13,
    "start_time": "2022-09-13T01:22:16.156Z"
   },
   {
    "duration": 11,
    "start_time": "2022-09-13T01:24:04.555Z"
   },
   {
    "duration": 61,
    "start_time": "2022-09-13T01:24:12.993Z"
   },
   {
    "duration": 11,
    "start_time": "2022-09-13T01:24:13.056Z"
   },
   {
    "duration": 10,
    "start_time": "2022-09-13T01:24:13.069Z"
   },
   {
    "duration": 15,
    "start_time": "2022-09-13T01:24:13.081Z"
   },
   {
    "duration": 21,
    "start_time": "2022-09-13T01:24:13.099Z"
   },
   {
    "duration": 17,
    "start_time": "2022-09-13T01:24:13.121Z"
   },
   {
    "duration": 2,
    "start_time": "2022-09-13T01:24:13.140Z"
   },
   {
    "duration": 15,
    "start_time": "2022-09-13T01:24:13.143Z"
   },
   {
    "duration": 6,
    "start_time": "2022-09-13T01:24:13.160Z"
   },
   {
    "duration": 8,
    "start_time": "2022-09-13T01:24:13.168Z"
   },
   {
    "duration": 44,
    "start_time": "2022-09-13T01:24:13.177Z"
   },
   {
    "duration": 12,
    "start_time": "2022-09-13T01:24:13.223Z"
   },
   {
    "duration": 11,
    "start_time": "2022-09-13T01:24:13.236Z"
   },
   {
    "duration": 9,
    "start_time": "2022-09-13T01:24:13.248Z"
   },
   {
    "duration": 11,
    "start_time": "2022-09-13T01:24:13.258Z"
   },
   {
    "duration": 4,
    "start_time": "2022-09-13T01:24:13.271Z"
   },
   {
    "duration": 10,
    "start_time": "2022-09-13T01:24:13.277Z"
   },
   {
    "duration": 9,
    "start_time": "2022-09-13T01:24:13.288Z"
   },
   {
    "duration": 9,
    "start_time": "2022-09-13T01:24:13.310Z"
   },
   {
    "duration": 8,
    "start_time": "2022-09-13T01:24:13.321Z"
   },
   {
    "duration": 7,
    "start_time": "2022-09-13T01:24:13.331Z"
   },
   {
    "duration": 7,
    "start_time": "2022-09-13T01:24:13.339Z"
   },
   {
    "duration": 6,
    "start_time": "2022-09-13T01:24:13.347Z"
   },
   {
    "duration": 5,
    "start_time": "2022-09-13T01:24:13.355Z"
   },
   {
    "duration": 5,
    "start_time": "2022-09-13T01:24:13.361Z"
   },
   {
    "duration": 7,
    "start_time": "2022-09-13T01:24:13.367Z"
   },
   {
    "duration": 2,
    "start_time": "2022-09-13T01:24:13.376Z"
   },
   {
    "duration": 39,
    "start_time": "2022-09-13T01:24:13.379Z"
   },
   {
    "duration": 12,
    "start_time": "2022-09-13T01:24:13.420Z"
   },
   {
    "duration": 5,
    "start_time": "2022-09-13T01:24:13.434Z"
   },
   {
    "duration": 5,
    "start_time": "2022-09-13T01:24:13.440Z"
   },
   {
    "duration": 8,
    "start_time": "2022-09-13T01:24:13.446Z"
   },
   {
    "duration": 4,
    "start_time": "2022-09-13T01:24:13.455Z"
   },
   {
    "duration": 11,
    "start_time": "2022-09-13T01:24:13.460Z"
   },
   {
    "duration": 5,
    "start_time": "2022-09-13T01:24:13.472Z"
   },
   {
    "duration": 28,
    "start_time": "2022-09-13T01:24:13.478Z"
   },
   {
    "duration": 6,
    "start_time": "2022-09-13T01:24:13.509Z"
   },
   {
    "duration": 16,
    "start_time": "2022-09-13T01:24:13.518Z"
   },
   {
    "duration": 7,
    "start_time": "2022-09-13T01:24:13.536Z"
   },
   {
    "duration": 8,
    "start_time": "2022-09-13T01:24:13.545Z"
   },
   {
    "duration": 9,
    "start_time": "2022-09-13T01:24:13.554Z"
   },
   {
    "duration": 6,
    "start_time": "2022-09-13T01:24:13.564Z"
   },
   {
    "duration": 6,
    "start_time": "2022-09-13T01:24:13.572Z"
   },
   {
    "duration": 27,
    "start_time": "2022-09-13T01:24:13.579Z"
   },
   {
    "duration": 18,
    "start_time": "2022-09-13T01:24:13.619Z"
   },
   {
    "duration": 14,
    "start_time": "2022-09-13T01:24:13.639Z"
   },
   {
    "duration": 15,
    "start_time": "2022-09-13T01:24:13.655Z"
   },
   {
    "duration": 13,
    "start_time": "2022-09-13T01:24:13.672Z"
   },
   {
    "duration": 2,
    "start_time": "2022-09-13T01:24:13.686Z"
   },
   {
    "duration": 12,
    "start_time": "2022-09-13T01:24:13.704Z"
   },
   {
    "duration": 5,
    "start_time": "2022-09-13T01:24:13.719Z"
   },
   {
    "duration": 5,
    "start_time": "2022-09-13T01:24:13.726Z"
   },
   {
    "duration": 6,
    "start_time": "2022-09-13T01:24:13.733Z"
   },
   {
    "duration": 25,
    "start_time": "2022-09-13T01:24:13.740Z"
   },
   {
    "duration": 10,
    "start_time": "2022-09-13T01:24:13.766Z"
   },
   {
    "duration": 14,
    "start_time": "2022-09-13T01:24:13.777Z"
   },
   {
    "duration": 25,
    "start_time": "2022-09-13T01:24:13.793Z"
   },
   {
    "duration": 8,
    "start_time": "2022-09-13T01:24:29.552Z"
   },
   {
    "duration": 6,
    "start_time": "2022-09-13T01:25:13.590Z"
   },
   {
    "duration": 53,
    "start_time": "2022-09-13T02:15:49.535Z"
   },
   {
    "duration": 14,
    "start_time": "2022-09-13T02:15:49.589Z"
   },
   {
    "duration": 19,
    "start_time": "2022-09-13T02:15:49.604Z"
   },
   {
    "duration": 14,
    "start_time": "2022-09-13T02:15:49.625Z"
   },
   {
    "duration": 16,
    "start_time": "2022-09-13T02:15:49.641Z"
   },
   {
    "duration": 16,
    "start_time": "2022-09-13T02:15:49.659Z"
   },
   {
    "duration": 2,
    "start_time": "2022-09-13T02:15:49.677Z"
   },
   {
    "duration": 38,
    "start_time": "2022-09-13T02:15:49.681Z"
   },
   {
    "duration": 7,
    "start_time": "2022-09-13T02:15:49.721Z"
   },
   {
    "duration": 12,
    "start_time": "2022-09-13T02:15:49.729Z"
   },
   {
    "duration": 9,
    "start_time": "2022-09-13T02:15:49.742Z"
   },
   {
    "duration": 8,
    "start_time": "2022-09-13T02:15:49.753Z"
   },
   {
    "duration": 7,
    "start_time": "2022-09-13T02:15:49.762Z"
   },
   {
    "duration": 4,
    "start_time": "2022-09-13T02:15:49.771Z"
   },
   {
    "duration": 30,
    "start_time": "2022-09-13T02:15:49.777Z"
   },
   {
    "duration": 11,
    "start_time": "2022-09-13T02:15:49.809Z"
   },
   {
    "duration": 11,
    "start_time": "2022-09-13T02:15:49.821Z"
   },
   {
    "duration": 7,
    "start_time": "2022-09-13T02:15:49.833Z"
   },
   {
    "duration": 5,
    "start_time": "2022-09-13T02:15:49.842Z"
   },
   {
    "duration": 9,
    "start_time": "2022-09-13T02:15:49.848Z"
   },
   {
    "duration": 4,
    "start_time": "2022-09-13T02:15:49.859Z"
   },
   {
    "duration": 6,
    "start_time": "2022-09-13T02:15:49.864Z"
   },
   {
    "duration": 6,
    "start_time": "2022-09-13T02:15:49.871Z"
   },
   {
    "duration": 39,
    "start_time": "2022-09-13T02:15:49.878Z"
   },
   {
    "duration": 5,
    "start_time": "2022-09-13T02:15:49.919Z"
   },
   {
    "duration": 9,
    "start_time": "2022-09-13T02:15:49.927Z"
   },
   {
    "duration": 3,
    "start_time": "2022-09-13T02:15:49.937Z"
   },
   {
    "duration": 5,
    "start_time": "2022-09-13T02:15:49.942Z"
   },
   {
    "duration": 13,
    "start_time": "2022-09-13T02:15:49.949Z"
   },
   {
    "duration": 5,
    "start_time": "2022-09-13T02:15:49.963Z"
   },
   {
    "duration": 5,
    "start_time": "2022-09-13T02:15:49.970Z"
   },
   {
    "duration": 38,
    "start_time": "2022-09-13T02:15:49.976Z"
   },
   {
    "duration": 9,
    "start_time": "2022-09-13T02:15:50.016Z"
   },
   {
    "duration": 10,
    "start_time": "2022-09-13T02:15:50.026Z"
   },
   {
    "duration": 5,
    "start_time": "2022-09-13T02:15:50.038Z"
   },
   {
    "duration": 7,
    "start_time": "2022-09-13T02:15:50.044Z"
   },
   {
    "duration": 7,
    "start_time": "2022-09-13T02:15:50.053Z"
   },
   {
    "duration": 8,
    "start_time": "2022-09-13T02:15:50.061Z"
   },
   {
    "duration": 7,
    "start_time": "2022-09-13T02:15:50.070Z"
   },
   {
    "duration": 36,
    "start_time": "2022-09-13T02:15:50.079Z"
   },
   {
    "duration": 10,
    "start_time": "2022-09-13T02:15:50.117Z"
   },
   {
    "duration": 14,
    "start_time": "2022-09-13T02:15:50.129Z"
   },
   {
    "duration": 11,
    "start_time": "2022-09-13T02:15:50.144Z"
   },
   {
    "duration": 8,
    "start_time": "2022-09-13T02:15:50.156Z"
   },
   {
    "duration": 12,
    "start_time": "2022-09-13T02:15:50.166Z"
   },
   {
    "duration": 14,
    "start_time": "2022-09-13T02:15:50.179Z"
   },
   {
    "duration": 26,
    "start_time": "2022-09-13T02:15:50.194Z"
   },
   {
    "duration": 20,
    "start_time": "2022-09-13T02:15:50.222Z"
   },
   {
    "duration": 2,
    "start_time": "2022-09-13T02:15:50.244Z"
   },
   {
    "duration": 6,
    "start_time": "2022-09-13T02:15:50.248Z"
   },
   {
    "duration": 3,
    "start_time": "2022-09-13T02:15:50.259Z"
   },
   {
    "duration": 12,
    "start_time": "2022-09-13T02:15:50.264Z"
   },
   {
    "duration": 9,
    "start_time": "2022-09-13T02:15:50.277Z"
   },
   {
    "duration": 40,
    "start_time": "2022-09-13T02:15:50.287Z"
   },
   {
    "duration": 6,
    "start_time": "2022-09-13T02:15:50.329Z"
   },
   {
    "duration": 14,
    "start_time": "2022-09-13T02:15:50.336Z"
   },
   {
    "duration": 9,
    "start_time": "2022-09-13T02:15:50.351Z"
   },
   {
    "duration": 6,
    "start_time": "2022-09-13T02:15:50.361Z"
   },
   {
    "duration": 4,
    "start_time": "2022-09-13T02:15:50.369Z"
   },
   {
    "duration": 4,
    "start_time": "2022-09-13T02:15:50.374Z"
   },
   {
    "duration": 6,
    "start_time": "2022-09-13T02:15:50.380Z"
   },
   {
    "duration": 31,
    "start_time": "2022-09-13T02:15:50.388Z"
   },
   {
    "duration": 5,
    "start_time": "2022-09-13T02:15:50.420Z"
   },
   {
    "duration": 5,
    "start_time": "2022-09-13T02:15:50.427Z"
   },
   {
    "duration": 4,
    "start_time": "2022-09-13T02:15:50.434Z"
   },
   {
    "duration": 4,
    "start_time": "2022-09-13T02:15:50.440Z"
   },
   {
    "duration": 4,
    "start_time": "2022-09-13T02:15:50.446Z"
   },
   {
    "duration": 4,
    "start_time": "2022-09-13T02:15:50.451Z"
   },
   {
    "duration": 4,
    "start_time": "2022-09-13T02:15:50.457Z"
   },
   {
    "duration": 4,
    "start_time": "2022-09-13T02:15:50.463Z"
   },
   {
    "duration": 4,
    "start_time": "2022-09-13T02:15:50.469Z"
   },
   {
    "duration": 5,
    "start_time": "2022-09-13T02:15:50.474Z"
   },
   {
    "duration": 4,
    "start_time": "2022-09-13T02:15:50.481Z"
   },
   {
    "duration": 150,
    "start_time": "2022-09-13T02:15:50.486Z"
   },
   {
    "duration": 0,
    "start_time": "2022-09-13T02:15:50.638Z"
   },
   {
    "duration": 0,
    "start_time": "2022-09-13T02:15:50.639Z"
   },
   {
    "duration": 0,
    "start_time": "2022-09-13T02:15:50.640Z"
   },
   {
    "duration": 0,
    "start_time": "2022-09-13T02:15:50.641Z"
   },
   {
    "duration": 0,
    "start_time": "2022-09-13T02:15:50.643Z"
   },
   {
    "duration": 0,
    "start_time": "2022-09-13T02:15:50.643Z"
   },
   {
    "duration": 0,
    "start_time": "2022-09-13T02:15:50.644Z"
   },
   {
    "duration": 0,
    "start_time": "2022-09-13T02:15:50.645Z"
   },
   {
    "duration": 0,
    "start_time": "2022-09-13T02:15:50.646Z"
   },
   {
    "duration": 0,
    "start_time": "2022-09-13T02:15:50.647Z"
   },
   {
    "duration": 0,
    "start_time": "2022-09-13T02:15:50.648Z"
   },
   {
    "duration": 0,
    "start_time": "2022-09-13T02:15:50.649Z"
   },
   {
    "duration": 52,
    "start_time": "2022-09-13T03:01:40.050Z"
   },
   {
    "duration": 12,
    "start_time": "2022-09-13T03:01:40.104Z"
   },
   {
    "duration": 12,
    "start_time": "2022-09-13T03:01:40.117Z"
   },
   {
    "duration": 12,
    "start_time": "2022-09-13T03:01:40.131Z"
   },
   {
    "duration": 18,
    "start_time": "2022-09-13T03:01:40.145Z"
   },
   {
    "duration": 18,
    "start_time": "2022-09-13T03:01:40.263Z"
   },
   {
    "duration": 2,
    "start_time": "2022-09-13T03:01:40.283Z"
   },
   {
    "duration": 13,
    "start_time": "2022-09-13T03:01:40.287Z"
   },
   {
    "duration": 6,
    "start_time": "2022-09-13T03:01:40.301Z"
   },
   {
    "duration": 6,
    "start_time": "2022-09-13T03:01:40.309Z"
   },
   {
    "duration": 8,
    "start_time": "2022-09-13T03:01:40.316Z"
   },
   {
    "duration": 6,
    "start_time": "2022-09-13T03:01:40.326Z"
   },
   {
    "duration": 4,
    "start_time": "2022-09-13T03:01:40.346Z"
   },
   {
    "duration": 9,
    "start_time": "2022-09-13T03:01:40.352Z"
   },
   {
    "duration": 4,
    "start_time": "2022-09-13T03:01:40.363Z"
   },
   {
    "duration": 2,
    "start_time": "2022-09-13T03:01:40.493Z"
   },
   {
    "duration": 10,
    "start_time": "2022-09-13T03:01:40.496Z"
   },
   {
    "duration": 52,
    "start_time": "2022-09-13T03:11:45.612Z"
   },
   {
    "duration": 14,
    "start_time": "2022-09-13T03:11:45.665Z"
   },
   {
    "duration": 13,
    "start_time": "2022-09-13T03:11:45.680Z"
   },
   {
    "duration": 13,
    "start_time": "2022-09-13T03:11:45.694Z"
   },
   {
    "duration": 17,
    "start_time": "2022-09-13T03:11:45.709Z"
   },
   {
    "duration": 19,
    "start_time": "2022-09-13T03:11:45.736Z"
   },
   {
    "duration": 3,
    "start_time": "2022-09-13T03:11:45.756Z"
   },
   {
    "duration": 13,
    "start_time": "2022-09-13T03:11:45.760Z"
   },
   {
    "duration": 6,
    "start_time": "2022-09-13T03:11:45.775Z"
   },
   {
    "duration": 5,
    "start_time": "2022-09-13T03:11:45.805Z"
   },
   {
    "duration": 8,
    "start_time": "2022-09-13T03:11:45.812Z"
   },
   {
    "duration": 7,
    "start_time": "2022-09-13T03:11:45.821Z"
   },
   {
    "duration": 6,
    "start_time": "2022-09-13T03:11:45.829Z"
   },
   {
    "duration": 8,
    "start_time": "2022-09-13T03:11:45.836Z"
   },
   {
    "duration": 9,
    "start_time": "2022-09-13T03:11:45.845Z"
   },
   {
    "duration": 3,
    "start_time": "2022-09-13T03:11:45.856Z"
   },
   {
    "duration": 8,
    "start_time": "2022-09-13T03:11:45.860Z"
   },
   {
    "duration": 36,
    "start_time": "2022-09-13T03:11:45.870Z"
   },
   {
    "duration": 35,
    "start_time": "2022-09-13T03:11:45.908Z"
   },
   {
    "duration": 10,
    "start_time": "2022-09-13T03:11:45.945Z"
   },
   {
    "duration": 6,
    "start_time": "2022-09-13T03:11:45.956Z"
   },
   {
    "duration": 7,
    "start_time": "2022-09-13T03:11:45.963Z"
   },
   {
    "duration": 37,
    "start_time": "2022-09-13T03:11:45.971Z"
   },
   {
    "duration": 4,
    "start_time": "2022-09-13T03:11:46.009Z"
   },
   {
    "duration": 8,
    "start_time": "2022-09-13T03:11:46.015Z"
   },
   {
    "duration": 7,
    "start_time": "2022-09-13T03:11:46.026Z"
   },
   {
    "duration": 3,
    "start_time": "2022-09-13T03:11:46.035Z"
   },
   {
    "duration": 7,
    "start_time": "2022-09-13T03:11:46.040Z"
   },
   {
    "duration": 17,
    "start_time": "2022-09-13T03:11:46.048Z"
   },
   {
    "duration": 6,
    "start_time": "2022-09-13T03:11:46.067Z"
   },
   {
    "duration": 32,
    "start_time": "2022-09-13T03:11:46.074Z"
   },
   {
    "duration": 3,
    "start_time": "2022-09-13T03:12:46.983Z"
   },
   {
    "duration": 7,
    "start_time": "2022-09-13T03:12:49.712Z"
   },
   {
    "duration": 5,
    "start_time": "2022-09-13T03:12:54.280Z"
   },
   {
    "duration": 4,
    "start_time": "2022-09-13T03:13:44.059Z"
   },
   {
    "duration": 5,
    "start_time": "2022-09-13T03:13:47.500Z"
   },
   {
    "duration": 6,
    "start_time": "2022-09-13T03:14:18.735Z"
   },
   {
    "duration": 4,
    "start_time": "2022-09-13T03:14:25.227Z"
   },
   {
    "duration": 4,
    "start_time": "2022-09-13T03:14:32.100Z"
   },
   {
    "duration": 7,
    "start_time": "2022-09-13T03:17:35.397Z"
   },
   {
    "duration": 6,
    "start_time": "2022-09-13T03:19:58.509Z"
   },
   {
    "duration": 7,
    "start_time": "2022-09-13T03:20:12.949Z"
   },
   {
    "duration": 7,
    "start_time": "2022-09-13T03:20:23.017Z"
   },
   {
    "duration": 5,
    "start_time": "2022-09-13T03:21:07.712Z"
   },
   {
    "duration": 4,
    "start_time": "2022-09-13T03:21:13.387Z"
   },
   {
    "duration": 5,
    "start_time": "2022-09-13T03:21:16.810Z"
   },
   {
    "duration": 52,
    "start_time": "2022-09-13T03:23:20.692Z"
   },
   {
    "duration": 14,
    "start_time": "2022-09-13T03:23:20.747Z"
   },
   {
    "duration": 11,
    "start_time": "2022-09-13T03:23:20.762Z"
   },
   {
    "duration": 13,
    "start_time": "2022-09-13T03:23:20.775Z"
   },
   {
    "duration": 25,
    "start_time": "2022-09-13T03:23:20.789Z"
   },
   {
    "duration": 20,
    "start_time": "2022-09-13T03:23:20.815Z"
   },
   {
    "duration": 3,
    "start_time": "2022-09-13T03:23:20.837Z"
   },
   {
    "duration": 18,
    "start_time": "2022-09-13T03:23:20.842Z"
   },
   {
    "duration": 20,
    "start_time": "2022-09-13T03:23:20.861Z"
   },
   {
    "duration": 29,
    "start_time": "2022-09-13T03:23:20.883Z"
   },
   {
    "duration": 15,
    "start_time": "2022-09-13T03:23:20.914Z"
   },
   {
    "duration": 11,
    "start_time": "2022-09-13T03:23:20.931Z"
   },
   {
    "duration": 13,
    "start_time": "2022-09-13T03:23:20.943Z"
   },
   {
    "duration": 8,
    "start_time": "2022-09-13T03:23:20.958Z"
   },
   {
    "duration": 9,
    "start_time": "2022-09-13T03:23:20.968Z"
   },
   {
    "duration": 4,
    "start_time": "2022-09-13T03:23:20.978Z"
   },
   {
    "duration": 25,
    "start_time": "2022-09-13T03:23:20.983Z"
   },
   {
    "duration": 13,
    "start_time": "2022-09-13T03:23:21.010Z"
   },
   {
    "duration": 6,
    "start_time": "2022-09-13T03:23:21.025Z"
   },
   {
    "duration": 12,
    "start_time": "2022-09-13T03:23:21.032Z"
   },
   {
    "duration": 10,
    "start_time": "2022-09-13T03:23:21.046Z"
   },
   {
    "duration": 5,
    "start_time": "2022-09-13T03:23:21.058Z"
   },
   {
    "duration": 8,
    "start_time": "2022-09-13T03:23:21.064Z"
   },
   {
    "duration": 34,
    "start_time": "2022-09-13T03:23:21.073Z"
   },
   {
    "duration": 7,
    "start_time": "2022-09-13T03:23:21.109Z"
   },
   {
    "duration": 13,
    "start_time": "2022-09-13T03:23:21.117Z"
   },
   {
    "duration": 3,
    "start_time": "2022-09-13T03:23:21.131Z"
   },
   {
    "duration": 9,
    "start_time": "2022-09-13T03:23:21.136Z"
   },
   {
    "duration": 17,
    "start_time": "2022-09-13T03:23:21.146Z"
   },
   {
    "duration": 7,
    "start_time": "2022-09-13T03:23:21.165Z"
   },
   {
    "duration": 34,
    "start_time": "2022-09-13T03:23:21.174Z"
   },
   {
    "duration": 9,
    "start_time": "2022-09-13T03:23:21.210Z"
   },
   {
    "duration": 10,
    "start_time": "2022-09-13T03:23:21.220Z"
   },
   {
    "duration": 8,
    "start_time": "2022-09-13T03:23:21.232Z"
   },
   {
    "duration": 9,
    "start_time": "2022-09-13T03:23:21.242Z"
   },
   {
    "duration": 5,
    "start_time": "2022-09-13T03:23:21.252Z"
   },
   {
    "duration": 5,
    "start_time": "2022-09-13T03:23:21.259Z"
   },
   {
    "duration": 6,
    "start_time": "2022-09-13T03:23:21.265Z"
   },
   {
    "duration": 5,
    "start_time": "2022-09-13T03:23:21.273Z"
   },
   {
    "duration": 80,
    "start_time": "2022-09-13T03:23:21.280Z"
   },
   {
    "duration": 0,
    "start_time": "2022-09-13T03:23:21.362Z"
   },
   {
    "duration": 0,
    "start_time": "2022-09-13T03:23:21.363Z"
   },
   {
    "duration": 0,
    "start_time": "2022-09-13T03:23:21.364Z"
   },
   {
    "duration": 0,
    "start_time": "2022-09-13T03:23:21.365Z"
   },
   {
    "duration": 0,
    "start_time": "2022-09-13T03:23:21.366Z"
   },
   {
    "duration": 0,
    "start_time": "2022-09-13T03:23:21.368Z"
   },
   {
    "duration": 16,
    "start_time": "2022-09-13T03:23:47.457Z"
   },
   {
    "duration": 53,
    "start_time": "2022-09-13T03:24:04.422Z"
   },
   {
    "duration": 12,
    "start_time": "2022-09-13T03:24:04.476Z"
   },
   {
    "duration": 14,
    "start_time": "2022-09-13T03:24:04.489Z"
   },
   {
    "duration": 22,
    "start_time": "2022-09-13T03:24:04.505Z"
   },
   {
    "duration": 16,
    "start_time": "2022-09-13T03:24:04.529Z"
   },
   {
    "duration": 18,
    "start_time": "2022-09-13T03:24:04.546Z"
   },
   {
    "duration": 3,
    "start_time": "2022-09-13T03:24:04.565Z"
   },
   {
    "duration": 17,
    "start_time": "2022-09-13T03:24:04.569Z"
   },
   {
    "duration": 19,
    "start_time": "2022-09-13T03:24:04.587Z"
   },
   {
    "duration": 7,
    "start_time": "2022-09-13T03:24:04.609Z"
   },
   {
    "duration": 9,
    "start_time": "2022-09-13T03:24:04.617Z"
   },
   {
    "duration": 13,
    "start_time": "2022-09-13T03:24:04.627Z"
   },
   {
    "duration": 9,
    "start_time": "2022-09-13T03:24:04.642Z"
   },
   {
    "duration": 18,
    "start_time": "2022-09-13T03:24:04.652Z"
   },
   {
    "duration": 16,
    "start_time": "2022-09-13T03:24:04.672Z"
   },
   {
    "duration": 23,
    "start_time": "2022-09-13T03:24:04.689Z"
   },
   {
    "duration": 22,
    "start_time": "2022-09-13T03:24:04.713Z"
   },
   {
    "duration": 14,
    "start_time": "2022-09-13T03:24:04.736Z"
   },
   {
    "duration": 15,
    "start_time": "2022-09-13T03:24:04.752Z"
   },
   {
    "duration": 16,
    "start_time": "2022-09-13T03:24:04.768Z"
   },
   {
    "duration": 16,
    "start_time": "2022-09-13T03:24:04.785Z"
   },
   {
    "duration": 14,
    "start_time": "2022-09-13T03:24:04.803Z"
   },
   {
    "duration": 23,
    "start_time": "2022-09-13T03:24:04.818Z"
   },
   {
    "duration": 18,
    "start_time": "2022-09-13T03:24:04.842Z"
   },
   {
    "duration": 20,
    "start_time": "2022-09-13T03:24:04.862Z"
   },
   {
    "duration": 40,
    "start_time": "2022-09-13T03:24:04.883Z"
   },
   {
    "duration": 3,
    "start_time": "2022-09-13T03:24:04.924Z"
   },
   {
    "duration": 19,
    "start_time": "2022-09-13T03:24:04.930Z"
   },
   {
    "duration": 44,
    "start_time": "2022-09-13T03:24:04.950Z"
   },
   {
    "duration": 23,
    "start_time": "2022-09-13T03:24:04.996Z"
   },
   {
    "duration": 22,
    "start_time": "2022-09-13T03:24:05.020Z"
   },
   {
    "duration": 20,
    "start_time": "2022-09-13T03:24:05.043Z"
   },
   {
    "duration": 22,
    "start_time": "2022-09-13T03:24:05.065Z"
   },
   {
    "duration": 19,
    "start_time": "2022-09-13T03:24:05.089Z"
   },
   {
    "duration": 26,
    "start_time": "2022-09-13T03:24:05.110Z"
   },
   {
    "duration": 21,
    "start_time": "2022-09-13T03:24:05.138Z"
   },
   {
    "duration": 25,
    "start_time": "2022-09-13T03:24:05.161Z"
   },
   {
    "duration": 15,
    "start_time": "2022-09-13T03:24:05.188Z"
   },
   {
    "duration": 11,
    "start_time": "2022-09-13T03:24:05.204Z"
   },
   {
    "duration": 72,
    "start_time": "2022-09-13T03:24:05.216Z"
   },
   {
    "duration": 0,
    "start_time": "2022-09-13T03:24:05.289Z"
   },
   {
    "duration": 0,
    "start_time": "2022-09-13T03:24:05.291Z"
   },
   {
    "duration": 0,
    "start_time": "2022-09-13T03:24:05.292Z"
   },
   {
    "duration": 0,
    "start_time": "2022-09-13T03:24:05.293Z"
   },
   {
    "duration": 0,
    "start_time": "2022-09-13T03:24:05.294Z"
   },
   {
    "duration": 14,
    "start_time": "2022-09-13T03:24:09.062Z"
   },
   {
    "duration": 15,
    "start_time": "2022-09-13T03:24:14.357Z"
   },
   {
    "duration": 18,
    "start_time": "2022-09-13T03:24:21.854Z"
   },
   {
    "duration": 15,
    "start_time": "2022-09-13T03:24:25.152Z"
   },
   {
    "duration": 8,
    "start_time": "2022-09-13T03:26:37.713Z"
   },
   {
    "duration": 12,
    "start_time": "2022-09-13T03:26:55.077Z"
   },
   {
    "duration": 52,
    "start_time": "2022-09-13T03:27:31.186Z"
   },
   {
    "duration": 13,
    "start_time": "2022-09-13T03:27:31.239Z"
   },
   {
    "duration": 11,
    "start_time": "2022-09-13T03:27:31.253Z"
   },
   {
    "duration": 13,
    "start_time": "2022-09-13T03:27:31.266Z"
   },
   {
    "duration": 30,
    "start_time": "2022-09-13T03:27:31.280Z"
   },
   {
    "duration": 18,
    "start_time": "2022-09-13T03:27:31.311Z"
   },
   {
    "duration": 3,
    "start_time": "2022-09-13T03:27:31.332Z"
   },
   {
    "duration": 15,
    "start_time": "2022-09-13T03:27:31.336Z"
   },
   {
    "duration": 6,
    "start_time": "2022-09-13T03:27:31.353Z"
   },
   {
    "duration": 6,
    "start_time": "2022-09-13T03:27:31.361Z"
   },
   {
    "duration": 40,
    "start_time": "2022-09-13T03:27:31.369Z"
   },
   {
    "duration": 11,
    "start_time": "2022-09-13T03:27:31.410Z"
   },
   {
    "duration": 8,
    "start_time": "2022-09-13T03:27:31.422Z"
   },
   {
    "duration": 8,
    "start_time": "2022-09-13T03:27:31.431Z"
   },
   {
    "duration": 10,
    "start_time": "2022-09-13T03:27:31.441Z"
   },
   {
    "duration": 11,
    "start_time": "2022-09-13T03:27:31.453Z"
   },
   {
    "duration": 13,
    "start_time": "2022-09-13T03:27:31.466Z"
   },
   {
    "duration": 13,
    "start_time": "2022-09-13T03:27:31.480Z"
   },
   {
    "duration": 12,
    "start_time": "2022-09-13T03:27:31.495Z"
   },
   {
    "duration": 14,
    "start_time": "2022-09-13T03:27:31.509Z"
   },
   {
    "duration": 12,
    "start_time": "2022-09-13T03:27:31.525Z"
   },
   {
    "duration": 10,
    "start_time": "2022-09-13T03:27:31.538Z"
   },
   {
    "duration": 10,
    "start_time": "2022-09-13T03:27:31.549Z"
   },
   {
    "duration": 10,
    "start_time": "2022-09-13T03:27:31.560Z"
   },
   {
    "duration": 8,
    "start_time": "2022-09-13T03:27:31.571Z"
   },
   {
    "duration": 9,
    "start_time": "2022-09-13T03:27:31.580Z"
   },
   {
    "duration": 3,
    "start_time": "2022-09-13T03:27:31.590Z"
   },
   {
    "duration": 11,
    "start_time": "2022-09-13T03:27:31.595Z"
   },
   {
    "duration": 23,
    "start_time": "2022-09-13T03:27:31.607Z"
   },
   {
    "duration": 6,
    "start_time": "2022-09-13T03:27:31.631Z"
   },
   {
    "duration": 5,
    "start_time": "2022-09-13T03:27:31.638Z"
   },
   {
    "duration": 16,
    "start_time": "2022-09-13T03:27:31.645Z"
   },
   {
    "duration": 5,
    "start_time": "2022-09-13T03:27:31.663Z"
   },
   {
    "duration": 7,
    "start_time": "2022-09-13T03:27:31.671Z"
   },
   {
    "duration": 5,
    "start_time": "2022-09-13T03:27:31.679Z"
   },
   {
    "duration": 20,
    "start_time": "2022-09-13T03:27:31.685Z"
   },
   {
    "duration": 4,
    "start_time": "2022-09-13T03:27:31.706Z"
   },
   {
    "duration": 9,
    "start_time": "2022-09-13T03:27:31.711Z"
   },
   {
    "duration": 9,
    "start_time": "2022-09-13T03:27:31.721Z"
   },
   {
    "duration": 88,
    "start_time": "2022-09-13T03:27:31.732Z"
   },
   {
    "duration": 0,
    "start_time": "2022-09-13T03:27:31.821Z"
   },
   {
    "duration": 0,
    "start_time": "2022-09-13T03:27:31.822Z"
   },
   {
    "duration": 0,
    "start_time": "2022-09-13T03:27:31.824Z"
   },
   {
    "duration": 0,
    "start_time": "2022-09-13T03:27:31.824Z"
   },
   {
    "duration": 0,
    "start_time": "2022-09-13T03:27:31.825Z"
   },
   {
    "duration": 0,
    "start_time": "2022-09-13T03:27:31.826Z"
   },
   {
    "duration": 0,
    "start_time": "2022-09-13T03:27:31.827Z"
   },
   {
    "duration": 0,
    "start_time": "2022-09-13T03:27:31.827Z"
   },
   {
    "duration": 0,
    "start_time": "2022-09-13T03:27:31.828Z"
   },
   {
    "duration": 0,
    "start_time": "2022-09-13T03:27:31.829Z"
   }
  ],
  "kernelspec": {
   "display_name": "Python 3 (ipykernel)",
   "language": "python",
   "name": "python3"
  },
  "language_info": {
   "codemirror_mode": {
    "name": "ipython",
    "version": 3
   },
   "file_extension": ".py",
   "mimetype": "text/x-python",
   "name": "python",
   "nbconvert_exporter": "python",
   "pygments_lexer": "ipython3",
   "version": "3.9.5"
  },
  "toc": {
   "base_numbering": 1,
   "nav_menu": {},
   "number_sections": true,
   "sideBar": true,
   "skip_h1_title": true,
   "title_cell": "Table of Contents",
   "title_sidebar": "Contents",
   "toc_cell": false,
   "toc_position": {},
   "toc_section_display": true,
   "toc_window_display": false
  }
 },
 "nbformat": 4,
 "nbformat_minor": 2
}
